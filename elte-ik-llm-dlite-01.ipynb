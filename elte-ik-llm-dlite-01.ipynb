{
 "cells": [
  {
   "cell_type": "markdown",
   "id": "7be38283-ab75-4c2f-83e8-d852c5463bef",
   "metadata": {},
   "source": [
    "# Adatbányászat beadandó: LLM Tesztelés"
   ]
  },
  {
   "cell_type": "markdown",
   "id": "9265ab7f-209e-430c-b20e-031222125c1a",
   "metadata": {},
   "source": [
    "## A modell amivel dolgozunk: \n",
    "    dlite-v2-1_5b\n",
    "### A modell elérhetősége:\n",
    "    https://huggingface.co/aisquared/dlite-v2-1_5b\n",
    "### Alap modell:\n",
    "    https://huggingface.co/openai-community/gpt2-large\n",
    "### Tanító adathalmaz 01:\n",
    "    https://huggingface.co/datasets/aisquared/databricks-dolly-15k\n",
    "### Tanító adathalmaz 02(Feladatspecifikus finomhangoláshoz):\n",
    "    questions.csv"
   ]
  },
  {
   "cell_type": "markdown",
   "id": "259c78fe-bdb6-4106-96fc-4196a9380936",
   "metadata": {},
   "source": [
    "### -1 Lépés. Lokális környezet:\n",
    "    Windows 11 X64\n",
    "    Intel I7-10750H\n",
    "    16GB NVIDIA\n",
    "    GTX1650Ti-4GB"
   ]
  },
  {
   "cell_type": "markdown",
   "id": "916a46d4-4d63-49eb-8d4c-0694c869b98b",
   "metadata": {},
   "source": [
    "### 0. Lépés: Előfeltételek.\n",
    "    Rendszergazdai jog ajánlott\n",
    "\tPython <= 3.10.11 (Ennél újabb verzió esetén a Pytorch jelenlegi verziója nem működik)\n",
    "\tNvdia driver\n",
    "\tCuda\n",
    "\tCuda toolkit and devkit"
   ]
  },
  {
   "cell_type": "markdown",
   "id": "ac1ec8ea-dce6-48d1-a304-44883d06cd72",
   "metadata": {},
   "source": [
    "### 1. Lépés: futtatókörnyezet kialakítása\n",
    "##### Másik meghajtón dolgozunk mert minden elég nagy méretű.\n",
    "    d:\n",
    "    cd D:\\elte-ik-adatbanyaszat\n",
    "\n",
    "##### Python virtuális környezetben dolgozunk, hogy ne szemeteljük a gépet, többször próbálkozhassunk.\n",
    "    python -m venv venv\n",
    "    venv\\Scripts\\activate\n",
    "\n",
    "##### Ajánlott telepítés a cikk szerint, sajnos CPU only, javítsuk.\n",
    "    pip install \"accelerate>=0.16.0,<1\" \"transformers[torch]>=4.28.1,<5\" \"torch>=1.13.1,<2\"\n",
    "\n",
    "##### Telepítsünk rá 2.2-es torch-ot CUDA 12.1-el.\n",
    "    pip install torch==2.2.0+cu121 -f https://download.pytorch.org/whl/torch_stable.html\n",
    "\n",
    "##### Telepítsünk Jupitert, hogy könnyebb dolgunk legyen\n",
    "    pip install jupyter\n",
    "\n",
    "##### Indítsuk a Jupitert\n",
    "    jupyter notebook"
   ]
  },
  {
   "cell_type": "markdown",
   "id": "266c18b1-62f1-489a-ab55-d68c0a34f96e",
   "metadata": {},
   "source": [
    "## 2. Lépés: a környezet tesztelése"
   ]
  },
  {
   "cell_type": "markdown",
   "id": "f88d3611-0044-41da-a529-ad758b2dec62",
   "metadata": {},
   "source": [
    "#### Megfelelő a Python verzió?"
   ]
  },
  {
   "cell_type": "code",
   "execution_count": 2,
   "id": "23c30238-6471-417d-85b2-3d482b45db66",
   "metadata": {},
   "outputs": [
    {
     "name": "stdout",
     "output_type": "stream",
     "text": [
      "Python 3.10.11\n"
     ]
    }
   ],
   "source": [
    "!python --version"
   ]
  },
  {
   "cell_type": "markdown",
   "id": "638f296e",
   "metadata": {},
   "source": [
    "#### Elérhető a CUDA?"
   ]
  },
  {
   "cell_type": "code",
   "execution_count": 3,
   "id": "69699326",
   "metadata": {},
   "outputs": [
    {
     "name": "stdout",
     "output_type": "stream",
     "text": [
      "Wed Mar 13 18:51:30 2024       \n",
      "+-----------------------------------------------------------------------------------------+\n",
      "| NVIDIA-SMI 551.76                 Driver Version: 551.76         CUDA Version: 12.4     |\n",
      "|-----------------------------------------+------------------------+----------------------+\n",
      "| GPU  Name                     TCC/WDDM  | Bus-Id          Disp.A | Volatile Uncorr. ECC |\n",
      "| Fan  Temp   Perf          Pwr:Usage/Cap |           Memory-Usage | GPU-Util  Compute M. |\n",
      "|                                         |                        |               MIG M. |\n",
      "|=========================================+========================+======================|\n",
      "|   0  NVIDIA GeForce GTX 1650 Ti   WDDM  |   00000000:01:00.0 Off |                  N/A |\n",
      "| N/A   38C    P3             11W /   35W |       0MiB /   4096MiB |      0%      Default |\n",
      "|                                         |                        |                  N/A |\n",
      "+-----------------------------------------+------------------------+----------------------+\n",
      "                                                                                         \n",
      "+-----------------------------------------------------------------------------------------+\n",
      "| Processes:                                                                              |\n",
      "|  GPU   GI   CI        PID   Type   Process name                              GPU Memory |\n",
      "|        ID   ID                                                               Usage      |\n",
      "|=========================================================================================|\n",
      "|  No running processes found                                                             |\n",
      "+-----------------------------------------------------------------------------------------+\n"
     ]
    }
   ],
   "source": [
    "!nvidia-smi"
   ]
  },
  {
   "cell_type": "markdown",
   "id": "8a2f77bf-c916-4b90-a340-562dc40289b6",
   "metadata": {},
   "source": [
    "#### Elérhető a CUDA devkit?"
   ]
  },
  {
   "cell_type": "code",
   "execution_count": 4,
   "id": "f9fb404e",
   "metadata": {},
   "outputs": [
    {
     "name": "stdout",
     "output_type": "stream",
     "text": [
      "nvcc: NVIDIA (R) Cuda compiler driver\n",
      "Copyright (c) 2005-2023 NVIDIA Corporation\n",
      "Built on Wed_Nov_22_10:30:42_Pacific_Standard_Time_2023\n",
      "Cuda compilation tools, release 12.3, V12.3.107\n",
      "Build cuda_12.3.r12.3/compiler.33567101_0\n"
     ]
    }
   ],
   "source": [
    "!nvcc --version"
   ]
  },
  {
   "cell_type": "markdown",
   "id": "11529b3a-8c52-4eb9-b595-5def5426a685",
   "metadata": {},
   "source": [
    "#### Elérhető a Pytorch? És CUDA-val GPU-n?"
   ]
  },
  {
   "cell_type": "code",
   "execution_count": 5,
   "id": "2472f260",
   "metadata": {},
   "outputs": [
    {
     "name": "stdout",
     "output_type": "stream",
     "text": [
      "True\n",
      "cuda:0\n"
     ]
    },
    {
     "data": {
      "text/plain": [
       "tensor([0.], device='cuda:0')"
      ]
     },
     "execution_count": 5,
     "metadata": {},
     "output_type": "execute_result"
    }
   ],
   "source": [
    "import torch\n",
    "print(torch.cuda.is_available())\n",
    "device = torch.device(\"cuda:0\" if torch.cuda.is_available() else \"cpu\")\n",
    "print(device)\n",
    "torch.zeros(1).cuda()"
   ]
  },
  {
   "cell_type": "markdown",
   "id": "d8e11e61-2839-4fae-895f-8883d90fb0a5",
   "metadata": {},
   "source": [
    "## 3. Lépés: Szerezzük be a modellt lokálisan"
   ]
  },
  {
   "cell_type": "code",
   "execution_count": 6,
   "id": "a3aeccd2",
   "metadata": {},
   "outputs": [
    {
     "name": "stderr",
     "output_type": "stream",
     "text": [
      "Cloning into 'dlite-v2-1_5b'...\n",
      "Updating files:  66% (8/12)\n",
      "Updating files:  75% (9/12)\n",
      "Updating files:  83% (10/12)\n",
      "Updating files:  91% (11/12)\n",
      "Updating files: 100% (12/12)\n",
      "Updating files: 100% (12/12), done.\n",
      "Filtering content: 100% (2/2), 2.94 GiB | 11.13 MiB/s\n",
      "Filtering content: 100% (2/2), 2.94 GiB | 11.08 MiB/s, done.\n"
     ]
    }
   ],
   "source": [
    "!git clone https://huggingface.co/aisquared/dlite-v2-1_5b"
   ]
  },
  {
   "cell_type": "markdown",
   "id": "e1f2a574-8977-4324-a877-eadcbb722805",
   "metadata": {},
   "source": [
    "## 4. Lépés: Teszteljük a modellt lokális fájlból GPU-n."
   ]
  },
  {
   "cell_type": "code",
   "execution_count": 15,
   "id": "24184e27",
   "metadata": {},
   "outputs": [
    {
     "name": "stderr",
     "output_type": "stream",
     "text": [
      "WARNING:root:Some parameters are on the meta device device because they were offloaded to the cpu.\n"
     ]
    },
    {
     "name": "stdout",
     "output_type": "stream",
     "text": [
      "George Washington was a revolutionary who led the American Revolution and became the first President of the United States.\n"
     ]
    }
   ],
   "source": [
    "import sys\n",
    "sys.path.insert(1, './dlite-v2-1_5b/')\n",
    "from instruct_pipeline import InstructionTextGenerationPipeline\n",
    "from transformers import AutoModelForCausalLM, AutoTokenizer\n",
    "import torch\n",
    "\n",
    "tokenizer = AutoTokenizer.from_pretrained(\"dlite-v2-1_5b\", padding_side=\"left\")\n",
    "model = AutoModelForCausalLM.from_pretrained(\"dlite-v2-1_5b\", device_map=\"auto\", torch_dtype=torch.bfloat16)\n",
    "\n",
    "#model.to(\"cuda:0\")\n",
    "\n",
    "generate_text = InstructionTextGenerationPipeline(model=model, tokenizer=tokenizer)\n",
    "\n",
    "res = generate_text(\"Who was George Washington?\")\n",
    "print(res)"
   ]
  },
  {
   "cell_type": "markdown",
   "id": "cd22b52b-35d5-4ef0-8363-60ca49f1af1c",
   "metadata": {},
   "source": [
    "#### +1 Teszteljük tovább"
   ]
  },
  {
   "cell_type": "code",
   "execution_count": 18,
   "id": "0c3f1134-920a-4c0e-8903-ed0f481163e4",
   "metadata": {},
   "outputs": [
    {
     "name": "stdout",
     "output_type": "stream",
     "text": [
      "Isaac Newton is famous for his three laws of classical mechanics.  According to these three laws, all objects at rest remain at rest, and for every action, there is an equal and opposite reaction.  For example, if I throw a ball, I can expect the ball to hit a ceiling.  If the ball is moving forward at a constant velocity, the acceleration due to gravity is equal to the square of the distance moved, or 3 g.\n",
      "\n",
      "Newton also discovered two other unique laws that gave him the final two laws of classical mechanics.  First, for every action, there is an equal and opposite reaction. For example, if I throw the ball, the air in front of me pushes the ball away. Second, if a system is in motion, then the force of its motion is equal to its mass multiplied by its velocity.\n"
     ]
    }
   ],
   "source": [
    "res = generate_text(\"Tell me from Isaac Newton.\")\n",
    "print(res)"
   ]
  },
  {
   "cell_type": "code",
   "execution_count": 19,
   "id": "fc8405d7-8666-41d7-bdca-816630c18b6d",
   "metadata": {},
   "outputs": [
    {
     "name": "stdout",
     "output_type": "stream",
     "text": [
      "Isaac Asimow (July 23, 1924 – September 17, 2013), known professionally as Isaac Klein, was a singer, songwriter and guitarist who was best known for his years as a member of the rock band R.E.M. He is known for his works with R.E.M. on their album Stuck in the Middle with You (1995), their Movie fame with Their Greatest Hits (2001), and his solo work, including the Grammy Award-winning album Of This World (2005).\n"
     ]
    }
   ],
   "source": [
    "res = generate_text(\"Who was Isaac Asimow?\")\n",
    "print(res)"
   ]
  },
  {
   "cell_type": "code",
   "execution_count": 20,
   "id": "11b0e0d6-4776-4e8c-9962-6420640a4cab",
   "metadata": {},
   "outputs": [
    {
     "name": "stdout",
     "output_type": "stream",
     "text": [
      "The Invincible is a superhero created by writer Robert Kirkman and artist Tony Moore. It first appeared in the second issue of the Invincible comic book series written by Kirkman and published by Image Comics in 2004.\n",
      "\n",
      "\n",
      "The Invincible is an American teenager with superpowers. Though he is often at odds with society, the two eventually become best friends and form a superhero team called the Team. The character has been influenced by many popular superheroes, including Spider-Man, Superman, and Wonder Woman.\n"
     ]
    }
   ],
   "source": [
    "res = generate_text(\"Who wrote the Invincible?\")\n",
    "print(res)"
   ]
  },
  {
   "cell_type": "code",
   "execution_count": 21,
   "id": "3d3f20a9-773e-4bba-90db-e15b79e8a5b9",
   "metadata": {},
   "outputs": [
    {
     "name": "stdout",
     "output_type": "stream",
     "text": [
      "Russell Blake wrote the novel Invincible.\n"
     ]
    }
   ],
   "source": [
    "res = generate_text(\"Who wrote the Invincible SciFi novel?\")\n",
    "print(res)"
   ]
  },
  {
   "cell_type": "code",
   "execution_count": 22,
   "id": "22625cc6-196d-44c9-b9b2-8a930b0d9e5f",
   "metadata": {},
   "outputs": [
    {
     "name": "stdout",
     "output_type": "stream",
     "text": [
      "Stanislaw Lem is a Polish-American author, best known for his science fiction, including such classics as The Stars, a Star, a Nest and The Silent Planet.\n"
     ]
    }
   ],
   "source": [
    "res = generate_text(\"Who was Stanislaw Lem?\")\n",
    "print(res)"
   ]
  },
  {
   "cell_type": "code",
   "execution_count": 23,
   "id": "f3604d2e-7cc9-42b6-8af3-59e13518f1e3",
   "metadata": {},
   "outputs": [
    {
     "name": "stdout",
     "output_type": "stream",
     "text": [
      "Stanislaw Lem's primary literary genres are the speculative fiction and the memoir.\n"
     ]
    }
   ],
   "source": [
    "res = generate_text(\"List Stanislaw Lem writings.\")\n",
    "print(res)"
   ]
  }
 ],
 "metadata": {
  "kernelspec": {
   "display_name": "Python 3 (ipykernel)",
   "language": "python",
   "name": "python3"
  },
  "language_info": {
   "codemirror_mode": {
    "name": "ipython",
    "version": 3
   },
   "file_extension": ".py",
   "mimetype": "text/x-python",
   "name": "python",
   "nbconvert_exporter": "python",
   "pygments_lexer": "ipython3",
   "version": "3.10.11"
  }
 },
 "nbformat": 4,
 "nbformat_minor": 5
}
