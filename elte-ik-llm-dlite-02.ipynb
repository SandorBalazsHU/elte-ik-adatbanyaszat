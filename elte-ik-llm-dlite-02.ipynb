{
 "cells": [
  {
   "cell_type": "markdown",
   "id": "7be38283-ab75-4c2f-83e8-d852c5463bef",
   "metadata": {},
   "source": [
    "# Adatbányászat beadandó"
   ]
  },
  {
   "cell_type": "markdown",
   "id": "9265ab7f-209e-430c-b20e-031222125c1a",
   "metadata": {},
   "source": [
    "## A modell amivel dolgozunk: \n",
    "    dlite-v2-1_5b\n",
    "### A modell elérhetősége:\n",
    "    https://huggingface.co/aisquared/dlite-v2-1_5b\n",
    "### Alap modell:\n",
    "    https://huggingface.co/openai-community/gpt2-large\n",
    "### Tanító adathalmaz 01:\n",
    "    https://huggingface.co/datasets/aisquared/databricks-dolly-15k"
   ]
  },
  {
   "cell_type": "markdown",
   "id": "259c78fe-bdb6-4106-96fc-4196a9380936",
   "metadata": {},
   "source": [
    "### -1 Lépés. Lokális környezet:\n",
    "    Windows 11 X64\n",
    "    Intel I7-10750H\n",
    "    16GB NVIDIA\n",
    "    GTX1650Ti-4GB"
   ]
  },
  {
   "cell_type": "markdown",
   "id": "916a46d4-4d63-49eb-8d4c-0694c869b98b",
   "metadata": {},
   "source": [
    "### 0. Lépés: Előfeltételek.\n",
    "    Rendszergazdai jog ajánlott\n",
    "\tPython <= 3.10.11 (Ennél újabb verzió esetén a Pytorch jelenlegi verziója nem működik)\n",
    "\tNvdia driver\n",
    "\tCuda\n",
    "\tCuda toolkit and devkit"
   ]
  },
  {
   "cell_type": "markdown",
   "id": "ac1ec8ea-dce6-48d1-a304-44883d06cd72",
   "metadata": {},
   "source": [
    "### 1. Lépés: futtatókörnyezet kialakítása\n",
    "##### Másik meghajtón dolgozunk mert minden elég nagy méretű.\n",
    "    d:\n",
    "    cd D:\\elte-ik-adatbanyaszat\n",
    "\n",
    "##### Python virtuális környezetben dolgozunk, hogy ne szemeteljük a gépet, többször próbálkozhassunk.\n",
    "    python -m venv venv\n",
    "    venv\\Scripts\\activate\n",
    "\n",
    "##### Ajánlott telepítés a cikk szerint, sajnos CPU only, javítsuk.\n",
    "    pip install \"accelerate>=0.16.0,<1\" \"transformers[torch]>=4.28.1,<5\" \"torch>=1.13.1,<2\"\n",
    "\n",
    "##### Telepítsünk rá 2.2-es torch-ot CUDA 12.1-el.\n",
    "    pip install torch==2.2.0+cu121 -f https://download.pytorch.org/whl/torch_stable.html\n",
    "\n",
    "##### Telepítsünk Jupitert, hogy könnyebb dolgunk legyen\n",
    "    pip install jupyter\n",
    "\n",
    "##### Indítsuk a Jupitert\n",
    "    jupyter notebook"
   ]
  },
  {
   "cell_type": "markdown",
   "id": "266c18b1-62f1-489a-ab55-d68c0a34f96e",
   "metadata": {},
   "source": [
    "## 2. Lépés: a környezet tesztelése"
   ]
  },
  {
   "cell_type": "markdown",
   "id": "f88d3611-0044-41da-a529-ad758b2dec62",
   "metadata": {},
   "source": [
    "#### Megfelelő a Python verzió?"
   ]
  },
  {
   "cell_type": "code",
   "execution_count": 1,
   "id": "23c30238-6471-417d-85b2-3d482b45db66",
   "metadata": {},
   "outputs": [
    {
     "name": "stdout",
     "output_type": "stream",
     "text": [
      "Python 3.10.11\n"
     ]
    }
   ],
   "source": [
    "!python --version"
   ]
  },
  {
   "cell_type": "markdown",
   "id": "638f296e",
   "metadata": {},
   "source": [
    "#### Elérhető a CUDA?"
   ]
  },
  {
   "cell_type": "code",
   "execution_count": 2,
   "id": "69699326",
   "metadata": {},
   "outputs": [
    {
     "name": "stdout",
     "output_type": "stream",
     "text": [
      "Wed Apr 10 21:33:17 2024       \n",
      "+-----------------------------------------------------------------------------------------+\n",
      "| NVIDIA-SMI 551.86                 Driver Version: 551.86         CUDA Version: 12.4     |\n",
      "|-----------------------------------------+------------------------+----------------------+\n",
      "| GPU  Name                     TCC/WDDM  | Bus-Id          Disp.A | Volatile Uncorr. ECC |\n",
      "| Fan  Temp   Perf          Pwr:Usage/Cap |           Memory-Usage | GPU-Util  Compute M. |\n",
      "|                                         |                        |               MIG M. |\n",
      "|=========================================+========================+======================|\n",
      "|   0  NVIDIA GeForce GTX 1650 Ti   WDDM  |   00000000:01:00.0 Off |                  N/A |\n",
      "| N/A   37C    P8              4W /   50W |       0MiB /   4096MiB |      0%      Default |\n",
      "|                                         |                        |                  N/A |\n",
      "+-----------------------------------------+------------------------+----------------------+\n",
      "                                                                                         \n",
      "+-----------------------------------------------------------------------------------------+\n",
      "| Processes:                                                                              |\n",
      "|  GPU   GI   CI        PID   Type   Process name                              GPU Memory |\n",
      "|        ID   ID                                                               Usage      |\n",
      "|=========================================================================================|\n",
      "|  No running processes found                                                             |\n",
      "+-----------------------------------------------------------------------------------------+\n"
     ]
    }
   ],
   "source": [
    "!nvidia-smi"
   ]
  },
  {
   "cell_type": "markdown",
   "id": "8a2f77bf-c916-4b90-a340-562dc40289b6",
   "metadata": {},
   "source": [
    "#### Elérhető a CUDA devkit?"
   ]
  },
  {
   "cell_type": "code",
   "execution_count": 3,
   "id": "f9fb404e",
   "metadata": {},
   "outputs": [
    {
     "name": "stdout",
     "output_type": "stream",
     "text": [
      "nvcc: NVIDIA (R) Cuda compiler driver\n",
      "Copyright (c) 2005-2023 NVIDIA Corporation\n",
      "Built on Wed_Nov_22_10:30:42_Pacific_Standard_Time_2023\n",
      "Cuda compilation tools, release 12.3, V12.3.107\n",
      "Build cuda_12.3.r12.3/compiler.33567101_0\n"
     ]
    }
   ],
   "source": [
    "!nvcc --version"
   ]
  },
  {
   "cell_type": "markdown",
   "id": "11529b3a-8c52-4eb9-b595-5def5426a685",
   "metadata": {},
   "source": [
    "#### Elérhető a Pytorch? És CUDA-val GPU-n?"
   ]
  },
  {
   "cell_type": "code",
   "execution_count": 4,
   "id": "2472f260",
   "metadata": {},
   "outputs": [
    {
     "name": "stdout",
     "output_type": "stream",
     "text": [
      "True\n",
      "cuda:0\n"
     ]
    },
    {
     "data": {
      "text/plain": [
       "tensor([0.], device='cuda:0')"
      ]
     },
     "execution_count": 4,
     "metadata": {},
     "output_type": "execute_result"
    }
   ],
   "source": [
    "import torch\n",
    "print(torch.cuda.is_available())\n",
    "device = torch.device(\"cuda:0\" if torch.cuda.is_available() else \"cpu\")\n",
    "print(device)\n",
    "torch.zeros(1).cuda()"
   ]
  },
  {
   "cell_type": "markdown",
   "id": "d8e11e61-2839-4fae-895f-8883d90fb0a5",
   "metadata": {},
   "source": [
    "## 3. Lépés: Szerezzük be a modellt lokálisan"
   ]
  },
  {
   "cell_type": "code",
   "execution_count": 6,
   "id": "a3aeccd2",
   "metadata": {},
   "outputs": [
    {
     "name": "stderr",
     "output_type": "stream",
     "text": [
      "Cloning into 'dlite-v2-1_5b'...\n",
      "Updating files:  66% (8/12)\n",
      "Updating files:  75% (9/12)\n",
      "Updating files:  83% (10/12)\n",
      "Updating files:  91% (11/12)\n",
      "Updating files: 100% (12/12)\n",
      "Updating files: 100% (12/12), done.\n",
      "Filtering content: 100% (2/2), 2.94 GiB | 11.13 MiB/s\n",
      "Filtering content: 100% (2/2), 2.94 GiB | 11.08 MiB/s, done.\n"
     ]
    }
   ],
   "source": [
    "!git clone https://huggingface.co/aisquared/dlite-v2-1_5b"
   ]
  },
  {
   "cell_type": "markdown",
   "id": "e1f2a574-8977-4324-a877-eadcbb722805",
   "metadata": {},
   "source": [
    "## 4. Lépés: Teszteljük a modellt lokális fájlból GPU-n."
   ]
  },
  {
   "cell_type": "code",
   "execution_count": 1,
   "id": "24184e27",
   "metadata": {},
   "outputs": [
    {
     "name": "stderr",
     "output_type": "stream",
     "text": [
      "WARNING:root:Some parameters are on the meta device device because they were offloaded to the cpu.\n"
     ]
    }
   ],
   "source": [
    "import sys\n",
    "sys.path.insert(1, './dlite-v2-1_5b/')\n",
    "from instruct_pipeline import InstructionTextGenerationPipeline\n",
    "from transformers import AutoModelForCausalLM, AutoTokenizer\n",
    "import torch\n",
    "\n",
    "tokenizer = AutoTokenizer.from_pretrained(\"dlite-v2-1_5b\", padding_side=\"left\")\n",
    "model = AutoModelForCausalLM.from_pretrained(\"dlite-v2-1_5b\", device_map=\"auto\", torch_dtype=torch.bfloat16)\n",
    "\n",
    "#model.to(\"cuda:0\")\n",
    "\n",
    "generate_text = InstructionTextGenerationPipeline(model=model, tokenizer=tokenizer)"
   ]
  },
  {
   "cell_type": "code",
   "execution_count": 6,
   "id": "c5003b5a-b727-4aa3-8738-bcab10130427",
   "metadata": {},
   "outputs": [
    {
     "name": "stdout",
     "output_type": "stream",
     "text": [
      "George Washington was the first United States President.  He served as our first President from 1789 - 1997 and was a military officer in the American Revolutionary War.  He was also a Founding Father and principal author of our Constitution.  During his time in office he created and established many institutions, such as the U.S. government, the U.S. Postal Service, the National Park Service, the National Institutes of Health, and our currency.  Washington is also one of the three presidents who signed the Bill of Rights into law.\n"
     ]
    }
   ],
   "source": [
    "res = generate_text(\"Who was George Washington?\")\n",
    "print(res)"
   ]
  },
  {
   "cell_type": "markdown",
   "id": "cd22b52b-35d5-4ef0-8363-60ca49f1af1c",
   "metadata": {},
   "source": [
    "#### +1 Teszteljük tovább"
   ]
  },
  {
   "cell_type": "code",
   "execution_count": 18,
   "id": "0c3f1134-920a-4c0e-8903-ed0f481163e4",
   "metadata": {},
   "outputs": [
    {
     "name": "stdout",
     "output_type": "stream",
     "text": [
      "Isaac Newton is famous for his three laws of classical mechanics.  According to these three laws, all objects at rest remain at rest, and for every action, there is an equal and opposite reaction.  For example, if I throw a ball, I can expect the ball to hit a ceiling.  If the ball is moving forward at a constant velocity, the acceleration due to gravity is equal to the square of the distance moved, or 3 g.\n",
      "\n",
      "Newton also discovered two other unique laws that gave him the final two laws of classical mechanics.  First, for every action, there is an equal and opposite reaction. For example, if I throw the ball, the air in front of me pushes the ball away. Second, if a system is in motion, then the force of its motion is equal to its mass multiplied by its velocity.\n"
     ]
    }
   ],
   "source": [
    "res = generate_text(\"Tell me from Isaac Newton.\")\n",
    "print(res)"
   ]
  },
  {
   "cell_type": "code",
   "execution_count": 19,
   "id": "fc8405d7-8666-41d7-bdca-816630c18b6d",
   "metadata": {},
   "outputs": [
    {
     "name": "stdout",
     "output_type": "stream",
     "text": [
      "Isaac Asimow (July 23, 1924 – September 17, 2013), known professionally as Isaac Klein, was a singer, songwriter and guitarist who was best known for his years as a member of the rock band R.E.M. He is known for his works with R.E.M. on their album Stuck in the Middle with You (1995), their Movie fame with Their Greatest Hits (2001), and his solo work, including the Grammy Award-winning album Of This World (2005).\n"
     ]
    }
   ],
   "source": [
    "res = generate_text(\"Who was Isaac Asimow?\")\n",
    "print(res)"
   ]
  },
  {
   "cell_type": "code",
   "execution_count": 20,
   "id": "11b0e0d6-4776-4e8c-9962-6420640a4cab",
   "metadata": {},
   "outputs": [
    {
     "name": "stdout",
     "output_type": "stream",
     "text": [
      "The Invincible is a superhero created by writer Robert Kirkman and artist Tony Moore. It first appeared in the second issue of the Invincible comic book series written by Kirkman and published by Image Comics in 2004.\n",
      "\n",
      "\n",
      "The Invincible is an American teenager with superpowers. Though he is often at odds with society, the two eventually become best friends and form a superhero team called the Team. The character has been influenced by many popular superheroes, including Spider-Man, Superman, and Wonder Woman.\n"
     ]
    }
   ],
   "source": [
    "res = generate_text(\"Who wrote the Invincible?\")\n",
    "print(res)"
   ]
  },
  {
   "cell_type": "code",
   "execution_count": 21,
   "id": "3d3f20a9-773e-4bba-90db-e15b79e8a5b9",
   "metadata": {},
   "outputs": [
    {
     "name": "stdout",
     "output_type": "stream",
     "text": [
      "Russell Blake wrote the novel Invincible.\n"
     ]
    }
   ],
   "source": [
    "res = generate_text(\"Who wrote the Invincible SciFi novel?\")\n",
    "print(res)"
   ]
  },
  {
   "cell_type": "code",
   "execution_count": 22,
   "id": "22625cc6-196d-44c9-b9b2-8a930b0d9e5f",
   "metadata": {},
   "outputs": [
    {
     "name": "stdout",
     "output_type": "stream",
     "text": [
      "Stanislaw Lem is a Polish-American author, best known for his science fiction, including such classics as The Stars, a Star, a Nest and The Silent Planet.\n"
     ]
    }
   ],
   "source": [
    "res = generate_text(\"Who was Stanislaw Lem?\")\n",
    "print(res)"
   ]
  },
  {
   "cell_type": "code",
   "execution_count": 23,
   "id": "f3604d2e-7cc9-42b6-8af3-59e13518f1e3",
   "metadata": {},
   "outputs": [
    {
     "name": "stdout",
     "output_type": "stream",
     "text": [
      "Stanislaw Lem's primary literary genres are the speculative fiction and the memoir.\n"
     ]
    }
   ],
   "source": [
    "res = generate_text(\"List Stanislaw Lem writings.\")\n",
    "print(res)"
   ]
  },
  {
   "cell_type": "markdown",
   "id": "b4306c13-966c-405e-a00f-ca0d3c8e5ea7",
   "metadata": {},
   "source": [
    "#### +2 Mennyire alkalmas szövegek összegzésére?"
   ]
  },
  {
   "cell_type": "code",
   "execution_count": 2,
   "id": "1b21e328-ab76-41ec-8ea7-839a1beea0f5",
   "metadata": {},
   "outputs": [
    {
     "name": "stdout",
     "output_type": "stream",
     "text": [
      "This text provides some background on the Mil Mi-1 helicopter and its upgrade variants. The Mil Mi-1, which began flight testing in September 1948, was a two-seater helicopter powered by a Klimov VK-101 engine with a maximum takeoff weight of 12.2 kg. During its development the Mil bureau gained valuable experience from their experience with the Bristol Sycamore helicopter. During tests in 1949 the helicopter performed well, although a number of manufacturing issues were found and rectified, improving the helicopter's performance during flight.\n",
      "\n",
      "\n",
      "The Mi-1 first flew in the Soviet Union in September 1961, after the Mil bureau had transferred the project to Poland in 1964. First production models were built in PZL-manufactory in 1965, with total production of about 5,497 helicopters.\n"
     ]
    }
   ],
   "source": [
    "res = generate_text(\"Summarize this text: The first production helicopter in the Soviet Union was the Mil Mi-1, modelled along the lines of the S-51 and Bristol Sycamore and flown by Mikhail Mil's bureau in September 1948. During the 1950s it became evident, and confirmed by American and French development, that helicopters could be greatly improved with turbine engines. S. P. Isotov developed the GTD-350 engine and Mil used two of these in the far superior Mi-2. The twin shaft-turbine engines used in the Mi-2 develop 40% more power than the Mi-1's piston engines, for barely half the engine weight, with the result that the payload was more than doubled. The Mi-2 fuselage was extensively altered from its predecessor, with the engines mounted overhead. However, the external dimensions remained similar. The Mil-built prototype first flew in the Soviet Union on 22 September 1961, after the initial development the project was transferred to Poland in 1964. The first Świdnik-built example flew on 4 November 1965 (making this the only Soviet-designed helicopter to be built solely outside the Soviet Union). PZL-Świdnik produced a total of 5,497 helicopters, about a third for military users. The factory also developed fiberglass rotor blades, and developed the wide-body Mi-2M seating 10 passengers instead of eight. Most typical role-change kits include four stretchers for air ambulance usage, or aerospraying or cropdusting applications. In Poland, several specialized military variants were also developed in early 1970s for support or training roles, with 23 mm autocannon, machine guns and/or two 57 mm rocket pods, four 9K11 Malyutka anti-tank missiles or Strela-2 AA missiles.\")\n",
    "print(res)"
   ]
  },
  {
   "cell_type": "code",
   "execution_count": 3,
   "id": "b1a008ae-0d59-4c8e-b48f-dacc414b05db",
   "metadata": {},
   "outputs": [
    {
     "name": "stdout",
     "output_type": "stream",
     "text": [
      "The Mikoyan MiG-29 is a Russian fighter aircraft produced in several variants. It first entered service in 1983 and is primarily designed to defeat modern fighters such as the F-15 Eagle and the General Dynamics F-16 Fighting Falcon.\n"
     ]
    }
   ],
   "source": [
    "res = generate_text(\"Summarize this text in 1 sentence: The Mikoyan MiG-29 (Russian: Микоян МиГ-29; NATO reporting name: Fulcrum) is a twin-engine fighter aircraft designed in the Soviet Union. Developed by the Mikoyan design bureau as an air superiority fighter during the 1970s, the MiG-29, along with the larger Sukhoi Su-27, was developed to counter new U.S. fighters such as the McDonnell Douglas F-15 Eagle and the General Dynamics F-16 Fighting Falcon.[2] The MiG-29 entered service with the Soviet Air Forces in 1983. While originally oriented towards combat against any enemy aircraft, many MiG-29s have been furnished as multirole fighters capable of performing a number of different operations, and are commonly outfitted to use a range of air-to-surface armaments and precision munitions. The MiG-29 has been manufactured in several major variants, including the multirole Mikoyan MiG-29M and the navalised Mikoyan MiG-29K; the most advanced member of the family to date is the Mikoyan MiG-35. Later models frequently feature improved engines, glass cockpits with HOTAS-compatible flight controls, modern radar and infrared search and track (IRST) sensors, and considerably increased fuel capacity; some aircraft have also been equipped for aerial refueling. Following the dissolution of the Soviet Union, the militaries of multiple ex-Soviet republics have continued to operate the MiG-29, the largest of them being the Russian Aerospace Forces. The Russian Aerospace Forces wanted to upgrade its existing fleet to the modernised MiG-29SMT configuration, but financial difficulties have limited deliveries. The MiG-29 has also been a popular export aircraft; more than 30 nations either operate or have operated the aircraft. As of 2024 Flight Global estimates that 809 MiG-29s, of all types, are in service with air forces, making it the 5th most common active fighter.[3]\")\n",
    "print(res)"
   ]
  },
  {
   "cell_type": "code",
   "execution_count": 4,
   "id": "d02e3666-7393-44f6-95b0-23ccb013b846",
   "metadata": {},
   "outputs": [
    {
     "name": "stdout",
     "output_type": "stream",
     "text": [
      "Cassini was a joint project of NASA, ESA (the European Space Agency), and the Italian space agency (ASI). It was an ambitious mission with sophisticated robotic equipment. The mission was 14 years long and ended in September of 2017. The key findings during the mission included a global ocean with strong indications of hydrothermal activity as well as liquid methane seas on Titan.\n"
     ]
    }
   ],
   "source": [
    "res = generate_text(\"Summarize this text short: Cassini was one of the most ambitious efforts ever mounted in planetary exploration. A joint endeavor of NASA, ESA (the European Space Agency), and the Italian space agency (ASI), Cassini was a sophisticated robotic spacecraft sent to study Saturn and its complex system of rings and moons in unprecedented detail. Cassini carried a probe called Huygens to the Saturn system. The probe, which was built by ESA, parachuted to the surface of Saturn’s largest moon, Titan, in January 2005—the most distant landing to date in our solar system. Huygens returned spectacular images and other science results during a two-and-a-half-hour descent through Titan’s hazy atmosphere, before coming to rest amid rounded cobbles of ice on a floodplain damp with liquid methane. Cassini completed its initial four-year mission in June 2008 and earned two mission extensions that enabled the team to delve even deeper into Saturn’s mysteries. Key discoveries during its 13 years at Saturn included a global ocean with strong indications of hydrothermal activity within Enceladus and liquid methane seas on Titan. The mission ended on Sept. 15, 2017.\")\n",
    "print(res)"
   ]
  },
  {
   "cell_type": "markdown",
   "id": "04098bd5-b901-4457-9fed-84b6aec680c9",
   "metadata": {},
   "source": [
    "#### +3 Nem rossz. Vajon ugyanarra a szövegre milyen kéréssel ad jobb kimenetet?"
   ]
  },
  {
   "cell_type": "code",
   "execution_count": 2,
   "id": "ce4a72a0-6cee-4c7e-ac4d-ddf6f6354c52",
   "metadata": {},
   "outputs": [
    {
     "name": "stdout",
     "output_type": "stream",
     "text": [
      "The Sturmgeschütz III-series of vehicles proved very successful and served on all fronts, from Russia to North Africa and Western Europe to Italy, as assault guns and tank destroyers. Because of their low silhouette, StuG IIIs were easy to camouflage and hide, and were difficult targets to destroy. By the end of the war 11,300 StuG IIIs and StuH 42s had been built.\n"
     ]
    }
   ],
   "source": [
    "res = generate_text(\"Summarize this text briefly: The Sturmgeschütz III-series of vehicles proved very successful and served on all fronts, from Russia to North Africa and Western Europe to Italy, as assault guns and tank destroyers. Because of their low silhouette, StuG IIIs were easy to camouflage and hide, and were difficult targets to destroy. By the end of the war 11,300 StuG IIIs and StuH 42s had been built. but due to heavy losses, there were only 1,053 StuG IIIs and 277 StuH 42s remaining in German service by 10 April 1945. The StuG assault guns were cost-effective compared with the heavier German tanks such as the Tiger I and the Panther, although as anti-tank guns they were best used defensively as the lack of a traversable turret and their generally thin armour was a severe disadvantage in the attack role. As the situation for the German military deteriorated further later in the war, more StuGs were built than tanks, particularly due to ease of production. In Italy, the Sturmgeschütz was highly-valued by crews fighting Allied armour, but was dogged by mechanical unreliability; particularly the delicate final drive units. The small box on the track cover, which was normally fixed on the engine deck, contained the track tools.[6] In 1943 and 1944, the Finnish Army received 59 StuG III Ausf. Gs from Germany and used them against the Soviet Union. Thirty of the vehicles were received in 1943 and a further twenty-nine obtained in 1944. The first batch from 1943 destroyed at least eighty-seven enemy tanks for a loss of only eight StuGs (some of which were destroyed by their crews to prevent enemy capture).The later batch from 1944 saw no real action. After the war, the StuGs were the main combat vehicles of the Finnish Army up until the early 1960s when they were phased out. These StuGs gained the nickname Sturmi in the Finnish military, which can be found in some plastic scale-model kits. A StuG III of the Finnish Army in the Heresgeschichtliches Museum in Vienna, Austria. This model has the concrete armor added later by the Finnish Army. A StuG III of the Finnish Army in the Heeresgeschichtliches Museum in Vienna, Austria. This model has the concrete armor added postwar by the Finnish Army. One hundred StuG III Ausf. Gs were delivered to Romania in the autumn of 1943. They were officially known as TAs (or TAs T3 to avoid confusion with TAs T4 (Jagdpanzer IVs)) in their army's inventory. By February 1945, 13 were still in use with the 2nd Armoured Regiment. None of this initial batch survived the war. Thirty-one TAs were on the Romanian military's inventory in November 1947. Most of them were probably StuG III Ausf. Gs and a small number of Panzer IV/70 (V) (same as TAs T4). These TAs were supplied by the Red Army or were damaged units repaired by the Romanian Army. All German equipment was removed from service in 1950 and finally scrapped four years later due to the army's decision to use only Soviet armour. StuG IIIs were also exported to other nations friendly to Germany, including Bulgaria, Hungary, Italy, and Spain. Hungary fielded its StuG IIIs against Soviet forces as they invaded their country in end-1944 up until early 1945. As with Hungary, Bulgaria received several StuGs from Germany too but almost none saw service against the Soviets, the country having ended the alliance with Germany by switching sides to the Allies before the Soviets invaded.\")\n",
    "print(res)"
   ]
  },
  {
   "cell_type": "code",
   "execution_count": 3,
   "id": "bc6fad8e-4b2e-49ba-b56c-522b31ca3709",
   "metadata": {},
   "outputs": [
    {
     "name": "stdout",
     "output_type": "stream",
     "text": [
      "The Sturmgeschütz III-series of vehicles proved very successful and served on all fronts, from Russia to North Africa and Western Europe to Italy, as assault guns and tank destroyers. Because of their low silhouette, StuG IIIs were easy to camouflage and hide, and were difficult targets to destroy.\n"
     ]
    }
   ],
   "source": [
    "res = generate_text(\"Summarize this text in 1 sentence: The Sturmgeschütz III-series of vehicles proved very successful and served on all fronts, from Russia to North Africa and Western Europe to Italy, as assault guns and tank destroyers. Because of their low silhouette, StuG IIIs were easy to camouflage and hide, and were difficult targets to destroy. By the end of the war 11,300 StuG IIIs and StuH 42s had been built. but due to heavy losses, there were only 1,053 StuG IIIs and 277 StuH 42s remaining in German service by 10 April 1945. The StuG assault guns were cost-effective compared with the heavier German tanks such as the Tiger I and the Panther, although as anti-tank guns they were best used defensively as the lack of a traversable turret and their generally thin armour was a severe disadvantage in the attack role. As the situation for the German military deteriorated further later in the war, more StuGs were built than tanks, particularly due to ease of production. In Italy, the Sturmgeschütz was highly-valued by crews fighting Allied armour, but was dogged by mechanical unreliability; particularly the delicate final drive units. The small box on the track cover, which was normally fixed on the engine deck, contained the track tools.[6] In 1943 and 1944, the Finnish Army received 59 StuG III Ausf. Gs from Germany and used them against the Soviet Union. Thirty of the vehicles were received in 1943 and a further twenty-nine obtained in 1944. The first batch from 1943 destroyed at least eighty-seven enemy tanks for a loss of only eight StuGs (some of which were destroyed by their crews to prevent enemy capture).The later batch from 1944 saw no real action. After the war, the StuGs were the main combat vehicles of the Finnish Army up until the early 1960s when they were phased out. These StuGs gained the nickname Sturmi in the Finnish military, which can be found in some plastic scale-model kits. A StuG III of the Finnish Army in the Heresgeschichtliches Museum in Vienna, Austria. This model has the concrete armor added later by the Finnish Army. A StuG III of the Finnish Army in the Heeresgeschichtliches Museum in Vienna, Austria. This model has the concrete armor added postwar by the Finnish Army. One hundred StuG III Ausf. Gs were delivered to Romania in the autumn of 1943. They were officially known as TAs (or TAs T3 to avoid confusion with TAs T4 (Jagdpanzer IVs)) in their army's inventory. By February 1945, 13 were still in use with the 2nd Armoured Regiment. None of this initial batch survived the war. Thirty-one TAs were on the Romanian military's inventory in November 1947. Most of them were probably StuG III Ausf. Gs and a small number of Panzer IV/70 (V) (same as TAs T4). These TAs were supplied by the Red Army or were damaged units repaired by the Romanian Army. All German equipment was removed from service in 1950 and finally scrapped four years later due to the army's decision to use only Soviet armour. StuG IIIs were also exported to other nations friendly to Germany, including Bulgaria, Hungary, Italy, and Spain. Hungary fielded its StuG IIIs against Soviet forces as they invaded their country in end-1944 up until early 1945. As with Hungary, Bulgaria received several StuGs from Germany too but almost none saw service against the Soviets, the country having ended the alliance with Germany by switching sides to the Allies before the Soviets invaded.\")\n",
    "print(res)"
   ]
  },
  {
   "cell_type": "code",
   "execution_count": 4,
   "id": "3268286a-140e-4242-b350-08e3550157ae",
   "metadata": {},
   "outputs": [
    {
     "name": "stdout",
     "output_type": "stream",
     "text": [
      "Sturmgeschütz III - series vehicles were extremely successful and served on all fronts from Russia to North Africa and Western Europe to Italy, as assault guns and tank destroyers. Because of their low silhouette, StuG IIIs were easy to camouflage and hide, and were difficult targets to destroy. The Sturmgeschütz III-series of vehicles proved very successful and served on all fronts, from Russia to North Africa and Western Europe to Italy, as assault guns and tank destroyers. Because of their low silhouette, StuG IIIs were easy to camouflage and hide, and were difficult targets to destroy.\n"
     ]
    }
   ],
   "source": [
    "res = generate_text(\"Summarize this text short: The Sturmgeschütz III-series of vehicles proved very successful and served on all fronts, from Russia to North Africa and Western Europe to Italy, as assault guns and tank destroyers. Because of their low silhouette, StuG IIIs were easy to camouflage and hide, and were difficult targets to destroy. By the end of the war 11,300 StuG IIIs and StuH 42s had been built. but due to heavy losses, there were only 1,053 StuG IIIs and 277 StuH 42s remaining in German service by 10 April 1945. The StuG assault guns were cost-effective compared with the heavier German tanks such as the Tiger I and the Panther, although as anti-tank guns they were best used defensively as the lack of a traversable turret and their generally thin armour was a severe disadvantage in the attack role. As the situation for the German military deteriorated further later in the war, more StuGs were built than tanks, particularly due to ease of production. In Italy, the Sturmgeschütz was highly-valued by crews fighting Allied armour, but was dogged by mechanical unreliability; particularly the delicate final drive units. The small box on the track cover, which was normally fixed on the engine deck, contained the track tools.[6] In 1943 and 1944, the Finnish Army received 59 StuG III Ausf. Gs from Germany and used them against the Soviet Union. Thirty of the vehicles were received in 1943 and a further twenty-nine obtained in 1944. The first batch from 1943 destroyed at least eighty-seven enemy tanks for a loss of only eight StuGs (some of which were destroyed by their crews to prevent enemy capture).The later batch from 1944 saw no real action. After the war, the StuGs were the main combat vehicles of the Finnish Army up until the early 1960s when they were phased out. These StuGs gained the nickname Sturmi in the Finnish military, which can be found in some plastic scale-model kits. A StuG III of the Finnish Army in the Heresgeschichtliches Museum in Vienna, Austria. This model has the concrete armor added later by the Finnish Army. A StuG III of the Finnish Army in the Heeresgeschichtliches Museum in Vienna, Austria. This model has the concrete armor added postwar by the Finnish Army. One hundred StuG III Ausf. Gs were delivered to Romania in the autumn of 1943. They were officially known as TAs (or TAs T3 to avoid confusion with TAs T4 (Jagdpanzer IVs)) in their army's inventory. By February 1945, 13 were still in use with the 2nd Armoured Regiment. None of this initial batch survived the war. Thirty-one TAs were on the Romanian military's inventory in November 1947. Most of them were probably StuG III Ausf. Gs and a small number of Panzer IV/70 (V) (same as TAs T4). These TAs were supplied by the Red Army or were damaged units repaired by the Romanian Army. All German equipment was removed from service in 1950 and finally scrapped four years later due to the army's decision to use only Soviet armour. StuG IIIs were also exported to other nations friendly to Germany, including Bulgaria, Hungary, Italy, and Spain. Hungary fielded its StuG IIIs against Soviet forces as they invaded their country in end-1944 up until early 1945. As with Hungary, Bulgaria received several StuGs from Germany too but almost none saw service against the Soviets, the country having ended the alliance with Germany by switching sides to the Allies before the Soviets invaded.\")\n",
    "print(res)"
   ]
  },
  {
   "cell_type": "code",
   "execution_count": 5,
   "id": "4cd73f64-5365-4e39-9077-3b22f48cb39c",
   "metadata": {},
   "outputs": [
    {
     "name": "stdout",
     "output_type": "stream",
     "text": [
      "This text is about: The Sturmgeschütz III-series of vehicles proved very successful and served on all fronts, from Russia to North Africa and Western Europe to Italy, as assault guns and tank destroyers. Because of their low silhouette, StuG IIIs were easy to camouflage and hide, and were difficult targets to destroy. By the end of the war 11,300 StuG IIIs and StuH 42s had been built.\n"
     ]
    }
   ],
   "source": [
    "res = generate_text(\"What is this text about: The Sturmgeschütz III-series of vehicles proved very successful and served on all fronts, from Russia to North Africa and Western Europe to Italy, as assault guns and tank destroyers. Because of their low silhouette, StuG IIIs were easy to camouflage and hide, and were difficult targets to destroy. By the end of the war 11,300 StuG IIIs and StuH 42s had been built. but due to heavy losses, there were only 1,053 StuG IIIs and 277 StuH 42s remaining in German service by 10 April 1945. The StuG assault guns were cost-effective compared with the heavier German tanks such as the Tiger I and the Panther, although as anti-tank guns they were best used defensively as the lack of a traversable turret and their generally thin armour was a severe disadvantage in the attack role. As the situation for the German military deteriorated further later in the war, more StuGs were built than tanks, particularly due to ease of production. In Italy, the Sturmgeschütz was highly-valued by crews fighting Allied armour, but was dogged by mechanical unreliability; particularly the delicate final drive units. The small box on the track cover, which was normally fixed on the engine deck, contained the track tools.[6] In 1943 and 1944, the Finnish Army received 59 StuG III Ausf. Gs from Germany and used them against the Soviet Union. Thirty of the vehicles were received in 1943 and a further twenty-nine obtained in 1944. The first batch from 1943 destroyed at least eighty-seven enemy tanks for a loss of only eight StuGs (some of which were destroyed by their crews to prevent enemy capture).The later batch from 1944 saw no real action. After the war, the StuGs were the main combat vehicles of the Finnish Army up until the early 1960s when they were phased out. These StuGs gained the nickname Sturmi in the Finnish military, which can be found in some plastic scale-model kits. A StuG III of the Finnish Army in the Heresgeschichtliches Museum in Vienna, Austria. This model has the concrete armor added later by the Finnish Army. A StuG III of the Finnish Army in the Heeresgeschichtliches Museum in Vienna, Austria. This model has the concrete armor added postwar by the Finnish Army. One hundred StuG III Ausf. Gs were delivered to Romania in the autumn of 1943. They were officially known as TAs (or TAs T3 to avoid confusion with TAs T4 (Jagdpanzer IVs)) in their army's inventory. By February 1945, 13 were still in use with the 2nd Armoured Regiment. None of this initial batch survived the war. Thirty-one TAs were on the Romanian military's inventory in November 1947. Most of them were probably StuG III Ausf. Gs and a small number of Panzer IV/70 (V) (same as TAs T4). These TAs were supplied by the Red Army or were damaged units repaired by the Romanian Army. All German equipment was removed from service in 1950 and finally scrapped four years later due to the army's decision to use only Soviet armour. StuG IIIs were also exported to other nations friendly to Germany, including Bulgaria, Hungary, Italy, and Spain. Hungary fielded its StuG IIIs against Soviet forces as they invaded their country in end-1944 up until early 1945. As with Hungary, Bulgaria received several StuGs from Germany too but almost none saw service against the Soviets, the country having ended the alliance with Germany by switching sides to the Allies before the Soviets invaded.\")\n",
    "print(res)"
   ]
  },
  {
   "cell_type": "markdown",
   "id": "265312b6-af6f-4b12-a942-f90b5210fe52",
   "metadata": {},
   "source": [
    "#### Melyik promt a legjobb eddig?\n",
    "Eddig ez a legjobb: Summarize this text in 1 sentence: "
   ]
  },
  {
   "cell_type": "markdown",
   "id": "6563844b-031f-40f9-845c-824325a09fed",
   "metadata": {},
   "source": [
    "## 5. Lépés: Próbáljuk meg tanítani a saját adathalmazunkkal?"
   ]
  },
  {
   "cell_type": "markdown",
   "id": "16d60fad",
   "metadata": {},
   "source": [
    "Megnézendő: https://huggingface.co/docs/transformers/en/training\n",
    "Tanítsuk egy kérdés adatbázissal? Van egy.\n",
    "CSV-ben társítva."
   ]
  },
  {
   "cell_type": "markdown",
   "id": "18685cca-3b38-47a3-b809-367eb9bce75c",
   "metadata": {},
   "source": [
    "Esetleg használható dataset: https://huggingface.co/datasets/mandarjoshi/trivia_qa"
   ]
  },
  {
   "cell_type": "markdown",
   "id": "cce4e0a6-a7ed-4e1f-bec8-b36871398ce8",
   "metadata": {},
   "source": [
    "Ötletek alkalmazáshoz:\n",
    "\n",
    "Chatbot: Készíthetsz egy chatbotot, amely képes valós idejű kommunikációra és válaszadásra felhasználókkal. Ez lehet egy általános célú chatbot, vagy specializáltabb, például egy tech support vagy tanácsadó chatbot.\n",
    "\n",
    "Tartalom generálás: Használhatod a GPT-2-t új tartalmak generálására, például cikkek, novellák, versek stb. létrehozására. Ez különösen hasznos lehet, ha olyan platformot üzemeltetsz, amely folyamatosan friss tartalmakra van szükség.\n",
    "\n",
    "Automatikus cím generálás: Fejleszthetsz egy rendszert, amely automatikusan generál címeket cikkekhez vagy blogbejegyzésekhez a megadott témában.\n",
    "\n",
    "Segéd a kreatív íráshoz: Készíthetsz egy eszközt, amely segít a kreatív írásban, például ötleteket ad szókincsre, témákra vagy cselekményekre.\n",
    "\n",
    "Kérdés-válasz rendszer: Implementálhatsz egy rendszert, amely képes válaszolni felhasználók által feltett kérdésekre. Ez hasznos lehet például FAQ oldalakon vagy oktató rendszerekben.\n",
    "\n",
    "Idézet generálás: Készíthetsz egy alkalmazást, amely idézeteket generál különböző témákban vagy hírességektől.\n",
    "\n",
    "Nyelvi modellek finomhangolása: Finomhangolhatod a GPT-2-t saját adatokon vagy speciális feladatokra, például jogi dokumentumok, orvosi szövegek vagy pénzügyi jelentések kezelésére.\n",
    "\n",
    "Párbeszédgenerálás játékokban: Integrálhatod a GPT-2-t párbeszédgenerálásra játékokba, interaktív történetekbe vagy szerepjátékokba.\n",
    "\n",
    "Reklám- vagy termékleírás-generálás: Automatizálhatod a reklám vagy termékleírások generálását az egyes termékek vagy szolgáltatások alapján.\n",
    "\n",
    "Nyelvi támogatás: Készíthetsz egy alkalmazást, amely nyelvi segítséget nyújt az embereknek, például nyelvtanuláshoz vagy fordításhoz."
   ]
  },
  {
   "cell_type": "markdown",
   "id": "952fe75e-4e22-44d1-adf6-fd216cf264b3",
   "metadata": {},
   "source": [
    "Ötlet: Versíró segéd? Kulcsszavakra részleteket generál?\n",
    "Szöveg rövidítő, összegző.\n",
    "Cím generátor."
   ]
  },
  {
   "cell_type": "markdown",
   "id": "bd67ca87-1ff0-47d4-995f-aaa5b2aeff9c",
   "metadata": {},
   "source": [
    "Ezekhez dataset?"
   ]
  },
  {
   "cell_type": "markdown",
   "id": "f762ca8e-ca51-4f44-9369-032809cca770",
   "metadata": {},
   "source": [
    "### Szöveg összegzés tesztelése sikeres volt. Erre jó lenne."
   ]
  },
  {
   "cell_type": "markdown",
   "id": "8dfc14b4-da61-4fac-8e33-2b361b59ec22",
   "metadata": {},
   "source": [
    "#### Chrome extension-t kelene fejleszteni:\n",
    "\n",
    "https://developer.chrome.com/docs/extensions/get-started/tutorial/hello-world\n",
    "\n",
    "https://stackoverflow.com/questions/4376167/text-selection-and-display-in-context-menu-chrome-extension"
   ]
  },
  {
   "cell_type": "markdown",
   "id": "05fd77a9-6477-4057-abb7-5582d90c3cba",
   "metadata": {},
   "source": [
    "#### Tudjon többet is?\n",
    "* Foglald össze OK Tesztelve\n",
    "* Adj kulcsszavakat\n",
    "* Adj címet neki\n",
    "  Teszteljük ezeket\n"
   ]
  },
  {
   "cell_type": "code",
   "execution_count": 6,
   "id": "38b73b27-63fc-4517-a97e-c0533884c4d9",
   "metadata": {},
   "outputs": [
    {
     "name": "stdout",
     "output_type": "stream",
     "text": [
      "The Sturmgeschütz III-series of vehicles proved very successful and served on all fronts, from Russia to North Africa and Western Europe to Italy, as assault guns and tank destroyers. Because of their low silhouette, StuG IIIs were easy to camouflage and hide, and were difficult targets to destroy. By the end of the war 11,300 StuG IIIs and StuH 42s had been built.\n"
     ]
    }
   ],
   "source": [
    "res = generate_text(\"Give this text a title: The Sturmgeschütz III-series of vehicles proved very successful and served on all fronts, from Russia to North Africa and Western Europe to Italy, as assault guns and tank destroyers. Because of their low silhouette, StuG IIIs were easy to camouflage and hide, and were difficult targets to destroy. By the end of the war 11,300 StuG IIIs and StuH 42s had been built. but due to heavy losses, there were only 1,053 StuG IIIs and 277 StuH 42s remaining in German service by 10 April 1945. The StuG assault guns were cost-effective compared with the heavier German tanks such as the Tiger I and the Panther, although as anti-tank guns they were best used defensively as the lack of a traversable turret and their generally thin armour was a severe disadvantage in the attack role. As the situation for the German military deteriorated further later in the war, more StuGs were built than tanks, particularly due to ease of production. In Italy, the Sturmgeschütz was highly-valued by crews fighting Allied armour, but was dogged by mechanical unreliability; particularly the delicate final drive units. The small box on the track cover, which was normally fixed on the engine deck, contained the track tools.[6] In 1943 and 1944, the Finnish Army received 59 StuG III Ausf. Gs from Germany and used them against the Soviet Union. Thirty of the vehicles were received in 1943 and a further twenty-nine obtained in 1944. The first batch from 1943 destroyed at least eighty-seven enemy tanks for a loss of only eight StuGs (some of which were destroyed by their crews to prevent enemy capture).The later batch from 1944 saw no real action. After the war, the StuGs were the main combat vehicles of the Finnish Army up until the early 1960s when they were phased out. These StuGs gained the nickname Sturmi in the Finnish military, which can be found in some plastic scale-model kits. A StuG III of the Finnish Army in the Heresgeschichtliches Museum in Vienna, Austria. This model has the concrete armor added later by the Finnish Army. A StuG III of the Finnish Army in the Heeresgeschichtliches Museum in Vienna, Austria. This model has the concrete armor added postwar by the Finnish Army. One hundred StuG III Ausf. Gs were delivered to Romania in the autumn of 1943. They were officially known as TAs (or TAs T3 to avoid confusion with TAs T4 (Jagdpanzer IVs)) in their army's inventory. By February 1945, 13 were still in use with the 2nd Armoured Regiment. None of this initial batch survived the war. Thirty-one TAs were on the Romanian military's inventory in November 1947. Most of them were probably StuG III Ausf. Gs and a small number of Panzer IV/70 (V) (same as TAs T4). These TAs were supplied by the Red Army or were damaged units repaired by the Romanian Army. All German equipment was removed from service in 1950 and finally scrapped four years later due to the army's decision to use only Soviet armour. StuG IIIs were also exported to other nations friendly to Germany, including Bulgaria, Hungary, Italy, and Spain. Hungary fielded its StuG IIIs against Soviet forces as they invaded their country in end-1944 up until early 1945. As with Hungary, Bulgaria received several StuGs from Germany too but almost none saw service against the Soviets, the country having ended the alliance with Germany by switching sides to the Allies before the Soviets invaded.\")\n",
    "print(res)"
   ]
  },
  {
   "cell_type": "code",
   "execution_count": 7,
   "id": "f8498da7-0fae-4d93-b09d-b4aafd034254",
   "metadata": {},
   "outputs": [
    {
     "name": "stdout",
     "output_type": "stream",
     "text": [
      "Sturmgeschütz, Sturmgeschütz, The Sturmgeschütz, III series, vehicles, Allied forces, Soviet Union\n"
     ]
    }
   ],
   "source": [
    "res = generate_text(\"Give keywords for this text: The Sturmgeschütz III-series of vehicles proved very successful and served on all fronts, from Russia to North Africa and Western Europe to Italy, as assault guns and tank destroyers. Because of their low silhouette, StuG IIIs were easy to camouflage and hide, and were difficult targets to destroy. By the end of the war 11,300 StuG IIIs and StuH 42s had been built. but due to heavy losses, there were only 1,053 StuG IIIs and 277 StuH 42s remaining in German service by 10 April 1945. The StuG assault guns were cost-effective compared with the heavier German tanks such as the Tiger I and the Panther, although as anti-tank guns they were best used defensively as the lack of a traversable turret and their generally thin armour was a severe disadvantage in the attack role. As the situation for the German military deteriorated further later in the war, more StuGs were built than tanks, particularly due to ease of production. In Italy, the Sturmgeschütz was highly-valued by crews fighting Allied armour, but was dogged by mechanical unreliability; particularly the delicate final drive units. The small box on the track cover, which was normally fixed on the engine deck, contained the track tools.[6] In 1943 and 1944, the Finnish Army received 59 StuG III Ausf. Gs from Germany and used them against the Soviet Union. Thirty of the vehicles were received in 1943 and a further twenty-nine obtained in 1944. The first batch from 1943 destroyed at least eighty-seven enemy tanks for a loss of only eight StuGs (some of which were destroyed by their crews to prevent enemy capture).The later batch from 1944 saw no real action. After the war, the StuGs were the main combat vehicles of the Finnish Army up until the early 1960s when they were phased out. These StuGs gained the nickname Sturmi in the Finnish military, which can be found in some plastic scale-model kits. A StuG III of the Finnish Army in the Heresgeschichtliches Museum in Vienna, Austria. This model has the concrete armor added later by the Finnish Army. A StuG III of the Finnish Army in the Heeresgeschichtliches Museum in Vienna, Austria. This model has the concrete armor added postwar by the Finnish Army. One hundred StuG III Ausf. Gs were delivered to Romania in the autumn of 1943. They were officially known as TAs (or TAs T3 to avoid confusion with TAs T4 (Jagdpanzer IVs)) in their army's inventory. By February 1945, 13 were still in use with the 2nd Armoured Regiment. None of this initial batch survived the war. Thirty-one TAs were on the Romanian military's inventory in November 1947. Most of them were probably StuG III Ausf. Gs and a small number of Panzer IV/70 (V) (same as TAs T4). These TAs were supplied by the Red Army or were damaged units repaired by the Romanian Army. All German equipment was removed from service in 1950 and finally scrapped four years later due to the army's decision to use only Soviet armour. StuG IIIs were also exported to other nations friendly to Germany, including Bulgaria, Hungary, Italy, and Spain. Hungary fielded its StuG IIIs against Soviet forces as they invaded their country in end-1944 up until early 1945. As with Hungary, Bulgaria received several StuGs from Germany too but almost none saw service against the Soviets, the country having ended the alliance with Germany by switching sides to the Allies before the Soviets invaded.\")\n",
    "print(res)"
   ]
  },
  {
   "cell_type": "code",
   "execution_count": 8,
   "id": "d2f54bff-7fc7-47c5-b119-660581659a19",
   "metadata": {},
   "outputs": [
    {
     "name": "stdout",
     "output_type": "stream",
     "text": [
      "The Sturmgeschütz III-series of vehicles proved very successful and served on all fronts, from Russia to North Africa and Western Europe to Italy, as assault guns and tank destroyers. Because of their low silhouette, StuG IIIs were easy to camouflage and hide, and were difficult targets to destroy. By the end of the war 11,300 StuG IIIs and StuH 42s had been built. but due to heavy losses, there were only 1,053 StuG IIIs and 277 StuH 42s remaining in German service by 10 April 1945.\n"
     ]
    }
   ],
   "source": [
    "res = generate_text(\"Give this text a 2 word tittle: The Sturmgeschütz III-series of vehicles proved very successful and served on all fronts, from Russia to North Africa and Western Europe to Italy, as assault guns and tank destroyers. Because of their low silhouette, StuG IIIs were easy to camouflage and hide, and were difficult targets to destroy. By the end of the war 11,300 StuG IIIs and StuH 42s had been built. but due to heavy losses, there were only 1,053 StuG IIIs and 277 StuH 42s remaining in German service by 10 April 1945. The StuG assault guns were cost-effective compared with the heavier German tanks such as the Tiger I and the Panther, although as anti-tank guns they were best used defensively as the lack of a traversable turret and their generally thin armour was a severe disadvantage in the attack role. As the situation for the German military deteriorated further later in the war, more StuGs were built than tanks, particularly due to ease of production. In Italy, the Sturmgeschütz was highly-valued by crews fighting Allied armour, but was dogged by mechanical unreliability; particularly the delicate final drive units. The small box on the track cover, which was normally fixed on the engine deck, contained the track tools.[6] In 1943 and 1944, the Finnish Army received 59 StuG III Ausf. Gs from Germany and used them against the Soviet Union. Thirty of the vehicles were received in 1943 and a further twenty-nine obtained in 1944. The first batch from 1943 destroyed at least eighty-seven enemy tanks for a loss of only eight StuGs (some of which were destroyed by their crews to prevent enemy capture).The later batch from 1944 saw no real action. After the war, the StuGs were the main combat vehicles of the Finnish Army up until the early 1960s when they were phased out. These StuGs gained the nickname Sturmi in the Finnish military, which can be found in some plastic scale-model kits. A StuG III of the Finnish Army in the Heresgeschichtliches Museum in Vienna, Austria. This model has the concrete armor added later by the Finnish Army. A StuG III of the Finnish Army in the Heeresgeschichtliches Museum in Vienna, Austria. This model has the concrete armor added postwar by the Finnish Army. One hundred StuG III Ausf. Gs were delivered to Romania in the autumn of 1943. They were officially known as TAs (or TAs T3 to avoid confusion with TAs T4 (Jagdpanzer IVs)) in their army's inventory. By February 1945, 13 were still in use with the 2nd Armoured Regiment. None of this initial batch survived the war. Thirty-one TAs were on the Romanian military's inventory in November 1947. Most of them were probably StuG III Ausf. Gs and a small number of Panzer IV/70 (V) (same as TAs T4). These TAs were supplied by the Red Army or were damaged units repaired by the Romanian Army. All German equipment was removed from service in 1950 and finally scrapped four years later due to the army's decision to use only Soviet armour. StuG IIIs were also exported to other nations friendly to Germany, including Bulgaria, Hungary, Italy, and Spain. Hungary fielded its StuG IIIs against Soviet forces as they invaded their country in end-1944 up until early 1945. As with Hungary, Bulgaria received several StuGs from Germany too but almost none saw service against the Soviets, the country having ended the alliance with Germany by switching sides to the Allies before the Soviets invaded.\")\n",
    "print(res)"
   ]
  },
  {
   "cell_type": "markdown",
   "id": "62751c1d-b83d-49d8-94a9-7945be58811e",
   "metadata": {},
   "source": [
    "### Mi kell? Gyűjtsük össze."
   ]
  },
  {
   "cell_type": "markdown",
   "id": "1861ca20-50a1-4a24-904e-5e9c4dde7fa8",
   "metadata": {},
   "source": [
    "Sajnos 1024-es token limit van, kell egy token counter. Nézzük csak.\n"
   ]
  },
  {
   "cell_type": "code",
   "execution_count": 16,
   "id": "cf5ba90b-5769-4cfc-83d9-23d5e9780882",
   "metadata": {},
   "outputs": [
    {
     "name": "stdout",
     "output_type": "stream",
     "text": [
      "{'input_ids': [23318, 26286, 329, 428, 2420, 25, 383, 26783, 76, 3212, 354, 9116, 22877, 6711, 12, 25076, 286, 5672, 8302, 845, 4388, 290, 4983, 319, 477, 29324, 11, 422, 3284, 284, 2258, 5478, 290, 4885, 2031, 284, 8031, 11, 355, 4641, 6541, 290, 6873, 4117, 364, 13, 4362, 286, 511, 1877, 41834, 11, 520, 84, 38, 2873, 3792, 547, 2562, 284, 37353, 290, 7808, 11, 290, 547, 2408, 6670, 284, 4117, 13, 2750, 262, 886, 286, 262, 1175, 1367, 11, 6200, 520, 84, 38, 2873, 3792, 290, 520, 84, 39, 5433, 82, 550, 587, 3170, 13, 475, 2233, 284, 4334, 9089, 11, 612, 547, 691, 352, 11, 2713, 18, 520, 84, 38, 2873, 3792, 290, 38703, 520, 84, 39, 5433, 82, 5637, 287, 2679, 2139, 416, 838, 3035, 15761, 13, 383, 520, 84, 38, 4641, 6541, 547, 1575, 12, 16803, 3688, 351, 262, 20140, 2679, 11657, 884, 355, 262, 17030, 314, 290, 262, 30364, 11, 3584, 355, 3098, 12, 28451, 6541, 484, 547, 1266, 973, 33352, 355, 262, 3092, 286, 257, 33038, 540, 28101, 290, 511, 4143, 7888, 18588, 373, 257, 6049, 21407, 287, 262, 1368, 2597, 13, 1081, 262, 3074, 329, 262, 2679, 2422, 44525, 2252, 1568, 287, 262, 1175, 11, 517, 520, 84, 33884, 547, 3170, 621, 11657, 11, 3573, 2233, 284, 10152, 286, 3227, 13, 554, 8031, 11, 262, 26783, 76, 3212, 354, 9116, 22877, 373, 4047, 12, 39728, 416, 18936, 4330, 28234, 18588, 11, 475, 373, 44443, 416, 12370, 23232, 12455, 26, 3573, 262, 19217, 2457, 3708, 4991, 13, 383, 1402, 3091, 319, 262, 2610, 3002, 11, 543, 373, 7685, 5969, 319, 262, 3113, 6203, 11, 7763, 262, 2610, 4899, 3693, 21, 60, 554, 21577, 290, 16994, 11, 262, 26838, 5407, 2722, 7863, 520, 84, 38, 6711, 27545, 69, 13, 402, 82, 422, 4486, 290, 973, 606, 1028, 262, 7570, 4479, 13, 29948, 286, 262, 5672, 547, 2722, 287, 21577, 290, 257, 2252, 8208, 12, 30888, 6492, 287, 16994, 13, 383, 717, 15458, 422, 21577, 6572, 379, 1551, 37516, 12, 26548, 4472, 11657, 329, 257, 2994, 286, 691, 3624, 520, 84, 33884, 357, 11246, 286, 543, 547, 6572, 416, 511, 18936, 284, 2948, 4472, 8006, 737, 464, 1568, 15458, 422, 16994, 2497, 645, 1103, 2223, 13, 2293, 262, 1175, 11, 262, 520, 84, 33884, 547, 262, 1388, 5249, 5672, 286, 262, 26838, 5407, 510, 1566, 262, 1903, 9507, 82, 618, 484, 547, 41716, 503, 13, 2312, 520, 84, 33884, 8618, 262, 21814, 26783, 11632, 287, 262, 26838, 2422, 11, 543, 460, 307, 1043, 287, 617, 7309, 5046, 12, 19849, 19183, 13, 317, 520, 84, 38, 6711, 286, 262, 26838, 5407, 287, 262, 679, 411, 3212, 354, 30830, 677, 956, 9594, 287, 23825, 11, 17322, 13, 770, 2746, 468, 262, 10017, 8328, 2087, 1568, 416, 262, 26838, 5407, 13, 317, 520, 84, 38, 6711, 286, 262, 26838, 5407, 287, 262, 679, 68, 411, 3212, 354, 30830, 677, 956, 9594, 287, 23825, 11, 17322, 13, 770, 2746, 468, 262, 10017, 8328, 2087, 44060, 416, 262, 26838, 5407, 13, 1881, 3470, 520, 84, 38, 6711, 27545, 69, 13, 402, 82, 547, 6793, 284, 23356, 287, 262, 23608, 286, 21577, 13, 1119, 547, 8720, 1900, 355, 309, 1722, 357, 273, 309, 1722, 309, 18, 284, 3368, 10802, 351, 309, 1722, 309, 19, 357, 41, 363, 67, 6839, 9107, 8363, 82, 4008, 287, 511, 5428, 338, 13184, 13, 2750, 3945, 15761, 11, 1511, 547, 991, 287, 779, 351, 262, 362, 358, 7057, 8167, 35588, 13, 6045, 286, 428, 4238, 15458, 11803, 262, 1175, 13, 29948, 12, 505, 309, 1722, 547, 319, 262, 34344, 2422, 338, 13184, 287, 3389, 21709, 13, 4042, 286, 606, 547, 2192, 520, 84, 38, 6711, 27545, 69, 13, 402, 82, 290, 257, 1402, 1271, 286, 46294, 8363, 14, 2154, 357, 53, 8, 357, 31642, 355, 309, 1722, 309, 19, 737, 2312, 309, 1722, 547, 14275, 416, 262, 2297, 5407, 393, 547, 9694, 4991, 27457, 416, 262, 34344, 5407, 13, 1439, 2679, 5112, 373, 4615, 422, 2139, 287, 11445, 290, 3443, 35034, 1440, 812, 1568, 2233, 284, 262, 5428, 338, 2551, 284, 779, 691, 7570, 18588, 13, 520, 84, 38, 2873, 3792, 547, 635, 29050, 284, 584, 7027, 8030, 284, 4486, 11, 1390, 27902, 11, 19562, 11, 8031, 11, 290, 8602, 13, 19562, 49407, 663, 520, 84, 38, 2873, 3792, 1028, 7570, 3386, 355, 484, 26466, 511, 1499, 287, 886, 12, 1129, 2598, 510, 1566, 1903, 15761, 13, 1081, 351, 19562, 11, 27902, 2722, 1811, 520, 84, 33884, 422, 4486, 1165, 475, 2048, 4844, 2497, 2139, 1028, 262, 31062, 11, 262, 1499, 1719, 4444, 262, 12801, 351, 4486, 416, 15430, 5389, 284, 262, 32430, 878, 262, 31062, 26466, 13], 'attention_mask': [1, 1, 1, 1, 1, 1, 1, 1, 1, 1, 1, 1, 1, 1, 1, 1, 1, 1, 1, 1, 1, 1, 1, 1, 1, 1, 1, 1, 1, 1, 1, 1, 1, 1, 1, 1, 1, 1, 1, 1, 1, 1, 1, 1, 1, 1, 1, 1, 1, 1, 1, 1, 1, 1, 1, 1, 1, 1, 1, 1, 1, 1, 1, 1, 1, 1, 1, 1, 1, 1, 1, 1, 1, 1, 1, 1, 1, 1, 1, 1, 1, 1, 1, 1, 1, 1, 1, 1, 1, 1, 1, 1, 1, 1, 1, 1, 1, 1, 1, 1, 1, 1, 1, 1, 1, 1, 1, 1, 1, 1, 1, 1, 1, 1, 1, 1, 1, 1, 1, 1, 1, 1, 1, 1, 1, 1, 1, 1, 1, 1, 1, 1, 1, 1, 1, 1, 1, 1, 1, 1, 1, 1, 1, 1, 1, 1, 1, 1, 1, 1, 1, 1, 1, 1, 1, 1, 1, 1, 1, 1, 1, 1, 1, 1, 1, 1, 1, 1, 1, 1, 1, 1, 1, 1, 1, 1, 1, 1, 1, 1, 1, 1, 1, 1, 1, 1, 1, 1, 1, 1, 1, 1, 1, 1, 1, 1, 1, 1, 1, 1, 1, 1, 1, 1, 1, 1, 1, 1, 1, 1, 1, 1, 1, 1, 1, 1, 1, 1, 1, 1, 1, 1, 1, 1, 1, 1, 1, 1, 1, 1, 1, 1, 1, 1, 1, 1, 1, 1, 1, 1, 1, 1, 1, 1, 1, 1, 1, 1, 1, 1, 1, 1, 1, 1, 1, 1, 1, 1, 1, 1, 1, 1, 1, 1, 1, 1, 1, 1, 1, 1, 1, 1, 1, 1, 1, 1, 1, 1, 1, 1, 1, 1, 1, 1, 1, 1, 1, 1, 1, 1, 1, 1, 1, 1, 1, 1, 1, 1, 1, 1, 1, 1, 1, 1, 1, 1, 1, 1, 1, 1, 1, 1, 1, 1, 1, 1, 1, 1, 1, 1, 1, 1, 1, 1, 1, 1, 1, 1, 1, 1, 1, 1, 1, 1, 1, 1, 1, 1, 1, 1, 1, 1, 1, 1, 1, 1, 1, 1, 1, 1, 1, 1, 1, 1, 1, 1, 1, 1, 1, 1, 1, 1, 1, 1, 1, 1, 1, 1, 1, 1, 1, 1, 1, 1, 1, 1, 1, 1, 1, 1, 1, 1, 1, 1, 1, 1, 1, 1, 1, 1, 1, 1, 1, 1, 1, 1, 1, 1, 1, 1, 1, 1, 1, 1, 1, 1, 1, 1, 1, 1, 1, 1, 1, 1, 1, 1, 1, 1, 1, 1, 1, 1, 1, 1, 1, 1, 1, 1, 1, 1, 1, 1, 1, 1, 1, 1, 1, 1, 1, 1, 1, 1, 1, 1, 1, 1, 1, 1, 1, 1, 1, 1, 1, 1, 1, 1, 1, 1, 1, 1, 1, 1, 1, 1, 1, 1, 1, 1, 1, 1, 1, 1, 1, 1, 1, 1, 1, 1, 1, 1, 1, 1, 1, 1, 1, 1, 1, 1, 1, 1, 1, 1, 1, 1, 1, 1, 1, 1, 1, 1, 1, 1, 1, 1, 1, 1, 1, 1, 1, 1, 1, 1, 1, 1, 1, 1, 1, 1, 1, 1, 1, 1, 1, 1, 1, 1, 1, 1, 1, 1, 1, 1, 1, 1, 1, 1, 1, 1, 1, 1, 1, 1, 1, 1, 1, 1, 1, 1, 1, 1, 1, 1, 1, 1, 1, 1, 1, 1, 1, 1, 1, 1, 1, 1, 1, 1, 1, 1, 1, 1, 1, 1, 1, 1, 1, 1, 1, 1, 1, 1, 1, 1, 1, 1, 1, 1, 1, 1, 1, 1, 1, 1, 1, 1, 1, 1, 1, 1, 1, 1, 1, 1, 1, 1, 1, 1, 1, 1, 1, 1, 1, 1, 1, 1, 1, 1, 1, 1, 1, 1, 1, 1, 1, 1, 1, 1, 1, 1, 1, 1, 1, 1, 1, 1, 1, 1, 1, 1, 1, 1, 1, 1, 1, 1, 1, 1, 1, 1, 1, 1, 1, 1, 1, 1, 1, 1, 1, 1, 1, 1, 1, 1, 1, 1, 1, 1, 1, 1, 1, 1, 1, 1, 1, 1, 1, 1, 1, 1, 1, 1, 1, 1, 1, 1, 1, 1, 1, 1, 1, 1, 1, 1, 1, 1, 1, 1, 1, 1, 1, 1, 1, 1, 1, 1, 1, 1, 1, 1, 1, 1, 1, 1, 1, 1, 1, 1, 1, 1, 1, 1, 1, 1, 1, 1, 1, 1, 1, 1, 1, 1, 1, 1, 1, 1, 1, 1, 1, 1, 1, 1, 1, 1, 1, 1, 1, 1, 1, 1, 1, 1, 1, 1, 1, 1, 1, 1, 1, 1, 1, 1, 1, 1, 1, 1, 1, 1, 1, 1, 1, 1]}\n"
     ]
    }
   ],
   "source": [
    "tokens = tokenizer(\"Give keywords for this text: The Sturmgeschütz III-series of vehicles proved very successful and served on all fronts, from Russia to North Africa and Western Europe to Italy, as assault guns and tank destroyers. Because of their low silhouette, StuG IIIs were easy to camouflage and hide, and were difficult targets to destroy. By the end of the war 11,300 StuG IIIs and StuH 42s had been built. but due to heavy losses, there were only 1,053 StuG IIIs and 277 StuH 42s remaining in German service by 10 April 1945. The StuG assault guns were cost-effective compared with the heavier German tanks such as the Tiger I and the Panther, although as anti-tank guns they were best used defensively as the lack of a traversable turret and their generally thin armour was a severe disadvantage in the attack role. As the situation for the German military deteriorated further later in the war, more StuGs were built than tanks, particularly due to ease of production. In Italy, the Sturmgeschütz was highly-valued by crews fighting Allied armour, but was dogged by mechanical unreliability; particularly the delicate final drive units. The small box on the track cover, which was normally fixed on the engine deck, contained the track tools.[6] In 1943 and 1944, the Finnish Army received 59 StuG III Ausf. Gs from Germany and used them against the Soviet Union. Thirty of the vehicles were received in 1943 and a further twenty-nine obtained in 1944. The first batch from 1943 destroyed at least eighty-seven enemy tanks for a loss of only eight StuGs (some of which were destroyed by their crews to prevent enemy capture).The later batch from 1944 saw no real action. After the war, the StuGs were the main combat vehicles of the Finnish Army up until the early 1960s when they were phased out. These StuGs gained the nickname Sturmi in the Finnish military, which can be found in some plastic scale-model kits. A StuG III of the Finnish Army in the Heresgeschichtliches Museum in Vienna, Austria. This model has the concrete armor added later by the Finnish Army. A StuG III of the Finnish Army in the Heeresgeschichtliches Museum in Vienna, Austria. This model has the concrete armor added postwar by the Finnish Army. One hundred StuG III Ausf. Gs were delivered to Romania in the autumn of 1943. They were officially known as TAs (or TAs T3 to avoid confusion with TAs T4 (Jagdpanzer IVs)) in their army's inventory. By February 1945, 13 were still in use with the 2nd Armoured Regiment. None of this initial batch survived the war. Thirty-one TAs were on the Romanian military's inventory in November 1947. Most of them were probably StuG III Ausf. Gs and a small number of Panzer IV/70 (V) (same as TAs T4). These TAs were supplied by the Red Army or were damaged units repaired by the Romanian Army. All German equipment was removed from service in 1950 and finally scrapped four years later due to the army's decision to use only Soviet armour. StuG IIIs were also exported to other nations friendly to Germany, including Bulgaria, Hungary, Italy, and Spain. Hungary fielded its StuG IIIs against Soviet forces as they invaded their country in end-1944 up until early 1945. As with Hungary, Bulgaria received several StuGs from Germany too but almost none saw service against the Soviets, the country having ended the alliance with Germany by switching sides to the Allies before the Soviets invaded.\")\n",
    "print(tokens)"
   ]
  },
  {
   "cell_type": "code",
   "execution_count": 19,
   "id": "88e7e308-fbec-4c68-8e1f-ea02045f751c",
   "metadata": {},
   "outputs": [
    {
     "name": "stderr",
     "output_type": "stream",
     "text": [
      "Token indices sequence length is longer than the specified maximum sequence length for this model (2396 > 1024). Running this sequence through the model will result in indexing errors\n"
     ]
    },
    {
     "name": "stdout",
     "output_type": "stream",
     "text": [
      "2396\n"
     ]
    }
   ],
   "source": [
    "tokens = tokenizer(\"Lorem ipsum dolor sit amet, consectetur adipiscing elit. In a ipsum eget erat pharetra facilisis ac sit amet massa. Nulla venenatis nisl diam. Cras feugiat fermentum mauris, vel semper enim blandit aliquam. Quisque laoreet, nisl in aliquet hendrerit, justo mi volutpat nisi, sed molestie ligula turpis sed est. Quisque vitae tortor laoreet mi pulvinar luctus quis et eros. Suspendisse efficitur, nisl in auctor dignissim, erat velit interdum nulla, nec volutpat lacus mauris feugiat mauris. Pellentesque et est lobortis, pulvinar libero vel, tempor sem. Integer tempus sagittis erat tempus ultrices. Ut luctus, ante vel feugiat mattis, lectus augue gravida ex, id ultricies est tortor sit amet justo. Vivamus accumsan libero lorem, eu rhoncus purus blandit in. Sed in nibh tristique, iaculis risus in, dignissim lorem. In hac habitasse platea dictumst. Praesent tristique sit amet ante eu ultrices. Sed commodo luctus rhoncus. Phasellus at tellus at dolor consequat bibendum. Pellentesque ut mauris tempus odio lobortis pharetra eget vel ligula. Donec commodo maximus libero quis finibus. Pellentesque vehicula gravida commodo. Vivamus elementum sit amet nisl non vulputate. Aliquam nec velit pretium, congue libero a, imperdiet eros. Praesent egestas sem vitae justo maximus, vitae convallis metus bibendum. Pellentesque nec luctus libero, vitae auctor lorem. Mauris eros massa, placerat a fringilla tincidunt, eleifend pretium ipsum. Nulla euismod elit non nulla pellentesque, vel dignissim mi vestibulum. Curabitur tincidunt libero vel suscipit pellentesque. Duis lacinia at leo eu dictum. Curabitur dapibus tristique orci quis pharetra. Praesent vel venenatis erat. Donec tempus, libero a tincidunt elementum, odio nulla scelerisque quam, sed molestie odio arcu a elit. Nunc nec metus turpis. Sed ornare, mauris id scelerisque placerat, nibh nisl blandit neque, sit amet imperdiet lectus justo mattis ipsum. Curabitur sit amet mi ex. Cras quis lobortis libero. Mauris eget nisl vestibulum nisl gravida egestas. Vivamus lobortis dictum mi at sollicitudin. Donec facilisis, ante at condimentum aliquet, nisl ex rhoncus est, id dignissim sem eros nec nisi. Suspendisse pulvinar, risus quis malesuada varius, enim libero vehicula justo, at consequat ipsum mauris nec odio. Integer at turpis rhoncus, fringilla augue sed, vestibulum mauris. Vivamus aliquet augue nisl, non accumsan urna cursus eget. Praesent porttitor porta arcu at fermentum. Mauris nec lobortis metus, eu faucibus nulla. Integer nisl mi, congue quis condimentum vitae, consequat et ipsum. Nulla sit amet fringilla mi, ut placerat quam. Aliquam a erat purus. Cras ac neque ornare, semper ligula id, posuere sem. Etiam feugiat tortor sit amet feugiat semper. Cras elementum tempus nunc, quis molestie diam aliquam id. Duis vitae venenatis mi. Ut vitae auctor lectus, quis hendrerit sem. Suspendisse at egestas dui. Ut molestie ante in luctus elementum. Aenean efficitur at lacus id gravida. Vivamus ultricies, dui ut posuere feugiat, sem metus vulputate ligula, id rutrum libero metus nec purus. Sed bibendum libero lacus, in venenatis elit pellentesque quis. Nam vitae eleifend est, sed viverra magna. Ut sit amet orci dictum, porttitor ante sed, ultricies sem. Curabitur at magna ac quam cursus tincidunt vitae eget risus. Sed at turpis erat. Vivamus at aliquam libero, sed rutrum enim. Suspendisse lorem mauris, molestie ac tempus quis, mollis sed est. Sed scelerisque urna nec urna condimentum, elementum mattis neque dignissim. Mauris pretium tincidunt est, ac viverra sem ultricies eu. Quisque vitae lacus at arcu aliquet imperdiet. Morbi nec elit nulla. Donec non pellentesque turpis, eget sodales arcu. Fusce sit amet dolor vel velit accumsan facilisis quis at massa. Cras aliquam tortor ac nulla mollis molestie. Cras ac tortor quis nisi fringilla ultrices. Nunc convallis ultrices arcu non feugiat. Nam non arcu odio. Duis viverra efficitur eros, at malesuada quam pretium ut. Vivamus facilisis vitae tortor nec volutpat. Phasellus efficitur mollis mauris. Quisque id augue neque. Quisque maximus odio non nunc tristique luctus. Phasellus justo quam, iaculis eget eros sit amet, posuere luctus diam. Proin dolor neque, ultrices sit amet risus at, bibendum maximus lectus. Donec urna turpis, malesuada id nibh vitae, pretium suscipit quam. Cras non consequat massa. Mauris pulvinar et metus ut viverra. Mauris ut laoreet metus. Nunc magna erat, fringilla ac augue ut, iaculis cursus magna. Nullam eu velit vel lorem tincidunt accumsan vitae eu nisl. Ut consequat sodales ipsum, in tempus tortor luctus varius. Sed aliquam tellus vitae lorem pellentesque malesuada. Proin scelerisque nibh sit amet nunc lobortis tincidunt. Etiam sapien lacus, placerat nec ex sed, ultricies hendrerit urna. Proin aliquam aliquet mattis. Phasellus luctus mollis ex, id pharetra ante feugiat et. Suspendisse potenti. Nunc interdum malesuada est ut fringilla. Pellentesque sed sapien eget risus scelerisque congue. Cras vulputate mauris eget rhoncus porttitor. Mauris aliquam ornare pellentesque. Curabitur quis nibh ligula. Donec ornare ipsum urna, eu tempus orci feugiat non. In vulputate nisl id sem mollis, in accumsan nulla dapibus. Fusce accumsan, purus sit amet tristique volutpat, neque turpis ornare enim, vel elementum est nibh in odio. Pellentesque habitant morbi tristique senectus et netus et malesuada fames ac turpis egestas. Praesent ac urna massa. Praesent at eros ornare, vehicula elit quis, vestibulum ex. Mauris accumsan eu enim at commodo. Integer blandit id justo sit amet mollis. Donec vel orci erat. Mauris sed leo nec dolor fringilla fermentum. Integer odio nibh, convallis ac tincidunt eu, posuere vitae justo. Quisque diam eros, ullamcorper at tortor non, tristique blandit felis. Fusce non nunc ac risus vestibulum eleifend. Nunc at tortor eget neque pulvinar cursus sed id dolor. In lobortis dui tincidunt justo vehicula finibus. Nam laoreet nulla nec sagittis posuere. Aenean risus arcu, pretium in erat non, rhoncus volutpat tellus. Donec varius et neque id facilisis. Morbi commodo turpis non mi ultrices, id fermentum lacus scelerisque. Ut faucibus pharetra ornare. Proin sit amet eros nec quam suscipit semper. Quisque nec lectus sem. Curabitur sit amet augue dui. Nulla in ex aliquet, pellentesque lectus consequat, volutpat tellus. Nullam fermentum tellus elit. Sed ullamcorper ligula turpis, at luctus lorem faucibus id. Sed euismod lorem non malesuada congue. In hac habitasse platea dictumst. In ultricies, felis in consectetur dignissim, purus dolor blandit orci, nec sodales ligula turpis nec tortor. Nulla sit amet libero id arcu luctus egestas eget id sem. In hac habitasse platea dictumst. Cras sodales, ipsum non tincidunt sodales, elit ipsum ultricies nunc, at efficitur lorem metus sed odio. Nunc sodales, mauris in elementum.\")\n",
    "print(len(tokens.attention_mask))"
   ]
  },
  {
   "cell_type": "markdown",
   "id": "1654d947-847d-42bd-8e5d-92a69c03f119",
   "metadata": {},
   "source": [
    "#### Ez jó lesz ellenőrzésre"
   ]
  },
  {
   "cell_type": "markdown",
   "id": "b1d29121-d9b2-46a8-a624-ae7a3b26c1e6",
   "metadata": {},
   "source": [
    "Kell egy webszerver ami GET kérésre válaszolni tud. Nézzük csak."
   ]
  },
  {
   "cell_type": "code",
   "execution_count": 22,
   "id": "a51deced-551b-42c2-ab37-d18402617b10",
   "metadata": {},
   "outputs": [
    {
     "name": "stdout",
     "output_type": "stream",
     "text": [
      "Collecting flask\n",
      "  Downloading flask-3.0.3-py3-none-any.whl (101 kB)\n",
      "     ---------------------------------------- 0.0/101.7 kB ? eta -:--:--\n",
      "     ----------------------------------- --- 92.2/101.7 kB 2.6 MB/s eta 0:00:01\n",
      "     -------------------------------------- 101.7/101.7 kB 1.5 MB/s eta 0:00:00\n",
      "Collecting Werkzeug>=3.0.0\n",
      "  Downloading werkzeug-3.0.2-py3-none-any.whl (226 kB)\n",
      "     ---------------------------------------- 0.0/226.8 kB ? eta -:--:--\n",
      "     -------------------- ----------------- 122.9/226.8 kB 2.4 MB/s eta 0:00:01\n",
      "     -------------------------------------- 226.8/226.8 kB 3.4 MB/s eta 0:00:00\n",
      "Collecting blinker>=1.6.2\n",
      "  Downloading blinker-1.7.0-py3-none-any.whl (13 kB)\n",
      "Requirement already satisfied: Jinja2>=3.1.2 in d:\\elte-ik-adatbanyaszat\\venv\\lib\\site-packages (from flask) (3.1.3)\n",
      "Collecting itsdangerous>=2.1.2\n",
      "  Downloading itsdangerous-2.1.2-py3-none-any.whl (15 kB)\n",
      "Collecting click>=8.1.3\n",
      "  Downloading click-8.1.7-py3-none-any.whl (97 kB)\n",
      "     ---------------------------------------- 0.0/97.9 kB ? eta -:--:--\n",
      "     ---------------------------------------- 97.9/97.9 kB 5.8 MB/s eta 0:00:00\n",
      "Requirement already satisfied: colorama in d:\\elte-ik-adatbanyaszat\\venv\\lib\\site-packages (from click>=8.1.3->flask) (0.4.6)\n",
      "Requirement already satisfied: MarkupSafe>=2.0 in d:\\elte-ik-adatbanyaszat\\venv\\lib\\site-packages (from Jinja2>=3.1.2->flask) (2.1.5)\n",
      "Installing collected packages: Werkzeug, itsdangerous, click, blinker, flask\n",
      "Successfully installed Werkzeug-3.0.2 blinker-1.7.0 click-8.1.7 flask-3.0.3 itsdangerous-2.1.2\n"
     ]
    },
    {
     "name": "stderr",
     "output_type": "stream",
     "text": [
      "WARNING: There was an error checking the latest version of pip.\n"
     ]
    }
   ],
   "source": [
    "!pip install flask"
   ]
  },
  {
   "cell_type": "code",
   "execution_count": 25,
   "id": "8b20e92b-00c5-40d7-98d8-786cc1b70127",
   "metadata": {},
   "outputs": [
    {
     "name": "stdout",
     "output_type": "stream",
     "text": [
      " * Serving Flask app '__main__'\n",
      " * Debug mode: off\n"
     ]
    },
    {
     "name": "stderr",
     "output_type": "stream",
     "text": [
      "INFO:werkzeug:\u001b[31m\u001b[1mWARNING: This is a development server. Do not use it in a production deployment. Use a production WSGI server instead.\u001b[0m\n",
      " * Running on http://127.0.0.1:5000\n",
      "INFO:werkzeug:\u001b[33mPress CTRL+C to quit\u001b[0m\n",
      "INFO:werkzeug:127.0.0.1 - - [10/Apr/2024 22:54:59] \"GET /date HTTP/1.1\" 200 -\n"
     ]
    }
   ],
   "source": [
    "from flask import Flask, jsonify\n",
    "import subprocess\n",
    "\n",
    "app = Flask(__name__)\n",
    "\n",
    "@app.route('/date', methods=['GET'])\n",
    "def get_date():\n",
    "    return jsonify({'date': 'iTS WORKING'})\n",
    "\n",
    "if __name__ == '__main__':\n",
    "    app.run()"
   ]
  },
  {
   "cell_type": "code",
   "execution_count": 3,
   "id": "2ab0ae72-4f5a-4e9b-bce4-5b25873b319e",
   "metadata": {},
   "outputs": [
    {
     "name": "stdout",
     "output_type": "stream",
     "text": [
      " * Serving Flask app '__main__'\n",
      " * Debug mode: off\n"
     ]
    },
    {
     "name": "stderr",
     "output_type": "stream",
     "text": [
      "INFO:werkzeug:\u001b[31m\u001b[1mWARNING: This is a development server. Do not use it in a production deployment. Use a production WSGI server instead.\u001b[0m\n",
      " * Running on http://127.0.0.1:5000\n",
      "INFO:werkzeug:\u001b[33mPress CTRL+C to quit\u001b[0m\n",
      "ERROR:__main__:Exception on /req [POST]\n",
      "Traceback (most recent call last):\n",
      "  File \"D:\\elte-ik-adatbanyaszat\\venv\\lib\\site-packages\\flask\\app.py\", line 1473, in wsgi_app\n",
      "    response = self.full_dispatch_request()\n",
      "  File \"D:\\elte-ik-adatbanyaszat\\venv\\lib\\site-packages\\flask\\app.py\", line 882, in full_dispatch_request\n",
      "    rv = self.handle_user_exception(e)\n",
      "  File \"D:\\elte-ik-adatbanyaszat\\venv\\lib\\site-packages\\flask\\app.py\", line 880, in full_dispatch_request\n",
      "    rv = self.dispatch_request()\n",
      "  File \"D:\\elte-ik-adatbanyaszat\\venv\\lib\\site-packages\\flask\\app.py\", line 865, in dispatch_request\n",
      "    return self.ensure_sync(self.view_functions[rule.endpoint])(**view_args)  # type: ignore[no-any-return]\n",
      "  File \"C:\\Users\\AD\\AppData\\Local\\Temp\\ipykernel_16184\\3169928668.py\", line 8, in get_req\n",
      "    data = request.get_json()\n",
      "NameError: name 'request' is not defined\n",
      "INFO:werkzeug:127.0.0.1 - - [10/Apr/2024 23:47:33] \"\u001b[35m\u001b[1mPOST /req HTTP/1.1\u001b[0m\" 500 -\n"
     ]
    }
   ],
   "source": [
    "from flask import Flask, jsonify\n",
    "import subprocess\n",
    "\n",
    "app = Flask(__name__)\n",
    "\n",
    "@app.route('/req', methods=['POST'])\n",
    "def get_req():\n",
    "    data = request.get_json()\n",
    "    text = data.get('text', '')\n",
    "    #ret = {'resp': generate_text(\"Summarize this text in 1 sentence:\" + text)}\n",
    "    ret = {'resp2': generate_text(\"Give keywords for this text: \" + text)}\n",
    "    return jsonify(ret)\n",
    "\n",
    "if __name__ == '__main__':\n",
    "    app.run()"
   ]
  },
  {
   "cell_type": "markdown",
   "id": "894675c2-02ef-438a-a6bf-320ac2c13780",
   "metadata": {},
   "source": [
    "## OK Az API működik, persze még kell bele token max és szöveg tisztítás, spec karakterek kivétele de már megy."
   ]
  },
  {
   "cell_type": "code",
   "execution_count": 1,
   "id": "a9779c15-bea8-4729-b9f7-415817fd0657",
   "metadata": {},
   "outputs": [
    {
     "name": "stdout",
     "output_type": "stream",
     "text": [
      "Collecting wrapt_timeout_decorator\n",
      "  Downloading wrapt_timeout_decorator-1.5.1-py3-none-any.whl (30 kB)\n",
      "Collecting dill!=0.3.5,!=0.3.5.1,>0.3.0\n",
      "  Downloading dill-0.3.8-py3-none-any.whl (116 kB)\n",
      "     ---------------------------------------- 0.0/116.3 kB ? eta -:--:--\n",
      "     -------------------------------------- 116.3/116.3 kB 3.4 MB/s eta 0:00:00\n",
      "Collecting wrapt\n",
      "  Downloading wrapt-1.16.0-cp310-cp310-win_amd64.whl (37 kB)\n",
      "Requirement already satisfied: psutil in d:\\elte-ik-adatbanyaszat\\venv\\lib\\site-packages (from wrapt_timeout_decorator) (5.9.8)\n",
      "Collecting cli-exit-tools\n",
      "  Downloading cli_exit_tools-1.2.6-py3-none-any.whl (10 kB)\n",
      "Collecting multiprocess\n",
      "  Downloading multiprocess-0.70.16-py310-none-any.whl (134 kB)\n",
      "     ---------------------------------------- 0.0/134.8 kB ? eta -:--:--\n",
      "     -------------------------------------- 134.8/134.8 kB 4.0 MB/s eta 0:00:00\n",
      "Collecting lib-detect-testenv\n",
      "  Downloading lib_detect_testenv-2.0.8-py3-none-any.whl (8.4 kB)\n",
      "Requirement already satisfied: click in d:\\elte-ik-adatbanyaszat\\venv\\lib\\site-packages (from cli-exit-tools->wrapt_timeout_decorator) (8.1.7)\n",
      "Requirement already satisfied: colorama in d:\\elte-ik-adatbanyaszat\\venv\\lib\\site-packages (from click->cli-exit-tools->wrapt_timeout_decorator) (0.4.6)\n",
      "Installing collected packages: wrapt, lib-detect-testenv, dill, multiprocess, cli-exit-tools, wrapt_timeout_decorator\n",
      "Successfully installed cli-exit-tools-1.2.6 dill-0.3.8 lib-detect-testenv-2.0.8 multiprocess-0.70.16 wrapt-1.16.0 wrapt_timeout_decorator-1.5.1\n"
     ]
    },
    {
     "name": "stderr",
     "output_type": "stream",
     "text": [
      "WARNING: There was an error checking the latest version of pip.\n"
     ]
    }
   ],
   "source": [
    "!pip install wrapt_timeout_decorator"
   ]
  },
  {
   "cell_type": "markdown",
   "id": "24a35c2a-17b9-40e0-bd94-5019aecd262b",
   "metadata": {},
   "source": [
    "Jöhet a chrome extension. Ezzel a ChatGPT bemenettel egész jól legenerálja\n",
    "Hi!\n",
    "How can i create a chrome extension which enables you to select text on any given website and displays a right click option to send the selection to a REST POST api and show the rsoult.\n",
    "\n"
   ]
  },
  {
   "cell_type": "code",
   "execution_count": 1,
   "id": "198b5b8e-fe50-479f-929d-45b100fea4b0",
   "metadata": {},
   "outputs": [
    {
     "name": "stdout",
     "output_type": "stream",
     "text": [
      "Requirement already satisfied: accelerate in d:\\elte-ik-adatbanyaszat\\venv\\lib\\site-packages (0.28.0)"
     ]
    },
    {
     "name": "stderr",
     "output_type": "stream",
     "text": [
      "WARNING: There was an error checking the latest version of pip.\n"
     ]
    },
    {
     "name": "stdout",
     "output_type": "stream",
     "text": [
      "\n",
      "Requirement already satisfied: packaging>=20.0 in d:\\elte-ik-adatbanyaszat\\venv\\lib\\site-packages (from accelerate) (24.0)\n",
      "Requirement already satisfied: psutil in d:\\elte-ik-adatbanyaszat\\venv\\lib\\site-packages (from accelerate) (5.9.8)\n",
      "Requirement already satisfied: numpy>=1.17 in d:\\elte-ik-adatbanyaszat\\venv\\lib\\site-packages (from accelerate) (1.26.4)\n",
      "Requirement already satisfied: safetensors>=0.3.1 in d:\\elte-ik-adatbanyaszat\\venv\\lib\\site-packages (from accelerate) (0.4.2)\n",
      "Requirement already satisfied: pyyaml in d:\\elte-ik-adatbanyaszat\\venv\\lib\\site-packages (from accelerate) (6.0.1)\n",
      "Requirement already satisfied: torch>=1.10.0 in d:\\elte-ik-adatbanyaszat\\venv\\lib\\site-packages (from accelerate) (2.2.0+cu121)\n",
      "Requirement already satisfied: huggingface-hub in d:\\elte-ik-adatbanyaszat\\venv\\lib\\site-packages (from accelerate) (0.21.4)\n",
      "Requirement already satisfied: networkx in d:\\elte-ik-adatbanyaszat\\venv\\lib\\site-packages (from torch>=1.10.0->accelerate) (3.2.1)\n",
      "Requirement already satisfied: fsspec in d:\\elte-ik-adatbanyaszat\\venv\\lib\\site-packages (from torch>=1.10.0->accelerate) (2024.2.0)\n",
      "Requirement already satisfied: typing-extensions>=4.8.0 in d:\\elte-ik-adatbanyaszat\\venv\\lib\\site-packages (from torch>=1.10.0->accelerate) (4.10.0)\n",
      "Requirement already satisfied: filelock in d:\\elte-ik-adatbanyaszat\\venv\\lib\\site-packages (from torch>=1.10.0->accelerate) (3.13.1)\n",
      "Requirement already satisfied: sympy in d:\\elte-ik-adatbanyaszat\\venv\\lib\\site-packages (from torch>=1.10.0->accelerate) (1.12)\n",
      "Requirement already satisfied: jinja2 in d:\\elte-ik-adatbanyaszat\\venv\\lib\\site-packages (from torch>=1.10.0->accelerate) (3.1.3)\n",
      "Requirement already satisfied: tqdm>=4.42.1 in d:\\elte-ik-adatbanyaszat\\venv\\lib\\site-packages (from huggingface-hub->accelerate) (4.66.2)\n",
      "Requirement already satisfied: requests in d:\\elte-ik-adatbanyaszat\\venv\\lib\\site-packages (from huggingface-hub->accelerate) (2.31.0)\n",
      "Requirement already satisfied: colorama in d:\\elte-ik-adatbanyaszat\\venv\\lib\\site-packages (from tqdm>=4.42.1->huggingface-hub->accelerate) (0.4.6)\n",
      "Requirement already satisfied: MarkupSafe>=2.0 in d:\\elte-ik-adatbanyaszat\\venv\\lib\\site-packages (from jinja2->torch>=1.10.0->accelerate) (2.1.5)\n",
      "Requirement already satisfied: idna<4,>=2.5 in d:\\elte-ik-adatbanyaszat\\venv\\lib\\site-packages (from requests->huggingface-hub->accelerate) (3.6)\n",
      "Requirement already satisfied: charset-normalizer<4,>=2 in d:\\elte-ik-adatbanyaszat\\venv\\lib\\site-packages (from requests->huggingface-hub->accelerate) (3.3.2)\n",
      "Requirement already satisfied: certifi>=2017.4.17 in d:\\elte-ik-adatbanyaszat\\venv\\lib\\site-packages (from requests->huggingface-hub->accelerate) (2024.2.2)\n",
      "Requirement already satisfied: urllib3<3,>=1.21.1 in d:\\elte-ik-adatbanyaszat\\venv\\lib\\site-packages (from requests->huggingface-hub->accelerate) (2.2.1)\n",
      "Requirement already satisfied: mpmath>=0.19 in d:\\elte-ik-adatbanyaszat\\venv\\lib\\site-packages (from sympy->torch>=1.10.0->accelerate) (1.3.0)\n"
     ]
    }
   ],
   "source": [
    "!pip install accelerate"
   ]
  },
  {
   "cell_type": "code",
   "execution_count": 1,
   "id": "1ff86215-5e1d-41ed-8e8c-c7ace23f5839",
   "metadata": {},
   "outputs": [
    {
     "name": "stdout",
     "output_type": "stream",
     "text": [
      "Collecting flask-cors\n",
      "  Downloading Flask_Cors-4.0.1-py2.py3-none-any.whl (14 kB)\n",
      "Requirement already satisfied: Flask>=0.9 in d:\\elte-ik-adatbanyaszat\\venv\\lib\\site-packages (from flask-cors) (3.0.3)\n",
      "Requirement already satisfied: Jinja2>=3.1.2 in d:\\elte-ik-adatbanyaszat\\venv\\lib\\site-packages (from Flask>=0.9->flask-cors) (3.1.3)\n",
      "Requirement already satisfied: blinker>=1.6.2 in d:\\elte-ik-adatbanyaszat\\venv\\lib\\site-packages (from Flask>=0.9->flask-cors) (1.7.0)\n",
      "Requirement already satisfied: Werkzeug>=3.0.0 in d:\\elte-ik-adatbanyaszat\\venv\\lib\\site-packages (from Flask>=0.9->flask-cors) (3.0.2)\n",
      "Requirement already satisfied: itsdangerous>=2.1.2 in d:\\elte-ik-adatbanyaszat\\venv\\lib\\site-packages (from Flask>=0.9->flask-cors) (2.1.2)\n",
      "Requirement already satisfied: click>=8.1.3 in d:\\elte-ik-adatbanyaszat\\venv\\lib\\site-packages (from Flask>=0.9->flask-cors) (8.1.7)\n",
      "Requirement already satisfied: colorama in d:\\elte-ik-adatbanyaszat\\venv\\lib\\site-packages (from click>=8.1.3->Flask>=0.9->flask-cors) (0.4.6)\n",
      "Requirement already satisfied: MarkupSafe>=2.0 in d:\\elte-ik-adatbanyaszat\\venv\\lib\\site-packages (from Jinja2>=3.1.2->Flask>=0.9->flask-cors) (2.1.5)\n",
      "Installing collected packages: flask-cors\n",
      "Successfully installed flask-cors-4.0.1\n",
      "Note: you may need to restart the kernel to use updated packages.\n"
     ]
    },
    {
     "name": "stderr",
     "output_type": "stream",
     "text": [
      "WARNING: There was an error checking the latest version of pip.\n"
     ]
    }
   ],
   "source": [
    "pip install flask-cors"
   ]
  },
  {
   "cell_type": "code",
   "execution_count": null,
   "id": "f614d5e7-ff66-4742-8367-a9e47452b5dd",
   "metadata": {},
   "outputs": [],
   "source": []
  }
 ],
 "metadata": {
  "kernelspec": {
   "display_name": "Python 3 (ipykernel)",
   "language": "python",
   "name": "python3"
  },
  "language_info": {
   "codemirror_mode": {
    "name": "ipython",
    "version": 3
   },
   "file_extension": ".py",
   "mimetype": "text/x-python",
   "name": "python",
   "nbconvert_exporter": "python",
   "pygments_lexer": "ipython3",
   "version": "3.10.11"
  }
 },
 "nbformat": 4,
 "nbformat_minor": 5
}
