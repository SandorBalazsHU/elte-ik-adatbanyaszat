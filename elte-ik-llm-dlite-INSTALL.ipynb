{
 "cells": [
  {
   "cell_type": "markdown",
   "id": "54fb9035-8d5f-4407-aeec-f951caf1e3d2",
   "metadata": {},
   "source": [
    "# Futtatókörnyezet kialakítása a projekthez."
   ]
  },
  {
   "cell_type": "markdown",
   "id": "3068535e-a76d-4c8c-93a9-a5e379207429",
   "metadata": {},
   "source": [
    "### 0. Lépés: Előfeltételek.\n",
    "    Rendszergazdai jog ajánlott\n",
    "\tPython <= 3.10.11 (Ennél újabb verzió esetén a Pytorch jelenlegi verziója nem működik)\n",
    "\tNvdia driver\n",
    "\tCuda\n",
    "\tCuda toolkit and devkit"
   ]
  },
  {
   "cell_type": "markdown",
   "id": "47d475a4-f497-4418-b418-a5cca464aad5",
   "metadata": {},
   "source": [
    "### 1. Lépés: futtatókörnyezet kialakítása\n",
    "##### Másik meghajtón dolgozunk mert minden elég nagy méretű.\n",
    "    d:\n",
    "    git clone https://github.com/SandorBalazsHU/elte-ik-adatbanyaszat\n",
    "    cd D:\\elte-ik-adatbanyaszat\n",
    "\n",
    "##### Python virtuális környezetben dolgozunk, hogy ne szemeteljük a gépet, többször próbálkozhassunk.\n",
    "    python -m venv venv\n",
    "    venv\\Scripts\\activate\n",
    "\n",
    "##### Telepítsünk Jupitert, hogy könnyebb dolgunk legyen\n",
    "    pip install jupyter\n",
    "\n",
    "##### Indítsuk a Jupitert\n",
    "    jupyter notebook"
   ]
  },
  {
   "cell_type": "markdown",
   "id": "9b43ad5d-537c-41f7-a710-7ad99d444003",
   "metadata": {},
   "source": [
    "##### Ajánlott telepítés a cikk szerint, sajnos CPU only, javítsuk."
   ]
  },
  {
   "cell_type": "code",
   "execution_count": null,
   "id": "ae748414-8b10-4da1-bb05-6d1636e9697e",
   "metadata": {},
   "outputs": [],
   "source": [
    " !pip install \"accelerate>=0.16.0,<1\" \"transformers[torch]>=4.28.1,<5\" \"torch>=1.13.1,<2\""
   ]
  },
  {
   "cell_type": "markdown",
   "id": "8d1bb226-dee5-485f-81bb-00fac95d8642",
   "metadata": {},
   "source": [
    "##### Telepítsünk rá 2.2-es torch-ot CUDA 12.1-el."
   ]
  },
  {
   "cell_type": "code",
   "execution_count": null,
   "id": "9521f050-3cff-46f6-8343-3d8053b8d8ba",
   "metadata": {},
   "outputs": [],
   "source": [
    "!pip install torch==2.2.0+cu121 -f https://download.pytorch.org/whl/torch_stable.html"
   ]
  },
  {
   "cell_type": "markdown",
   "id": "78dfe730-ab76-4c7c-bc30-4ebef5f09678",
   "metadata": {},
   "source": [
    "### 2. Lépés: Szerezzük be a modellt lokálisan"
   ]
  },
  {
   "cell_type": "code",
   "execution_count": null,
   "id": "cd1145f6-60bd-4023-b123-9a0b0d3e7325",
   "metadata": {},
   "outputs": [],
   "source": [
    "!git clone https://huggingface.co/aisquared/dlite-v2-1_5b"
   ]
  },
  {
   "cell_type": "markdown",
   "id": "6b1a14f3-867f-4609-930e-4a72b61875b0",
   "metadata": {},
   "source": [
    "### 3. Lépés: Telepítsük a szerverhez szükséges könyvtárakat"
   ]
  },
  {
   "cell_type": "code",
   "execution_count": null,
   "id": "cdcbef0a-5851-4fb7-93a4-e183e30f875d",
   "metadata": {},
   "outputs": [],
   "source": [
    "!pip install flask"
   ]
  },
  {
   "cell_type": "code",
   "execution_count": null,
   "id": "6b36a99a-80f6-4278-b8f0-5156acd10a29",
   "metadata": {},
   "outputs": [],
   "source": [
    "!pip install accelerate"
   ]
  },
  {
   "cell_type": "code",
   "execution_count": null,
   "id": "131a6116-9694-425f-98ab-8736f89cb85c",
   "metadata": {},
   "outputs": [],
   "source": [
    "!pip install flask-cors"
   ]
  },
  {
   "cell_type": "markdown",
   "id": "3372aaea-593d-40bc-b39c-8068613a8a0b",
   "metadata": {},
   "source": [
    "### 4.Lépés: Tesztelés"
   ]
  },
  {
   "cell_type": "code",
   "execution_count": 3,
   "id": "90c6028e-0453-4d07-8165-b6d2bb9719d6",
   "metadata": {},
   "outputs": [
    {
     "name": "stdout",
     "output_type": "stream",
     "text": [
      "Python 3.10.11\n"
     ]
    }
   ],
   "source": [
    "!python --version"
   ]
  },
  {
   "cell_type": "code",
   "execution_count": 4,
   "id": "b3173f95-98cc-4935-83b3-5dbe97e41d56",
   "metadata": {},
   "outputs": [
    {
     "name": "stdout",
     "output_type": "stream",
     "text": [
      "Mon May 13 19:09:11 2024       \n",
      "+-----------------------------------------------------------------------------------------+\n",
      "| NVIDIA-SMI 552.44                 Driver Version: 552.44         CUDA Version: 12.4     |\n",
      "|-----------------------------------------+------------------------+----------------------+\n",
      "| GPU  Name                     TCC/WDDM  | Bus-Id          Disp.A | Volatile Uncorr. ECC |\n",
      "| Fan  Temp   Perf          Pwr:Usage/Cap |           Memory-Usage | GPU-Util  Compute M. |\n",
      "|                                         |                        |               MIG M. |\n",
      "|=========================================+========================+======================|\n",
      "|   0  NVIDIA GeForce GTX 1650 Ti   WDDM  |   00000000:01:00.0  On |                  N/A |\n",
      "| N/A   36C    P8              2W /   50W |     451MiB /   4096MiB |     14%      Default |\n",
      "|                                         |                        |                  N/A |\n",
      "+-----------------------------------------+------------------------+----------------------+\n",
      "                                                                                         \n",
      "+-----------------------------------------------------------------------------------------+\n",
      "| Processes:                                                                              |\n",
      "|  GPU   GI   CI        PID   Type   Process name                              GPU Memory |\n",
      "|        ID   ID                                                               Usage      |\n",
      "|=========================================================================================|\n",
      "|    0   N/A  N/A      1504    C+G   C:\\Windows\\explorer.exe                     N/A      |\n",
      "|    0   N/A  N/A      1768    C+G   C:\\Windows\\System32\\dwm.exe                 N/A      |\n",
      "|    0   N/A  N/A      2040    C+G   ...nt.CBS_cw5n1h2txyewy\\SearchHost.exe      N/A      |\n",
      "|    0   N/A  N/A      2732    C+G   ...CBS_cw5n1h2txyewy\\TextInputHost.exe      N/A      |\n",
      "|    0   N/A  N/A      6544    C+G   ...5n1h2txyewy\\ShellExperienceHost.exe      N/A      |\n",
      "|    0   N/A  N/A      8228    C+G   ...oogle\\Chrome\\Application\\chrome.exe      N/A      |\n",
      "|    0   N/A  N/A     11360    C+G   ...2txyewy\\StartMenuExperienceHost.exe      N/A      |\n",
      "|    0   N/A  N/A     12800    C+G   C:\\Program Files\\VideoLAN\\VLC\\vlc.exe       N/A      |\n",
      "|    0   N/A  N/A     23208    C+G   ...siveControlPanel\\SystemSettings.exe      N/A      |\n",
      "|    0   N/A  N/A     23232    C+G   ...GeForce Experience\\NVIDIA Share.exe      N/A      |\n",
      "+-----------------------------------------------------------------------------------------+\n"
     ]
    }
   ],
   "source": [
    "!nvidia-smi"
   ]
  },
  {
   "cell_type": "code",
   "execution_count": 5,
   "id": "52d82e3f-4a7d-4b1d-ab71-0ba716e87895",
   "metadata": {},
   "outputs": [
    {
     "name": "stdout",
     "output_type": "stream",
     "text": [
      "nvcc: NVIDIA (R) Cuda compiler driver\n",
      "Copyright (c) 2005-2023 NVIDIA Corporation\n",
      "Built on Wed_Nov_22_10:30:42_Pacific_Standard_Time_2023\n",
      "Cuda compilation tools, release 12.3, V12.3.107\n",
      "Build cuda_12.3.r12.3/compiler.33567101_0\n"
     ]
    }
   ],
   "source": [
    "!nvcc --version"
   ]
  },
  {
   "cell_type": "code",
   "execution_count": 6,
   "id": "9d918f58-b63c-4d2a-9df3-da4fc8899f79",
   "metadata": {},
   "outputs": [
    {
     "name": "stdout",
     "output_type": "stream",
     "text": [
      "True\n",
      "cuda:0\n"
     ]
    },
    {
     "data": {
      "text/plain": [
       "tensor([0.], device='cuda:0')"
      ]
     },
     "execution_count": 6,
     "metadata": {},
     "output_type": "execute_result"
    }
   ],
   "source": [
    "import torch\n",
    "print(torch.cuda.is_available())\n",
    "device = torch.device(\"cuda:0\" if torch.cuda.is_available() else \"cpu\")\n",
    "print(device)\n",
    "torch.zeros(1).cuda()"
   ]
  },
  {
   "cell_type": "markdown",
   "id": "0ad63bf2-9cee-4cc5-9b2e-5225ec88381f",
   "metadata": {},
   "source": [
    "### 5. Lépés: Futtassuk a SERVER notebook-ot."
   ]
  }
 ],
 "metadata": {
  "kernelspec": {
   "display_name": "Python 3 (ipykernel)",
   "language": "python",
   "name": "python3"
  },
  "language_info": {
   "codemirror_mode": {
    "name": "ipython",
    "version": 3
   },
   "file_extension": ".py",
   "mimetype": "text/x-python",
   "name": "python",
   "nbconvert_exporter": "python",
   "pygments_lexer": "ipython3",
   "version": "3.10.11"
  }
 },
 "nbformat": 4,
 "nbformat_minor": 5
}
