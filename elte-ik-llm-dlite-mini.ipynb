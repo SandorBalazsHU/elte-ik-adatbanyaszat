{
 "cells": [
  {
   "cell_type": "markdown",
   "id": "66aa89bd-780e-4269-bac7-4a3286747032",
   "metadata": {},
   "source": [
    "### (1) Load the pretrained model"
   ]
  },
  {
   "cell_type": "code",
   "execution_count": 1,
   "id": "adec004f-226d-4cd5-aba9-1bf56ec0a721",
   "metadata": {},
   "outputs": [],
   "source": [
    "import sys\n",
    "sys.path.insert(1, './dlite-v2-1_5b/')\n",
    "from instruct_pipeline import InstructionTextGenerationPipeline\n",
    "from transformers import AutoModelForCausalLM, AutoTokenizer\n",
    "import torch\n",
    "\n",
    "tokenizer = AutoTokenizer.from_pretrained(\"dlite-v2-1_5b\", padding_side=\"left\")\n",
    "model = AutoModelForCausalLM.from_pretrained(\"dlite-v2-1_5b\", device_map=\"cuda\", torch_dtype=torch.bfloat16)\n",
    "\n",
    "generate_text = InstructionTextGenerationPipeline(model=model, tokenizer=tokenizer)"
   ]
  },
  {
   "cell_type": "markdown",
   "id": "d8dec63a-2dbe-4c0d-aa0c-7fbc3178e0d0",
   "metadata": {},
   "source": [
    "### (2) The REST server"
   ]
  },
  {
   "cell_type": "code",
   "execution_count": null,
   "id": "998ca9ba-457c-42b6-9af4-0b0357633fb4",
   "metadata": {},
   "outputs": [
    {
     "name": "stdout",
     "output_type": "stream",
     "text": [
      " * Serving Flask app '__main__'\n",
      " * Debug mode: off\n"
     ]
    },
    {
     "name": "stderr",
     "output_type": "stream",
     "text": [
      "WARNING: This is a development server. Do not use it in a production deployment. Use a production WSGI server instead.\n",
      " * Running on http://127.0.0.1:5000\n",
      "Press CTRL+C to quit\n",
      "127.0.0.1 - - [09/May/2024 18:19:03] \"POST /length HTTP/1.1\" 200 -\n"
     ]
    },
    {
     "name": "stdout",
     "output_type": "stream",
     "text": [
      "LOG: Input length: 243\n",
      "LOG: Input length: 243\n",
      "LOG: Summarize in one sentence: Jupiter, the largest planet in our solar system, commands attention with its immense size and swirling clouds of gas. Named after the king of the Roman gods, Jupiter's colossal presence dominates the space around it. Its massive magnetic field creates a protective shield, deflecting harmful solar winds and radiation, making it a formidable guardian of the inner solar system. One of Jupiter's most iconic features is its Great Red Spot, a massive storm that has been raging for centuries. This colossal tempest is larger than Earth itself, a testament to the planet's tumultuous atmosphere. Beneath its thick layer of clouds lies a world of mystery, with a core composed of metallic hydrogen and rocky material. Jupiter boasts a diverse family of moons, each with its own unique characteristics. Europa, with its icy surface and subsurface ocean, tantalizes scientists with the possibility of extraterrestrial life. Ganymede, the largest moon in the solar system, harbors its own magnetic field and may have a subsurface ocean as well. Studying Jupiter provides valuable insights into the formation and evolution of our solar system. Its sheer magnitude and complexity continue to fascinate and inspire astronomers, offering a window into the mysteries of the cosmos.\n"
     ]
    },
    {
     "name": "stderr",
     "output_type": "stream",
     "text": [
      "127.0.0.1 - - [09/May/2024 18:19:47] \"POST /sum HTTP/1.1\" 200 -\n"
     ]
    },
    {
     "name": "stdout",
     "output_type": "stream",
     "text": [
      "LOG: Input length: 243\n",
      "LOG: Give keyword list: Jupiter, the largest planet in our solar system, commands attention with its immense size and swirling clouds of gas. Named after the king of the Roman gods, Jupiter's colossal presence dominates the space around it. Its massive magnetic field creates a protective shield, deflecting harmful solar winds and radiation, making it a formidable guardian of the inner solar system. One of Jupiter's most iconic features is its Great Red Spot, a massive storm that has been raging for centuries. This colossal tempest is larger than Earth itself, a testament to the planet's tumultuous atmosphere. Beneath its thick layer of clouds lies a world of mystery, with a core composed of metallic hydrogen and rocky material. Jupiter boasts a diverse family of moons, each with its own unique characteristics. Europa, with its icy surface and subsurface ocean, tantalizes scientists with the possibility of extraterrestrial life. Ganymede, the largest moon in the solar system, harbors its own magnetic field and may have a subsurface ocean as well. Studying Jupiter provides valuable insights into the formation and evolution of our solar system. Its sheer magnitude and complexity continue to fascinate and inspire astronomers, offering a window into the mysteries of the cosmos.\n"
     ]
    }
   ],
   "source": [
    "from flask import Flask, request, jsonify\n",
    "import subprocess\n",
    "\n",
    "app = Flask(__name__)\n",
    "\n",
    "def req_length(text):\n",
    "    tokens = tokenizer(text)\n",
    "    tokens_length = len(tokens.attention_mask)\n",
    "    print('LOG: Input length: ' + str(tokens_length))\n",
    "    return tokens_length\n",
    "\n",
    "def req_to_json(title, text):\n",
    "    return jsonify({title : text})\n",
    "\n",
    "def req_process(command, text):\n",
    "    req = command + ' ' + text\n",
    "    print('LOG: ' + req)\n",
    "    return generate_text(req)\n",
    "\n",
    "@app.route('/sum', methods=['POST'])\n",
    "def sum_req():\n",
    "    data = request.get_json()\n",
    "    text = data.get('text', '')\n",
    "    if(req_length(text) <= 1024):\n",
    "        return req_to_json('response', req_process('Summarize in one sentence:', text))\n",
    "    else:\n",
    "        return req_to_json('error', 'Too long text. Limit is 1024 token.')\n",
    "\n",
    "@app.route('/key', methods=['POST'])\n",
    "def key_req():\n",
    "    data = request.get_json()\n",
    "    text = data.get('text', '')\n",
    "    if(req_length(text) <= 1024):\n",
    "        return req_to_json('response', req_process('Give keyword list:', text))\n",
    "    else:\n",
    "        return req_to_json('error', 'Too long text. Limit is 1024 token.')\n",
    "\n",
    "@app.route('/title', methods=['POST'])\n",
    "def title_req():\n",
    "    data = request.get_json()\n",
    "    text = data.get('text', '')\n",
    "    if(req_length(text) <= 1024):\n",
    "        return req_to_json('response', req_process('Give the most important word in the text:', text))\n",
    "    else:\n",
    "        return req_to_json('error', 'Too long text. Limit is 1024 token.')\n",
    "\n",
    "@app.route('/length', methods=['POST'])\n",
    "def length_req():\n",
    "    data = request.get_json()\n",
    "    text = data.get('text', '')\n",
    "    ret = {'length': req_length(text)}\n",
    "    return jsonify(ret)\n",
    "\n",
    "if __name__ == '__main__':\n",
    "    app.run()"
   ]
  },
  {
   "cell_type": "code",
   "execution_count": null,
   "id": "59c990f2-b594-4a69-91ad-b7ac4b4eb738",
   "metadata": {},
   "outputs": [],
   "source": []
  }
 ],
 "metadata": {
  "kernelspec": {
   "display_name": "Python 3 (ipykernel)",
   "language": "python",
   "name": "python3"
  },
  "language_info": {
   "codemirror_mode": {
    "name": "ipython",
    "version": 3
   },
   "file_extension": ".py",
   "mimetype": "text/x-python",
   "name": "python",
   "nbconvert_exporter": "python",
   "pygments_lexer": "ipython3",
   "version": "3.10.11"
  }
 },
 "nbformat": 4,
 "nbformat_minor": 5
}
