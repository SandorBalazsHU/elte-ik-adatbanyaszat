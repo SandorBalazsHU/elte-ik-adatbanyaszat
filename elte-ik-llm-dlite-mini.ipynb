{
 "cells": [
  {
   "cell_type": "markdown",
   "id": "66aa89bd-780e-4269-bac7-4a3286747032",
   "metadata": {},
   "source": [
    "### (1) Load the pretrained model"
   ]
  },
  {
   "cell_type": "code",
   "execution_count": 1,
   "id": "adec004f-226d-4cd5-aba9-1bf56ec0a721",
   "metadata": {},
   "outputs": [],
   "source": [
    "import sys\n",
    "sys.path.insert(1, './dlite-v2-1_5b/')\n",
    "from instruct_pipeline import InstructionTextGenerationPipeline\n",
    "from transformers import AutoModelForCausalLM, AutoTokenizer\n",
    "import torch\n",
    "\n",
    "tokenizer = AutoTokenizer.from_pretrained(\"dlite-v2-1_5b\", padding_side=\"left\")\n",
    "model = AutoModelForCausalLM.from_pretrained(\"dlite-v2-1_5b\", device_map=\"cuda\", torch_dtype=torch.bfloat16)\n",
    "\n",
    "generate_text = InstructionTextGenerationPipeline(model=model, tokenizer=tokenizer)"
   ]
  },
  {
   "cell_type": "markdown",
   "id": "d8dec63a-2dbe-4c0d-aa0c-7fbc3178e0d0",
   "metadata": {},
   "source": [
    "### (2) The REST server"
   ]
  },
  {
   "cell_type": "code",
   "execution_count": null,
   "id": "998ca9ba-457c-42b6-9af4-0b0357633fb4",
   "metadata": {},
   "outputs": [
    {
     "name": "stdout",
     "output_type": "stream",
     "text": [
      " * Serving Flask app '__main__'\n",
      " * Debug mode: off\n"
     ]
    },
    {
     "name": "stderr",
     "output_type": "stream",
     "text": [
      "WARNING: This is a development server. Do not use it in a production deployment. Use a production WSGI server instead.\n",
      " * Running on http://127.0.0.1:5000\n",
      "Press CTRL+C to quit\n"
     ]
    },
    {
     "name": "stdout",
     "output_type": "stream",
     "text": [
      "{'text': \"Jupiter, the largest planet in our solar system, commands attention with its immense size and swirling clouds of gas. Named after the king of the Roman gods, Jupiter's colossal presence dominates the space around it. Its massive magnetic field creates a protective shield, deflecting harmful solar winds and radiation, making it a formidable guardian of the inner solar system.\"}\n",
      "LOG: Input length: 67\n",
      "LOG: Summarize in one sentence: Jupiter the largest planet in our solar system commands attention with its immense size and swirling clouds of gas. Named after the king of the Roman gods Jupiters colossal presence dominates the space around it. Its massive magnetic field creates a protective shield deflecting harmful solar winds and radiation making it a formidable guardian of the inner solar system.\n"
     ]
    },
    {
     "name": "stderr",
     "output_type": "stream",
     "text": [
      "127.0.0.1 - - [11/May/2024 20:18:33] \"POST /sum HTTP/1.1\" 200 -\n",
      "127.0.0.1 - - [11/May/2024 20:19:13] \"POST /length HTTP/1.1\" 200 -\n"
     ]
    },
    {
     "name": "stdout",
     "output_type": "stream",
     "text": [
      "LOG: Input length: 249\n"
     ]
    },
    {
     "name": "stderr",
     "output_type": "stream",
     "text": [
      "127.0.0.1 - - [11/May/2024 20:19:21] \"POST /tittle HTTP/1.1\" 404 -\n"
     ]
    },
    {
     "name": "stdout",
     "output_type": "stream",
     "text": [
      "LOG: Input length: 249\n",
      "LOG: Give some keywords from this text: The MiG21 a legendary Sovietdesigned supersonic fighter aircraft holds a revered place in aviation history. Introduced in the 1950s it became one of the most widely produced jet fighters in the world serving with over 60 countries across several decades. Its sleek deltawing design and powerful engines gave it impressive speed and agility earning it the nickname Fishbed in NATO nomenclature.  Renowned for its simplicity and reliability the MiG21 was designed to be easy to maintain and operate making it a favorite among air forces with limited resources. Its delta wing configuration allowed for quick takeoffs and landings even from short runways making it wellsuited for operations in a variety of environments.  The MiG21 saw extensive combat action during the Cold War and in numerous conflicts around the world. Its combat record includes engagements in Vietnam the Middle East and Africa where its speed and maneuverability often gave it an edge over its adversaries.  Despite being conceived over half a century ago the MiG21 remains in service with several air forces today a testament to its enduring design and adaptability. While newer aircraft have surpassed it in many respects the MiG21s legacy as a versatile and iconic fighter endures in the annals of aviation history.\n"
     ]
    },
    {
     "name": "stderr",
     "output_type": "stream",
     "text": [
      "127.0.0.1 - - [11/May/2024 20:20:03] \"POST /key HTTP/1.1\" 200 -\n",
      "127.0.0.1 - - [11/May/2024 20:25:52] \"POST /length HTTP/1.1\" 200 -\n"
     ]
    },
    {
     "name": "stdout",
     "output_type": "stream",
     "text": [
      "LOG: Input length: 242\n"
     ]
    },
    {
     "name": "stderr",
     "output_type": "stream",
     "text": [
      "127.0.0.1 - - [11/May/2024 20:27:57] \"POST /length HTTP/1.1\" 200 -\n"
     ]
    },
    {
     "name": "stdout",
     "output_type": "stream",
     "text": [
      "LOG: Input length: 242\n",
      "LOG: Input length: 242\n",
      "LOG: Give some keywords from this text: Cats beloved companions to millions around the world captivate us with their grace independence and mysterious allure. Domesticated for thousands of years these enigmatic creatures have woven themselves into the fabric of human society earning their place as cherished pets and valued members of the family.  Known for their agility and keen hunting instincts cats are skilled predators capable of navigating even the most precarious of environments with ease. Their lithe bodies sharp claws and acute senses make them formidable hunters capable of stalking prey with silent precision.  Yet despite their predatory nature cats also possess a softer side. They are affectionate animals forming strong bonds with their human companions and often seeking out cuddles and attention. Their soothing purrs and gentle nuzzles bring comfort and joy to those fortunate enough to share their homes.  Cats come in a variety of breeds colors and personalities each with its own unique quirks and characteristics. From the playful antics of a kitten to the dignified demeanor of a senior cat each feline friend brings something special to our lives.  Whether curled up in a sunbeam exploring the great outdoors or simply lounging lazily on the couch cats remind us to appreciate lifes simple pleasures and embrace the beauty of the moment.\n"
     ]
    }
   ],
   "source": [
    "from flask import Flask, request, jsonify\n",
    "from flask_cors import CORS\n",
    "import subprocess\n",
    "import re\n",
    "\n",
    "app = Flask(__name__)\n",
    "CORS(app)\n",
    "\n",
    "def req_length(text):\n",
    "    tokens = tokenizer(text)\n",
    "    tokens_length = len(tokens.attention_mask)\n",
    "    print('LOG: Input length: ' + str(tokens_length))\n",
    "    return tokens_length\n",
    "\n",
    "def req_to_json(title, text):\n",
    "    return jsonify({title : text})\n",
    "\n",
    "def req_process(command, text):\n",
    "    req = command + ' ' + text\n",
    "    print('LOG: ' + req)\n",
    "    return generate_text(req)\n",
    "\n",
    "def req_clean(text):\n",
    "    cleaned_text = text.replace('\\n', ' ').replace('\\r', ' ')\n",
    "    cleaned_text = re.sub(r'[^\\w\\s.]', '', cleaned_text)\n",
    "    return cleaned_text\n",
    "\n",
    "@app.route('/sum', methods=['POST'])\n",
    "def sum_req():\n",
    "    data = request.get_json()\n",
    "    print(data)\n",
    "    text = req_clean(data.get('text', ''))\n",
    "    if(req_length(text) <= 1024):\n",
    "        return req_to_json('response', req_process('Summarize in one sentence:', text))\n",
    "        #return req_to_json('response', \"TEST TEXT\")\n",
    "    else:\n",
    "        return req_to_json('error', 'Too long text. Limit is 1024 token.')\n",
    "\n",
    "@app.route('/key', methods=['POST'])\n",
    "def key_req():\n",
    "    data = request.get_json()\n",
    "    text = req_clean(data.get('text', ''))\n",
    "    if(req_length(text) <= 1024):\n",
    "        return req_to_json('response', req_process('Give some keywords from this text:', text))\n",
    "    else:\n",
    "        return req_to_json('error', 'Too long text. Limit is 1024 token.')\n",
    "\n",
    "@app.route('/title', methods=['POST'])\n",
    "def title_req():\n",
    "    data = request.get_json()\n",
    "    text = req_clean(data.get('text', ''))\n",
    "    if(req_length(text) <= 1024):\n",
    "        return req_to_json('response', req_process('Give the most important word in the text:', text))\n",
    "    else:\n",
    "        return req_to_json('error', 'Too long text. Limit is 1024 token.')\n",
    "\n",
    "@app.route('/length', methods=['POST'])\n",
    "def length_req():\n",
    "    data = request.get_json()\n",
    "    text = req_clean(data.get('text', ''))\n",
    "    ret = {'length': req_length(text)}\n",
    "    return jsonify(ret)\n",
    "\n",
    "if __name__ == '__main__':\n",
    "    app.run()"
   ]
  },
  {
   "cell_type": "code",
   "execution_count": null,
   "id": "59c990f2-b594-4a69-91ad-b7ac4b4eb738",
   "metadata": {},
   "outputs": [],
   "source": []
  },
  {
   "cell_type": "code",
   "execution_count": null,
   "id": "39ce5154-8f13-4d1f-8f0d-daa6a4f3cb51",
   "metadata": {},
   "outputs": [],
   "source": []
  }
 ],
 "metadata": {
  "kernelspec": {
   "display_name": "Python 3 (ipykernel)",
   "language": "python",
   "name": "python3"
  },
  "language_info": {
   "codemirror_mode": {
    "name": "ipython",
    "version": 3
   },
   "file_extension": ".py",
   "mimetype": "text/x-python",
   "name": "python",
   "nbconvert_exporter": "python",
   "pygments_lexer": "ipython3",
   "version": "3.10.11"
  }
 },
 "nbformat": 4,
 "nbformat_minor": 5
}
