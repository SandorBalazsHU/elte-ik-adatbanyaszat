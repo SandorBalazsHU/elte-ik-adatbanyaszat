{
 "cells": [
  {
   "cell_type": "code",
   "execution_count": null,
   "id": "adec004f-226d-4cd5-aba9-1bf56ec0a721",
   "metadata": {},
   "outputs": [],
   "source": [
    "import sys\n",
    "sys.path.insert(1, './dlite-v2-1_5b/')\n",
    "from instruct_pipeline import InstructionTextGenerationPipeline\n",
    "from transformers import AutoModelForCausalLM, AutoTokenizer\n",
    "import torch\n",
    "\n",
    "tokenizer = AutoTokenizer.from_pretrained(\"dlite-v2-1_5b\", padding_side=\"left\")\n",
    "model = AutoModelForCausalLM.from_pretrained(\"dlite-v2-1_5b\", device_map=\"auto\", torch_dtype=torch.bfloat16)\n",
    "\n",
    "#model.to(\"cuda:0\")\n",
    "\n",
    "generate_text = InstructionTextGenerationPipeline(model=model, tokenizer=tokenizer)"
   ]
  }
 ],
 "metadata": {
  "kernelspec": {
   "display_name": "Python 3 (ipykernel)",
   "language": "python",
   "name": "python3"
  },
  "language_info": {
   "codemirror_mode": {
    "name": "ipython",
    "version": 3
   },
   "file_extension": ".py",
   "mimetype": "text/x-python",
   "name": "python",
   "nbconvert_exporter": "python",
   "pygments_lexer": "ipython3",
   "version": "3.10.11"
  }
 },
 "nbformat": 4,
 "nbformat_minor": 5
}
