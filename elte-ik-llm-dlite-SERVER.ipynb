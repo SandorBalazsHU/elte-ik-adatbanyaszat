{
 "cells": [
  {
   "cell_type": "markdown",
   "id": "bf75da42-966f-4b7d-975f-6d23646b94af",
   "metadata": {},
   "source": [
    "## Compact and full LLM szerver for the Chrome Extension"
   ]
  },
  {
   "cell_type": "markdown",
   "id": "100f34d5-d0d7-4322-a629-e37a8106c49b",
   "metadata": {},
   "source": [
    "#### The elte-ik-llm-dlite notebook contains the installation and the experiments for the project.\n",
    "#### This notebook is the practical runnable server."
   ]
  },
  {
   "cell_type": "markdown",
   "id": "66aa89bd-780e-4269-bac7-4a3286747032",
   "metadata": {},
   "source": [
    "### (1) Load the pretrained model"
   ]
  },
  {
   "cell_type": "markdown",
   "id": "73cff53a-7b6e-4239-b9ee-c56c061e968b",
   "metadata": {},
   "source": [
    "Load and prepare the dlite-v2-1_5b LLM to the GPU"
   ]
  },
  {
   "cell_type": "code",
   "execution_count": 1,
   "id": "adec004f-226d-4cd5-aba9-1bf56ec0a721",
   "metadata": {},
   "outputs": [],
   "source": [
    "import sys\n",
    "sys.path.insert(1, './dlite-v2-1_5b/')\n",
    "from instruct_pipeline import InstructionTextGenerationPipeline\n",
    "from transformers import AutoModelForCausalLM, AutoTokenizer\n",
    "import torch\n",
    "\n",
    "tokenizer = AutoTokenizer.from_pretrained(\"dlite-v2-1_5b\", padding_side=\"left\")\n",
    "model = AutoModelForCausalLM.from_pretrained(\"dlite-v2-1_5b\", device_map=\"cuda\", torch_dtype=torch.bfloat16)\n",
    "\n",
    "generate_text = InstructionTextGenerationPipeline(model=model, tokenizer=tokenizer)"
   ]
  },
  {
   "cell_type": "markdown",
   "id": "d8dec63a-2dbe-4c0d-aa0c-7fbc3178e0d0",
   "metadata": {},
   "source": [
    "### (2) The REST server"
   ]
  },
  {
   "cell_type": "markdown",
   "id": "b019cc38-373c-46a5-bf03-b68b51b81efa",
   "metadata": {},
   "source": [
    "Initialise Flask REST CORS server for recive the process requests"
   ]
  },
  {
   "cell_type": "code",
   "execution_count": null,
   "id": "998ca9ba-457c-42b6-9af4-0b0357633fb4",
   "metadata": {},
   "outputs": [
    {
     "name": "stdout",
     "output_type": "stream",
     "text": [
      " * Serving Flask app '__main__'\n",
      " * Debug mode: off\n"
     ]
    },
    {
     "name": "stderr",
     "output_type": "stream",
     "text": [
      "WARNING: This is a development server. Do not use it in a production deployment. Use a production WSGI server instead.\n",
      " * Running on http://127.0.0.1:5000\n",
      "Press CTRL+C to quit\n",
      "127.0.0.1 - - [11/May/2024 20:41:47] \"POST /length HTTP/1.1\" 200 -\n"
     ]
    },
    {
     "name": "stdout",
     "output_type": "stream",
     "text": [
      "LOG: Input length: 242\n"
     ]
    },
    {
     "name": "stderr",
     "output_type": "stream",
     "text": [
      "127.0.0.1 - - [11/May/2024 20:43:03] \"POST /length HTTP/1.1\" 200 -\n"
     ]
    },
    {
     "name": "stdout",
     "output_type": "stream",
     "text": [
      "LOG: Input length: 242\n"
     ]
    },
    {
     "name": "stderr",
     "output_type": "stream",
     "text": [
      "127.0.0.1 - - [11/May/2024 20:43:49] \"POST /length HTTP/1.1\" 200 -\n"
     ]
    },
    {
     "name": "stdout",
     "output_type": "stream",
     "text": [
      "LOG: Input length: 242\n"
     ]
    },
    {
     "name": "stderr",
     "output_type": "stream",
     "text": [
      "127.0.0.1 - - [11/May/2024 21:00:48] \"POST /length HTTP/1.1\" 200 -\n"
     ]
    },
    {
     "name": "stdout",
     "output_type": "stream",
     "text": [
      "LOG: Input length: 242\n",
      "LOG: Input length: 242\n",
      "LOG: Give some keywords from this text: Cats beloved companions to millions around the world captivate us with their grace independence and mysterious allure. Domesticated for thousands of years these enigmatic creatures have woven themselves into the fabric of human society earning their place as cherished pets and valued members of the family.  Known for their agility and keen hunting instincts cats are skilled predators capable of navigating even the most precarious of environments with ease. Their lithe bodies sharp claws and acute senses make them formidable hunters capable of stalking prey with silent precision.  Yet despite their predatory nature cats also possess a softer side. They are affectionate animals forming strong bonds with their human companions and often seeking out cuddles and attention. Their soothing purrs and gentle nuzzles bring comfort and joy to those fortunate enough to share their homes.  Cats come in a variety of breeds colors and personalities each with its own unique quirks and characteristics. From the playful antics of a kitten to the dignified demeanor of a senior cat each feline friend brings something special to our lives.  Whether curled up in a sunbeam exploring the great outdoors or simply lounging lazily on the couch cats remind us to appreciate lifes simple pleasures and embrace the beauty of the moment.\n"
     ]
    },
    {
     "name": "stderr",
     "output_type": "stream",
     "text": [
      "127.0.0.1 - - [11/May/2024 21:01:07] \"POST /key HTTP/1.1\" 200 -\n"
     ]
    },
    {
     "name": "stdout",
     "output_type": "stream",
     "text": [
      "LOG: Input length: 249\n",
      "LOG: Give some keywords from this text: The MiG21 a legendary Sovietdesigned supersonic fighter aircraft holds a revered place in aviation history. Introduced in the 1950s it became one of the most widely produced jet fighters in the world serving with over 60 countries across several decades. Its sleek deltawing design and powerful engines gave it impressive speed and agility earning it the nickname Fishbed in NATO nomenclature.  Renowned for its simplicity and reliability the MiG21 was designed to be easy to maintain and operate making it a favorite among air forces with limited resources. Its delta wing configuration allowed for quick takeoffs and landings even from short runways making it wellsuited for operations in a variety of environments.  The MiG21 saw extensive combat action during the Cold War and in numerous conflicts around the world. Its combat record includes engagements in Vietnam the Middle East and Africa where its speed and maneuverability often gave it an edge over its adversaries.  Despite being conceived over half a century ago the MiG21 remains in service with several air forces today a testament to its enduring design and adaptability. While newer aircraft have surpassed it in many respects the MiG21s legacy as a versatile and iconic fighter endures in the annals of aviation history.\n"
     ]
    },
    {
     "name": "stderr",
     "output_type": "stream",
     "text": [
      "127.0.0.1 - - [11/May/2024 21:46:53] \"POST /key HTTP/1.1\" 200 -\n",
      "127.0.0.1 - - [11/May/2024 22:40:38] \"POST /length HTTP/1.1\" 200 -\n"
     ]
    },
    {
     "name": "stdout",
     "output_type": "stream",
     "text": [
      "LOG: Input length: 242\n"
     ]
    },
    {
     "name": "stderr",
     "output_type": "stream",
     "text": [
      "127.0.0.1 - - [11/May/2024 22:42:36] \"POST /length HTTP/1.1\" 200 -\n"
     ]
    },
    {
     "name": "stdout",
     "output_type": "stream",
     "text": [
      "LOG: Input length: 242\n"
     ]
    },
    {
     "name": "stderr",
     "output_type": "stream",
     "text": [
      "127.0.0.1 - - [11/May/2024 22:44:25] \"POST /length HTTP/1.1\" 200 -\n"
     ]
    },
    {
     "name": "stdout",
     "output_type": "stream",
     "text": [
      "LOG: Input length: 242\n"
     ]
    },
    {
     "name": "stderr",
     "output_type": "stream",
     "text": [
      "127.0.0.1 - - [11/May/2024 22:44:41] \"POST /length HTTP/1.1\" 200 -\n"
     ]
    },
    {
     "name": "stdout",
     "output_type": "stream",
     "text": [
      "LOG: Input length: 242\n"
     ]
    },
    {
     "name": "stderr",
     "output_type": "stream",
     "text": [
      "127.0.0.1 - - [11/May/2024 22:45:55] \"POST /length HTTP/1.1\" 200 -\n"
     ]
    },
    {
     "name": "stdout",
     "output_type": "stream",
     "text": [
      "LOG: Input length: 187\n"
     ]
    },
    {
     "name": "stderr",
     "output_type": "stream",
     "text": [
      "127.0.0.1 - - [11/May/2024 22:47:00] \"POST /length HTTP/1.1\" 200 -\n"
     ]
    },
    {
     "name": "stdout",
     "output_type": "stream",
     "text": [
      "LOG: Input length: 33\n"
     ]
    },
    {
     "name": "stderr",
     "output_type": "stream",
     "text": [
      "127.0.0.1 - - [11/May/2024 22:47:45] \"POST /length HTTP/1.1\" 200 -\n"
     ]
    },
    {
     "name": "stdout",
     "output_type": "stream",
     "text": [
      "LOG: Input length: 251\n"
     ]
    },
    {
     "name": "stderr",
     "output_type": "stream",
     "text": [
      "127.0.0.1 - - [11/May/2024 22:51:26] \"POST /length HTTP/1.1\" 200 -\n"
     ]
    },
    {
     "name": "stdout",
     "output_type": "stream",
     "text": [
      "LOG: Input length: 251\n"
     ]
    },
    {
     "name": "stderr",
     "output_type": "stream",
     "text": [
      "127.0.0.1 - - [11/May/2024 22:51:36] \"POST /length HTTP/1.1\" 200 -\n"
     ]
    },
    {
     "name": "stdout",
     "output_type": "stream",
     "text": [
      "LOG: Input length: 251\n"
     ]
    },
    {
     "name": "stderr",
     "output_type": "stream",
     "text": [
      "127.0.0.1 - - [11/May/2024 22:53:19] \"POST /length HTTP/1.1\" 200 -\n"
     ]
    },
    {
     "name": "stdout",
     "output_type": "stream",
     "text": [
      "LOG: Input length: 242\n"
     ]
    },
    {
     "name": "stderr",
     "output_type": "stream",
     "text": [
      "127.0.0.1 - - [11/May/2024 23:02:25] \"POST /length HTTP/1.1\" 200 -\n"
     ]
    },
    {
     "name": "stdout",
     "output_type": "stream",
     "text": [
      "LOG: Input length: 235\n"
     ]
    },
    {
     "name": "stderr",
     "output_type": "stream",
     "text": [
      "127.0.0.1 - - [11/May/2024 23:13:10] \"POST /length HTTP/1.1\" 200 -\n"
     ]
    },
    {
     "name": "stdout",
     "output_type": "stream",
     "text": [
      "LOG: Input length: 235\n"
     ]
    },
    {
     "name": "stderr",
     "output_type": "stream",
     "text": [
      "127.0.0.1 - - [11/May/2024 23:27:55] \"POST /length HTTP/1.1\" 200 -\n"
     ]
    },
    {
     "name": "stdout",
     "output_type": "stream",
     "text": [
      "LOG: Input length: 45\n"
     ]
    },
    {
     "name": "stderr",
     "output_type": "stream",
     "text": [
      "127.0.0.1 - - [11/May/2024 23:29:58] \"POST /length HTTP/1.1\" 200 -\n"
     ]
    },
    {
     "name": "stdout",
     "output_type": "stream",
     "text": [
      "LOG: Input length: 45\n"
     ]
    },
    {
     "name": "stderr",
     "output_type": "stream",
     "text": [
      "127.0.0.1 - - [11/May/2024 23:30:30] \"POST /length HTTP/1.1\" 200 -\n"
     ]
    },
    {
     "name": "stdout",
     "output_type": "stream",
     "text": [
      "LOG: Input length: 45\n"
     ]
    },
    {
     "name": "stderr",
     "output_type": "stream",
     "text": [
      "127.0.0.1 - - [11/May/2024 23:30:48] \"POST /length HTTP/1.1\" 200 -\n"
     ]
    },
    {
     "name": "stdout",
     "output_type": "stream",
     "text": [
      "LOG: Input length: 45\n"
     ]
    },
    {
     "name": "stderr",
     "output_type": "stream",
     "text": [
      "127.0.0.1 - - [11/May/2024 23:30:54] \"POST /length HTTP/1.1\" 200 -\n"
     ]
    },
    {
     "name": "stdout",
     "output_type": "stream",
     "text": [
      "LOG: Input length: 45\n"
     ]
    },
    {
     "name": "stderr",
     "output_type": "stream",
     "text": [
      "127.0.0.1 - - [11/May/2024 23:31:26] \"POST /length HTTP/1.1\" 200 -\n"
     ]
    },
    {
     "name": "stdout",
     "output_type": "stream",
     "text": [
      "LOG: Input length: 45\n"
     ]
    },
    {
     "name": "stderr",
     "output_type": "stream",
     "text": [
      "127.0.0.1 - - [11/May/2024 23:32:12] \"POST /length HTTP/1.1\" 200 -\n"
     ]
    },
    {
     "name": "stdout",
     "output_type": "stream",
     "text": [
      "LOG: Input length: 45\n"
     ]
    },
    {
     "name": "stderr",
     "output_type": "stream",
     "text": [
      "127.0.0.1 - - [11/May/2024 23:33:04] \"POST /length HTTP/1.1\" 200 -\n"
     ]
    },
    {
     "name": "stdout",
     "output_type": "stream",
     "text": [
      "LOG: Input length: 45\n"
     ]
    },
    {
     "name": "stderr",
     "output_type": "stream",
     "text": [
      "127.0.0.1 - - [11/May/2024 23:35:07] \"POST /length HTTP/1.1\" 200 -\n"
     ]
    },
    {
     "name": "stdout",
     "output_type": "stream",
     "text": [
      "LOG: Input length: 103\n"
     ]
    },
    {
     "name": "stderr",
     "output_type": "stream",
     "text": [
      "127.0.0.1 - - [11/May/2024 23:35:21] \"POST /length HTTP/1.1\" 200 -\n"
     ]
    },
    {
     "name": "stdout",
     "output_type": "stream",
     "text": [
      "LOG: Input length: 37\n"
     ]
    },
    {
     "name": "stderr",
     "output_type": "stream",
     "text": [
      "127.0.0.1 - - [11/May/2024 23:38:12] \"POST /length HTTP/1.1\" 200 -\n"
     ]
    },
    {
     "name": "stdout",
     "output_type": "stream",
     "text": [
      "LOG: Input length: 41\n"
     ]
    },
    {
     "name": "stderr",
     "output_type": "stream",
     "text": [
      "127.0.0.1 - - [11/May/2024 23:42:24] \"POST /length HTTP/1.1\" 200 -\n"
     ]
    },
    {
     "name": "stdout",
     "output_type": "stream",
     "text": [
      "LOG: Input length: 41\n"
     ]
    },
    {
     "name": "stderr",
     "output_type": "stream",
     "text": [
      "127.0.0.1 - - [11/May/2024 23:45:54] \"POST /length HTTP/1.1\" 200 -\n"
     ]
    },
    {
     "name": "stdout",
     "output_type": "stream",
     "text": [
      "LOG: Input length: 41\n"
     ]
    },
    {
     "name": "stderr",
     "output_type": "stream",
     "text": [
      "127.0.0.1 - - [11/May/2024 23:46:01] \"POST /length HTTP/1.1\" 200 -\n"
     ]
    },
    {
     "name": "stdout",
     "output_type": "stream",
     "text": [
      "LOG: Input length: 213\n",
      "LOG: Input length: 213\n",
      "LOG: Give some keywords from this text: Hello Heres a 200word text about cats  Cats beloved companions to millions around the world captivate us with their grace independence and mysterious allure. Domesticated for thousands of years these enigmatic creatures have woven themselves into the fabric of human society earning their place as cherished pets and valued members of the family.  Known for their agility and keen hunting instincts cats are skilled predators capable of navigating even the most precarious of environments with ease. Their lithe bodies sharp claws and acute senses make them formidable hunters capable of stalking prey with silent precision.  Yet despite their predatory nature cats also possess a softer side. They are affectionate animals forming strong bonds with their human companions and often seeking out cuddles and attention. Their soothing purrs and gentle nuzzles bring comfort and joy to those fortunate enough to share their homes.  Cats come in a variety of breeds colors and personalities each with its own unique quirks and characteristics. From the playful antics of a kitten to the dignified demeanor of a senior cat each feline friend brings something special to our lives.\n"
     ]
    },
    {
     "name": "stderr",
     "output_type": "stream",
     "text": [
      "127.0.0.1 - - [11/May/2024 23:49:11] \"POST /key HTTP/1.1\" 200 -\n"
     ]
    },
    {
     "name": "stdout",
     "output_type": "stream",
     "text": [
      "LOG: Input length: 235\n",
      "LOG: Give some keywords from this text: Jupiter the largest planet in our solar system commands attention with its immense size and swirling clouds of gas. Named after the king of the Roman gods Jupiters colossal presence dominates the space around it. Its massive magnetic field creates a protective shield deflecting harmful solar winds and radiation making it a formidable guardian of the inner solar system.  One of Jupiters most iconic features is its Great Red Spot a massive storm that has been raging for centuries. This colossal tempest is larger than Earth itself a testament to the planets tumultuous atmosphere. Beneath its thick layer of clouds lies a world of mystery with a core composed of metallic hydrogen and rocky material.  Jupiter boasts a diverse family of moons each with its own unique characteristics. Europa with its icy surface and subsurface ocean tantalizes scientists with the possibility of extraterrestrial life. Ganymede the largest moon in the solar system harbors its own magnetic field and may have a subsurface ocean as well.  Studying Jupiter provides valuable insights into the formation and evolution of our solar system. Its sheer magnitude and complexity continue to fascinate and inspire astronomers offering a window into the mysteries of the cosmos.\n"
     ]
    },
    {
     "name": "stderr",
     "output_type": "stream",
     "text": [
      "127.0.0.1 - - [11/May/2024 23:50:24] \"POST /key HTTP/1.1\" 200 -\n",
      "127.0.0.1 - - [12/May/2024 00:14:45] \"POST /length HTTP/1.1\" 200 -\n"
     ]
    },
    {
     "name": "stdout",
     "output_type": "stream",
     "text": [
      "LOG: Input length: 235\n"
     ]
    },
    {
     "name": "stderr",
     "output_type": "stream",
     "text": [
      "127.0.0.1 - - [12/May/2024 00:16:07] \"POST /length HTTP/1.1\" 200 -\n"
     ]
    },
    {
     "name": "stdout",
     "output_type": "stream",
     "text": [
      "LOG: Input length: 235\n"
     ]
    },
    {
     "name": "stderr",
     "output_type": "stream",
     "text": [
      "127.0.0.1 - - [12/May/2024 00:17:15] \"POST /length HTTP/1.1\" 200 -\n"
     ]
    },
    {
     "name": "stdout",
     "output_type": "stream",
     "text": [
      "LOG: Input length: 235\n"
     ]
    },
    {
     "name": "stderr",
     "output_type": "stream",
     "text": [
      "127.0.0.1 - - [12/May/2024 00:18:57] \"POST /length HTTP/1.1\" 200 -\n"
     ]
    },
    {
     "name": "stdout",
     "output_type": "stream",
     "text": [
      "LOG: Input length: 235\n"
     ]
    },
    {
     "name": "stderr",
     "output_type": "stream",
     "text": [
      "127.0.0.1 - - [12/May/2024 00:19:16] \"POST /length HTTP/1.1\" 200 -\n"
     ]
    },
    {
     "name": "stdout",
     "output_type": "stream",
     "text": [
      "LOG: Input length: 235\n"
     ]
    },
    {
     "name": "stderr",
     "output_type": "stream",
     "text": [
      "127.0.0.1 - - [12/May/2024 00:22:06] \"POST /length HTTP/1.1\" 200 -\n"
     ]
    },
    {
     "name": "stdout",
     "output_type": "stream",
     "text": [
      "LOG: Input length: 235\n"
     ]
    },
    {
     "name": "stderr",
     "output_type": "stream",
     "text": [
      "127.0.0.1 - - [12/May/2024 00:23:25] \"POST /length HTTP/1.1\" 200 -\n"
     ]
    },
    {
     "name": "stdout",
     "output_type": "stream",
     "text": [
      "LOG: Input length: 67\n"
     ]
    },
    {
     "name": "stderr",
     "output_type": "stream",
     "text": [
      "127.0.0.1 - - [12/May/2024 00:24:04] \"POST /length HTTP/1.1\" 200 -\n"
     ]
    },
    {
     "name": "stdout",
     "output_type": "stream",
     "text": [
      "LOG: Input length: 67\n"
     ]
    },
    {
     "name": "stderr",
     "output_type": "stream",
     "text": [
      "127.0.0.1 - - [12/May/2024 00:31:51] \"POST /length HTTP/1.1\" 200 -\n"
     ]
    },
    {
     "name": "stdout",
     "output_type": "stream",
     "text": [
      "LOG: Input length: 67\n"
     ]
    },
    {
     "name": "stderr",
     "output_type": "stream",
     "text": [
      "127.0.0.1 - - [12/May/2024 00:34:01] \"POST /length HTTP/1.1\" 200 -\n"
     ]
    },
    {
     "name": "stdout",
     "output_type": "stream",
     "text": [
      "LOG: Input length: 67\n"
     ]
    },
    {
     "name": "stderr",
     "output_type": "stream",
     "text": [
      "127.0.0.1 - - [12/May/2024 00:37:52] \"POST /length HTTP/1.1\" 200 -\n"
     ]
    },
    {
     "name": "stdout",
     "output_type": "stream",
     "text": [
      "LOG: Input length: 67\n"
     ]
    },
    {
     "name": "stderr",
     "output_type": "stream",
     "text": [
      "127.0.0.1 - - [12/May/2024 00:37:59] \"POST /length HTTP/1.1\" 200 -\n"
     ]
    },
    {
     "name": "stdout",
     "output_type": "stream",
     "text": [
      "LOG: Input length: 67\n"
     ]
    },
    {
     "name": "stderr",
     "output_type": "stream",
     "text": [
      "127.0.0.1 - - [12/May/2024 00:38:04] \"POST /length HTTP/1.1\" 200 -\n"
     ]
    },
    {
     "name": "stdout",
     "output_type": "stream",
     "text": [
      "LOG: Input length: 67\n"
     ]
    },
    {
     "name": "stderr",
     "output_type": "stream",
     "text": [
      "127.0.0.1 - - [12/May/2024 00:39:58] \"POST /length HTTP/1.1\" 200 -\n"
     ]
    },
    {
     "name": "stdout",
     "output_type": "stream",
     "text": [
      "LOG: Input length: 67\n"
     ]
    },
    {
     "name": "stderr",
     "output_type": "stream",
     "text": [
      "127.0.0.1 - - [12/May/2024 00:40:08] \"POST /length HTTP/1.1\" 200 -\n"
     ]
    },
    {
     "name": "stdout",
     "output_type": "stream",
     "text": [
      "LOG: Input length: 67\n"
     ]
    },
    {
     "name": "stderr",
     "output_type": "stream",
     "text": [
      "127.0.0.1 - - [12/May/2024 00:43:50] \"POST /length HTTP/1.1\" 200 -\n"
     ]
    },
    {
     "name": "stdout",
     "output_type": "stream",
     "text": [
      "LOG: Input length: 67\n"
     ]
    },
    {
     "name": "stderr",
     "output_type": "stream",
     "text": [
      "127.0.0.1 - - [12/May/2024 00:43:57] \"POST /length HTTP/1.1\" 200 -\n"
     ]
    },
    {
     "name": "stdout",
     "output_type": "stream",
     "text": [
      "LOG: Input length: 67\n"
     ]
    },
    {
     "name": "stderr",
     "output_type": "stream",
     "text": [
      "127.0.0.1 - - [12/May/2024 00:45:16] \"POST /length HTTP/1.1\" 200 -\n"
     ]
    },
    {
     "name": "stdout",
     "output_type": "stream",
     "text": [
      "LOG: Input length: 67\n"
     ]
    },
    {
     "name": "stderr",
     "output_type": "stream",
     "text": [
      "127.0.0.1 - - [12/May/2024 00:45:23] \"POST /length HTTP/1.1\" 200 -\n"
     ]
    },
    {
     "name": "stdout",
     "output_type": "stream",
     "text": [
      "LOG: Input length: 67\n"
     ]
    },
    {
     "name": "stderr",
     "output_type": "stream",
     "text": [
      "127.0.0.1 - - [12/May/2024 00:46:40] \"POST /length HTTP/1.1\" 200 -\n"
     ]
    },
    {
     "name": "stdout",
     "output_type": "stream",
     "text": [
      "LOG: Input length: 67\n"
     ]
    },
    {
     "name": "stderr",
     "output_type": "stream",
     "text": [
      "127.0.0.1 - - [12/May/2024 00:49:17] \"POST /length HTTP/1.1\" 200 -\n"
     ]
    },
    {
     "name": "stdout",
     "output_type": "stream",
     "text": [
      "LOG: Input length: 67\n"
     ]
    },
    {
     "name": "stderr",
     "output_type": "stream",
     "text": [
      "127.0.0.1 - - [12/May/2024 00:49:53] \"POST /length HTTP/1.1\" 200 -\n"
     ]
    },
    {
     "name": "stdout",
     "output_type": "stream",
     "text": [
      "LOG: Input length: 67\n"
     ]
    },
    {
     "name": "stderr",
     "output_type": "stream",
     "text": [
      "127.0.0.1 - - [12/May/2024 00:51:24] \"POST /length HTTP/1.1\" 200 -\n"
     ]
    },
    {
     "name": "stdout",
     "output_type": "stream",
     "text": [
      "LOG: Input length: 67\n",
      "LOG: Input length: 67\n",
      "LOG: Give some keywords from this text: Jupiter the largest planet in our solar system commands attention with its immense size and swirling clouds of gas. Named after the king of the Roman gods Jupiters colossal presence dominates the space around it. Its massive magnetic field creates a protective shield deflecting harmful solar winds and radiation making it a formidable guardian of the inner solar system.\n"
     ]
    },
    {
     "name": "stderr",
     "output_type": "stream",
     "text": [
      "127.0.0.1 - - [12/May/2024 01:06:24] \"POST /key HTTP/1.1\" 200 -\n"
     ]
    },
    {
     "name": "stdout",
     "output_type": "stream",
     "text": [
      "LOG: Input length: 67\n",
      "LOG: Give some keywords from this text: Jupiter the largest planet in our solar system commands attention with its immense size and swirling clouds of gas. Named after the king of the Roman gods Jupiters colossal presence dominates the space around it. Its massive magnetic field creates a protective shield deflecting harmful solar winds and radiation making it a formidable guardian of the inner solar system.\n"
     ]
    },
    {
     "name": "stderr",
     "output_type": "stream",
     "text": [
      "127.0.0.1 - - [12/May/2024 01:17:28] \"POST /key HTTP/1.1\" 200 -\n"
     ]
    },
    {
     "name": "stdout",
     "output_type": "stream",
     "text": [
      "LOG: Input length: 77\n",
      "LOG: Give some keywords from this text: The MiG21 a legendary Sovietdesigned supersonic fighter aircraft holds a revered place in aviation history. Introduced in the 1950s it became one of the most widely produced jet fighters in the world serving with over 60 countries across several decades. Its sleek deltawing design and powerful engines gave it impressive speed and agility earning it the nickname Fishbed in NATO nomenclature.\n"
     ]
    },
    {
     "name": "stderr",
     "output_type": "stream",
     "text": [
      "127.0.0.1 - - [12/May/2024 01:17:38] \"POST /key HTTP/1.1\" 200 -\n"
     ]
    },
    {
     "name": "stdout",
     "output_type": "stream",
     "text": [
      "LOG: Input length: 109\n",
      "LOG: Give some keywords from this text: Renowned for its simplicity and reliability the MiG21 was designed to be easy to maintain and operate making it a favorite among air forces with limited resources. Its delta wing configuration allowed for quick takeoffs and landings even from short runways making it wellsuited for operations in a variety of environments.  The MiG21 saw extensive combat action during the Cold War and in numerous conflicts around the world. Its combat record includes engagements in Vietnam the Middle East and Africa where its speed and maneuverability often gave it an edge over its adversaries.\n"
     ]
    },
    {
     "name": "stderr",
     "output_type": "stream",
     "text": [
      "127.0.0.1 - - [12/May/2024 01:18:13] \"POST /key HTTP/1.1\" 200 -\n"
     ]
    },
    {
     "name": "stdout",
     "output_type": "stream",
     "text": [
      "LOG: Input length: 54\n",
      "LOG: Give some keywords from this text: Cats beloved companions to millions around the world captivate us with their grace independence and mysterious allure. Domesticated for thousands of years these enigmatic creatures have woven themselves into the fabric of human society earning their place as cherished pets and valued members of the family.\n"
     ]
    },
    {
     "name": "stderr",
     "output_type": "stream",
     "text": [
      "127.0.0.1 - - [12/May/2024 01:19:05] \"POST /key HTTP/1.1\" 200 -\n"
     ]
    },
    {
     "name": "stdout",
     "output_type": "stream",
     "text": [
      "LOG: Input length: 54\n",
      "LOG: Give the most important word in the text: Cats beloved companions to millions around the world captivate us with their grace independence and mysterious allure. Domesticated for thousands of years these enigmatic creatures have woven themselves into the fabric of human society earning their place as cherished pets and valued members of the family.\n"
     ]
    },
    {
     "name": "stderr",
     "output_type": "stream",
     "text": [
      "127.0.0.1 - - [12/May/2024 01:19:43] \"POST /title HTTP/1.1\" 200 -\n"
     ]
    },
    {
     "name": "stdout",
     "output_type": "stream",
     "text": [
      "LOG: Input length: 77\n",
      "LOG: Give the most important word in the text: The MiG21 a legendary Sovietdesigned supersonic fighter aircraft holds a revered place in aviation history. Introduced in the 1950s it became one of the most widely produced jet fighters in the world serving with over 60 countries across several decades. Its sleek deltawing design and powerful engines gave it impressive speed and agility earning it the nickname Fishbed in NATO nomenclature.\n"
     ]
    },
    {
     "name": "stderr",
     "output_type": "stream",
     "text": [
      "127.0.0.1 - - [12/May/2024 01:20:32] \"POST /title HTTP/1.1\" 200 -\n"
     ]
    },
    {
     "name": "stdout",
     "output_type": "stream",
     "text": [
      "LOG: Input length: 67\n",
      "LOG: Give the most important word in the text: Jupiter the largest planet in our solar system commands attention with its immense size and swirling clouds of gas. Named after the king of the Roman gods Jupiters colossal presence dominates the space around it. Its massive magnetic field creates a protective shield deflecting harmful solar winds and radiation making it a formidable guardian of the inner solar system.\n"
     ]
    },
    {
     "name": "stderr",
     "output_type": "stream",
     "text": [
      "127.0.0.1 - - [12/May/2024 01:20:45] \"POST /title HTTP/1.1\" 200 -\n"
     ]
    },
    {
     "name": "stdout",
     "output_type": "stream",
     "text": [
      "LOG: Input length: 64\n",
      "LOG: Give some keywords from this text: Jupiter boasts a diverse family of moons each with its own unique characteristics. Europa with its icy surface and subsurface ocean tantalizes scientists with the possibility of extraterrestrial life. Ganymede the largest moon in the solar system harbors its own magnetic field and may have a subsurface ocean as well.\n"
     ]
    },
    {
     "name": "stderr",
     "output_type": "stream",
     "text": [
      "127.0.0.1 - - [12/May/2024 01:25:36] \"POST /key HTTP/1.1\" 200 -\n"
     ]
    },
    {
     "name": "stdout",
     "output_type": "stream",
     "text": [
      "{'text': \"Jupiter, the largest planet in our solar system, commands attention with its immense size and swirling clouds of gas. Named after the king of the Roman gods, Jupiter's colossal presence dominates the space around it. Its massive magnetic field creates a protective shield, deflecting harmful solar winds and radiation, making it a formidable guardian of the inner solar system.  One of Jupiter's most iconic features is its Great Red Spot, a massive storm that has been raging for centuries. This colossal tempest is larger than Earth itself, a testament to the planet's tumultuous atmosphere. Beneath its thick layer of clouds lies a world of mystery, with a core composed of metallic hydrogen and rocky material.  Jupiter boasts a diverse family of moons, each with its own unique characteristics. Europa, with its icy surface and subsurface ocean, tantalizes scientists with the possibility of extraterrestrial life. Ganymede, the largest moon in the solar system, harbors its own magnetic field and may have a subsurface ocean as well.  Studying Jupiter provides valuable insights into the formation and evolution of our solar system. Its sheer magnitude and complexity continue to fascinate and inspire astronomers, offering a window into the mysteries of the cosmos.\"}\n",
      "LOG: Input length: 235\n",
      "LOG: Summarize in one sentence: Jupiter the largest planet in our solar system commands attention with its immense size and swirling clouds of gas. Named after the king of the Roman gods Jupiters colossal presence dominates the space around it. Its massive magnetic field creates a protective shield deflecting harmful solar winds and radiation making it a formidable guardian of the inner solar system.  One of Jupiters most iconic features is its Great Red Spot a massive storm that has been raging for centuries. This colossal tempest is larger than Earth itself a testament to the planets tumultuous atmosphere. Beneath its thick layer of clouds lies a world of mystery with a core composed of metallic hydrogen and rocky material.  Jupiter boasts a diverse family of moons each with its own unique characteristics. Europa with its icy surface and subsurface ocean tantalizes scientists with the possibility of extraterrestrial life. Ganymede the largest moon in the solar system harbors its own magnetic field and may have a subsurface ocean as well.  Studying Jupiter provides valuable insights into the formation and evolution of our solar system. Its sheer magnitude and complexity continue to fascinate and inspire astronomers offering a window into the mysteries of the cosmos.\n"
     ]
    },
    {
     "name": "stderr",
     "output_type": "stream",
     "text": [
      "127.0.0.1 - - [12/May/2024 01:27:33] \"POST /sum HTTP/1.1\" 200 -\n"
     ]
    },
    {
     "name": "stdout",
     "output_type": "stream",
     "text": [
      "LOG: Input length: 61\n",
      "LOG: Give the most important word in the text: Renowned for its simplicity and reliability the MiG21 was designed to be easy to maintain and operate making it a favorite among air forces with limited resources. Its delta wing configuration allowed for quick takeoffs and landings even from short runways making it wellsuited for operations in a variety of environments.\n"
     ]
    },
    {
     "name": "stderr",
     "output_type": "stream",
     "text": [
      "127.0.0.1 - - [12/May/2024 01:30:00] \"POST /title HTTP/1.1\" 200 -\n",
      "127.0.0.1 - - [12/May/2024 01:33:27] \"POST /length HTTP/1.1\" 200 -\n"
     ]
    },
    {
     "name": "stdout",
     "output_type": "stream",
     "text": [
      "LOG: Input length: 61\n",
      "LOG: Input length: 61\n",
      "LOG: Give the most important word in the text: Renowned for its simplicity and reliability the MiG21 was designed to be easy to maintain and operate making it a favorite among air forces with limited resources. Its delta wing configuration allowed for quick takeoffs and landings even from short runways making it wellsuited for operations in a variety of environments.\n"
     ]
    },
    {
     "name": "stderr",
     "output_type": "stream",
     "text": [
      "127.0.0.1 - - [12/May/2024 01:33:36] \"POST /title HTTP/1.1\" 200 -\n"
     ]
    },
    {
     "name": "stdout",
     "output_type": "stream",
     "text": [
      "LOG: Input length: 61\n",
      "LOG: Give some keywords from this text: Renowned for its simplicity and reliability the MiG21 was designed to be easy to maintain and operate making it a favorite among air forces with limited resources. Its delta wing configuration allowed for quick takeoffs and landings even from short runways making it wellsuited for operations in a variety of environments.\n"
     ]
    },
    {
     "name": "stderr",
     "output_type": "stream",
     "text": [
      "127.0.0.1 - - [12/May/2024 01:34:05] \"POST /key HTTP/1.1\" 200 -\n"
     ]
    },
    {
     "name": "stdout",
     "output_type": "stream",
     "text": [
      "LOG: Input length: 54\n",
      "LOG: Give the most important word in the text: Cats beloved companions to millions around the world captivate us with their grace independence and mysterious allure. Domesticated for thousands of years these enigmatic creatures have woven themselves into the fabric of human society earning their place as cherished pets and valued members of the family.\n"
     ]
    },
    {
     "name": "stderr",
     "output_type": "stream",
     "text": [
      "127.0.0.1 - - [12/May/2024 01:35:20] \"POST /title HTTP/1.1\" 200 -\n"
     ]
    },
    {
     "name": "stdout",
     "output_type": "stream",
     "text": [
      "LOG: Input length: 77\n",
      "LOG: Give the most important word in the text: The MiG21 a legendary Sovietdesigned supersonic fighter aircraft holds a revered place in aviation history. Introduced in the 1950s it became one of the most widely produced jet fighters in the world serving with over 60 countries across several decades. Its sleek deltawing design and powerful engines gave it impressive speed and agility earning it the nickname Fishbed in NATO nomenclature.\n"
     ]
    },
    {
     "name": "stderr",
     "output_type": "stream",
     "text": [
      "127.0.0.1 - - [12/May/2024 01:35:55] \"POST /title HTTP/1.1\" 200 -\n"
     ]
    },
    {
     "name": "stdout",
     "output_type": "stream",
     "text": [
      "LOG: Input length: 67\n",
      "LOG: Give the most important word in the text: Jupiter the largest planet in our solar system commands attention with its immense size and swirling clouds of gas. Named after the king of the Roman gods Jupiters colossal presence dominates the space around it. Its massive magnetic field creates a protective shield deflecting harmful solar winds and radiation making it a formidable guardian of the inner solar system.\n"
     ]
    },
    {
     "name": "stderr",
     "output_type": "stream",
     "text": [
      "127.0.0.1 - - [12/May/2024 01:36:13] \"POST /title HTTP/1.1\" 200 -\n"
     ]
    },
    {
     "name": "stdout",
     "output_type": "stream",
     "text": [
      "{'text': \"Jupiter, the largest planet in our solar system, commands attention with its immense size and swirling clouds of gas. Named after the king of the Roman gods, Jupiter's colossal presence dominates the space around it. Its massive magnetic field creates a protective shield, deflecting harmful solar winds and radiation, making it a formidable guardian of the inner solar system.  One of Jupiter's most iconic features is its Great Red Spot, a massive storm that has been raging for centuries. This colossal tempest is larger than Earth itself, a testament to the planet's tumultuous atmosphere. Beneath its thick layer of clouds lies a world of mystery, with a core composed of metallic hydrogen and rocky material.  Jupiter boasts a diverse family of moons, each with its own unique characteristics. Europa, with its icy surface and subsurface ocean, tantalizes scientists with the possibility of extraterrestrial life. Ganymede, the largest moon in the solar system, harbors its own magnetic field and may have a subsurface ocean as well.  Studying Jupiter provides valuable insights into the formation and evolution of our solar system. Its sheer magnitude and complexity continue to fascinate and inspire astronomers, offering a window into the mysteries of the cosmos.\"}\n",
      "LOG: Input length: 235\n",
      "LOG: Summarize in one sentence: Jupiter the largest planet in our solar system commands attention with its immense size and swirling clouds of gas. Named after the king of the Roman gods Jupiters colossal presence dominates the space around it. Its massive magnetic field creates a protective shield deflecting harmful solar winds and radiation making it a formidable guardian of the inner solar system.  One of Jupiters most iconic features is its Great Red Spot a massive storm that has been raging for centuries. This colossal tempest is larger than Earth itself a testament to the planets tumultuous atmosphere. Beneath its thick layer of clouds lies a world of mystery with a core composed of metallic hydrogen and rocky material.  Jupiter boasts a diverse family of moons each with its own unique characteristics. Europa with its icy surface and subsurface ocean tantalizes scientists with the possibility of extraterrestrial life. Ganymede the largest moon in the solar system harbors its own magnetic field and may have a subsurface ocean as well.  Studying Jupiter provides valuable insights into the formation and evolution of our solar system. Its sheer magnitude and complexity continue to fascinate and inspire astronomers offering a window into the mysteries of the cosmos.\n"
     ]
    },
    {
     "name": "stderr",
     "output_type": "stream",
     "text": [
      "127.0.0.1 - - [12/May/2024 01:36:55] \"POST /sum HTTP/1.1\" 200 -\n"
     ]
    },
    {
     "name": "stdout",
     "output_type": "stream",
     "text": [
      "{'text': 'The MiG-21, a legendary Soviet-designed supersonic fighter aircraft, holds a revered place in aviation history. Introduced in the 1950s, it became one of the most widely produced jet fighters in the world, serving with over 60 countries across several decades. Its sleek delta-wing design and powerful engines gave it impressive speed and agility, earning it the nickname \"Fishbed\" in NATO nomenclature.  Renowned for its simplicity and reliability, the MiG-21 was designed to be easy to maintain and operate, making it a favorite among air forces with limited resources. Its delta wing configuration allowed for quick take-offs and landings, even from short runways, making it well-suited for operations in a variety of environments.  The MiG-21 saw extensive combat action during the Cold War and in numerous conflicts around the world. Its combat record includes engagements in Vietnam, the Middle East, and Africa, where its speed and maneuverability often gave it an edge over its adversaries.  Despite being conceived over half a century ago, the MiG-21 remains in service with several air forces today, a testament to its enduring design and adaptability. While newer aircraft have surpassed it in many respects, the MiG-21\\'s legacy as a versatile and iconic fighter endures in the annals of aviation history.'}\n",
      "LOG: Input length: 249\n",
      "LOG: Summarize in one sentence: The MiG21 a legendary Sovietdesigned supersonic fighter aircraft holds a revered place in aviation history. Introduced in the 1950s it became one of the most widely produced jet fighters in the world serving with over 60 countries across several decades. Its sleek deltawing design and powerful engines gave it impressive speed and agility earning it the nickname Fishbed in NATO nomenclature.  Renowned for its simplicity and reliability the MiG21 was designed to be easy to maintain and operate making it a favorite among air forces with limited resources. Its delta wing configuration allowed for quick takeoffs and landings even from short runways making it wellsuited for operations in a variety of environments.  The MiG21 saw extensive combat action during the Cold War and in numerous conflicts around the world. Its combat record includes engagements in Vietnam the Middle East and Africa where its speed and maneuverability often gave it an edge over its adversaries.  Despite being conceived over half a century ago the MiG21 remains in service with several air forces today a testament to its enduring design and adaptability. While newer aircraft have surpassed it in many respects the MiG21s legacy as a versatile and iconic fighter endures in the annals of aviation history.\n"
     ]
    },
    {
     "name": "stderr",
     "output_type": "stream",
     "text": [
      "127.0.0.1 - - [12/May/2024 01:57:57] \"POST /sum HTTP/1.1\" 200 -\n"
     ]
    },
    {
     "name": "stdout",
     "output_type": "stream",
     "text": [
      "{'text': \"Hello! Here's a 200-word text about cats:  Cats, beloved companions to millions around the world, captivate us with their grace, independence, and mysterious allure. Domesticated for thousands of years, these enigmatic creatures have woven themselves into the fabric of human society, earning their place as cherished pets and valued members of the family.  Known for their agility and keen hunting instincts, cats are skilled predators capable of navigating even the most precarious of environments with ease. Their lithe bodies, sharp claws, and acute senses make them formidable hunters, capable of stalking prey with silent precision.  Yet, despite their predatory nature, cats also possess a softer side. They are affectionate animals, forming strong bonds with their human companions and often seeking out cuddles and attention. Their soothing purrs and gentle nuzzles bring comfort and joy to those fortunate enough to share their homes.  Cats come in a variety of breeds, colors, and personalities, each with its own unique quirks and characteristics. From the playful antics of a kitten to the dignified demeanor of a senior cat, each feline friend brings something special to our lives.  Whether curled up in a sunbeam, exploring the great outdoors, or simply lounging lazily on the couch, cats remind us to appreciate life's simple pleasures and embrace the beauty of the moment.\"}\n",
      "LOG: Input length: 251\n",
      "LOG: Summarize in one sentence: Hello Heres a 200word text about cats  Cats beloved companions to millions around the world captivate us with their grace independence and mysterious allure. Domesticated for thousands of years these enigmatic creatures have woven themselves into the fabric of human society earning their place as cherished pets and valued members of the family.  Known for their agility and keen hunting instincts cats are skilled predators capable of navigating even the most precarious of environments with ease. Their lithe bodies sharp claws and acute senses make them formidable hunters capable of stalking prey with silent precision.  Yet despite their predatory nature cats also possess a softer side. They are affectionate animals forming strong bonds with their human companions and often seeking out cuddles and attention. Their soothing purrs and gentle nuzzles bring comfort and joy to those fortunate enough to share their homes.  Cats come in a variety of breeds colors and personalities each with its own unique quirks and characteristics. From the playful antics of a kitten to the dignified demeanor of a senior cat each feline friend brings something special to our lives.  Whether curled up in a sunbeam exploring the great outdoors or simply lounging lazily on the couch cats remind us to appreciate lifes simple pleasures and embrace the beauty of the moment.\n"
     ]
    },
    {
     "name": "stderr",
     "output_type": "stream",
     "text": [
      "127.0.0.1 - - [12/May/2024 02:02:01] \"POST /sum HTTP/1.1\" 200 -\n"
     ]
    }
   ],
   "source": [
    "from flask import Flask, request, jsonify\n",
    "from flask_cors import CORS\n",
    "import subprocess\n",
    "import re\n",
    "\n",
    "app = Flask(__name__)\n",
    "CORS(app)\n",
    "\n",
    "def req_length(text):\n",
    "    tokens = tokenizer(text)\n",
    "    tokens_length = len(tokens.attention_mask)\n",
    "    print('LOG: Input length: ' + str(tokens_length))\n",
    "    return tokens_length\n",
    "\n",
    "def req_to_json(title, text):\n",
    "    return jsonify({title : text})\n",
    "\n",
    "def req_process(command, text):\n",
    "    req = command + ' ' + text\n",
    "    print('LOG: ' + req)\n",
    "    return generate_text(req)\n",
    "\n",
    "def req_clean(text):\n",
    "    cleaned_text = text.replace('\\n', ' ').replace('\\r', ' ')\n",
    "    cleaned_text = re.sub(r'[^\\w\\s.]', '', cleaned_text)\n",
    "    return cleaned_text\n",
    "\n",
    "@app.route('/sum', methods=['POST'])\n",
    "def sum_req():\n",
    "    data = request.get_json()\n",
    "    print(data)\n",
    "    text = req_clean(data.get('text', ''))\n",
    "    if(req_length(text) <= 1024):\n",
    "        return req_to_json('response', req_process('Summarize in one sentence:', text))\n",
    "        #return req_to_json('response', \"TEST TEXT\")\n",
    "    else:\n",
    "        return req_to_json('error', 'Too long text. Limit is 1024 token.')\n",
    "\n",
    "@app.route('/key', methods=['POST'])\n",
    "def key_req():\n",
    "    data = request.get_json()\n",
    "    text = req_clean(data.get('text', ''))\n",
    "    if(req_length(text) <= 1024):\n",
    "        return req_to_json('response', req_process('Give some keywords from this text:', text))\n",
    "    else:\n",
    "        return req_to_json('error', 'Too long text. Limit is 1024 token.')\n",
    "\n",
    "@app.route('/title', methods=['POST'])\n",
    "def title_req():\n",
    "    data = request.get_json()\n",
    "    text = req_clean(data.get('text', ''))\n",
    "    if(req_length(text) <= 1024):\n",
    "        return req_to_json('response', req_process('Give the most important word in the text:', text))\n",
    "    else:\n",
    "        return req_to_json('error', 'Too long text. Limit is 1024 token.')\n",
    "\n",
    "@app.route('/length', methods=['POST'])\n",
    "def length_req():\n",
    "    data = request.get_json()\n",
    "    text = req_clean(data.get('text', ''))\n",
    "    ret = {'response': req_length(text)}\n",
    "    return jsonify(ret)\n",
    "\n",
    "if __name__ == '__main__':\n",
    "    app.run()"
   ]
  }
 ],
 "metadata": {
  "kernelspec": {
   "display_name": "Python 3 (ipykernel)",
   "language": "python",
   "name": "python3"
  },
  "language_info": {
   "codemirror_mode": {
    "name": "ipython",
    "version": 3
   },
   "file_extension": ".py",
   "mimetype": "text/x-python",
   "name": "python",
   "nbconvert_exporter": "python",
   "pygments_lexer": "ipython3",
   "version": "3.10.11"
  }
 },
 "nbformat": 4,
 "nbformat_minor": 5
}
