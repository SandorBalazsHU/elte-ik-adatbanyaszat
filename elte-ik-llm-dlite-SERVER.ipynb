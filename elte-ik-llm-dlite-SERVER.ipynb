{
 "cells": [
  {
   "cell_type": "markdown",
   "id": "bf75da42-966f-4b7d-975f-6d23646b94af",
   "metadata": {},
   "source": [
    "## Compact and full LLM szerver for the Chrome Extension"
   ]
  },
  {
   "cell_type": "markdown",
   "id": "100f34d5-d0d7-4322-a629-e37a8106c49b",
   "metadata": {},
   "source": [
    "#### The elte-ik-llm-dlite notebook contains the installation and the experiments for the project.\n",
    "#### This notebook is the practical runnable server."
   ]
  },
  {
   "cell_type": "markdown",
   "id": "66aa89bd-780e-4269-bac7-4a3286747032",
   "metadata": {},
   "source": [
    "### (0) Server starting"
   ]
  },
  {
   "cell_type": "markdown",
   "id": "cc388533-34fc-43fc-8df0-9f66e4dc40c6",
   "metadata": {},
   "source": [
    "d:\n",
    "\n",
    "cd D:\\elte-ik-adatbanyaszat\n",
    "\n",
    "venv\\Scripts\\activate\n",
    "\n",
    "jupyter notebook"
   ]
  },
  {
   "cell_type": "markdown",
   "id": "bf59ebf3-a87d-4fd2-9482-b2ff435b82e7",
   "metadata": {},
   "source": [
    "### (1) Load the pretrained model"
   ]
  },
  {
   "cell_type": "markdown",
   "id": "73cff53a-7b6e-4239-b9ee-c56c061e968b",
   "metadata": {},
   "source": [
    "Load and prepare the dlite-v2-1_5b LLM to the GPU"
   ]
  },
  {
   "cell_type": "code",
   "execution_count": 1,
   "id": "adec004f-226d-4cd5-aba9-1bf56ec0a721",
   "metadata": {},
   "outputs": [],
   "source": [
    "import sys\n",
    "sys.path.insert(1, './dlite-v2-1_5b/')\n",
    "from instruct_pipeline import InstructionTextGenerationPipeline\n",
    "from transformers import AutoModelForCausalLM, AutoTokenizer\n",
    "import torch\n",
    "\n",
    "tokenizer = AutoTokenizer.from_pretrained(\"dlite-v2-1_5b\", padding_side=\"left\")\n",
    "model = AutoModelForCausalLM.from_pretrained(\"dlite-v2-1_5b\", device_map=\"cuda\", torch_dtype=torch.bfloat16)\n",
    "\n",
    "generate_text = InstructionTextGenerationPipeline(model=model, tokenizer=tokenizer)"
   ]
  },
  {
   "cell_type": "markdown",
   "id": "d8dec63a-2dbe-4c0d-aa0c-7fbc3178e0d0",
   "metadata": {},
   "source": [
    "### (2) The REST server"
   ]
  },
  {
   "cell_type": "markdown",
   "id": "b019cc38-373c-46a5-bf03-b68b51b81efa",
   "metadata": {},
   "source": [
    "Initialise Flask REST CORS server for recive the process requests"
   ]
  },
  {
   "cell_type": "code",
   "execution_count": null,
   "id": "998ca9ba-457c-42b6-9af4-0b0357633fb4",
   "metadata": {},
   "outputs": [
    {
     "name": "stdout",
     "output_type": "stream",
     "text": [
      " * Serving Flask app '__main__'\n",
      " * Debug mode: off\n"
     ]
    },
    {
     "name": "stderr",
     "output_type": "stream",
     "text": [
      "WARNING: This is a development server. Do not use it in a production deployment. Use a production WSGI server instead.\n",
      " * Running on http://127.0.0.1:5000\n",
      "Press CTRL+C to quit\n",
      "127.0.0.1 - - [13/May/2024 01:33:51] \"POST /length HTTP/1.1\" 200 -\n"
     ]
    },
    {
     "name": "stdout",
     "output_type": "stream",
     "text": [
      "LOG: Input length: 67\n",
      "LOG: Input length: 67\n",
      "LOG: Give the most important word in the text: Jupiter the largest planet in our solar system commands attention with its immense size and swirling clouds of gas. Named after the king of the Roman gods Jupiters colossal presence dominates the space around it. Its massive magnetic field creates a protective shield deflecting harmful solar winds and radiation making it a formidable guardian of the inner solar system.\n"
     ]
    },
    {
     "name": "stderr",
     "output_type": "stream",
     "text": [
      "127.0.0.1 - - [13/May/2024 01:34:16] \"POST /title HTTP/1.1\" 200 -\n"
     ]
    },
    {
     "name": "stdout",
     "output_type": "stream",
     "text": [
      "LOG: Input length: 67\n",
      "LOG: Give some keywords from this text: Jupiter the largest planet in our solar system commands attention with its immense size and swirling clouds of gas. Named after the king of the Roman gods Jupiters colossal presence dominates the space around it. Its massive magnetic field creates a protective shield deflecting harmful solar winds and radiation making it a formidable guardian of the inner solar system.\n"
     ]
    },
    {
     "name": "stderr",
     "output_type": "stream",
     "text": [
      "127.0.0.1 - - [13/May/2024 01:34:33] \"POST /key HTTP/1.1\" 200 -\n"
     ]
    },
    {
     "name": "stdout",
     "output_type": "stream",
     "text": [
      "{'text': \"Jupiter, the largest planet in our solar system, commands attention with its immense size and swirling clouds of gas. Named after the king of the Roman gods, Jupiter's colossal presence dominates the space around it. Its massive magnetic field creates a protective shield, deflecting harmful solar winds and radiation, making it a formidable guardian of the inner solar system.\"}\n",
      "LOG: Input length: 67\n",
      "LOG: Summarize in one sentence: Jupiter the largest planet in our solar system commands attention with its immense size and swirling clouds of gas. Named after the king of the Roman gods Jupiters colossal presence dominates the space around it. Its massive magnetic field creates a protective shield deflecting harmful solar winds and radiation making it a formidable guardian of the inner solar system.\n"
     ]
    },
    {
     "name": "stderr",
     "output_type": "stream",
     "text": [
      "127.0.0.1 - - [13/May/2024 01:35:03] \"POST /sum HTTP/1.1\" 200 -\n",
      "127.0.0.1 - - [13/May/2024 01:35:55] \"POST /length HTTP/1.1\" 200 -\n"
     ]
    },
    {
     "name": "stdout",
     "output_type": "stream",
     "text": [
      "LOG: Input length: 235\n",
      "LOG: Input length: 235\n",
      "LOG: Give the most important word in the text: Jupiter the largest planet in our solar system commands attention with its immense size and swirling clouds of gas. Named after the king of the Roman gods Jupiters colossal presence dominates the space around it. Its massive magnetic field creates a protective shield deflecting harmful solar winds and radiation making it a formidable guardian of the inner solar system.  One of Jupiters most iconic features is its Great Red Spot a massive storm that has been raging for centuries. This colossal tempest is larger than Earth itself a testament to the planets tumultuous atmosphere. Beneath its thick layer of clouds lies a world of mystery with a core composed of metallic hydrogen and rocky material.  Jupiter boasts a diverse family of moons each with its own unique characteristics. Europa with its icy surface and subsurface ocean tantalizes scientists with the possibility of extraterrestrial life. Ganymede the largest moon in the solar system harbors its own magnetic field and may have a subsurface ocean as well.  Studying Jupiter provides valuable insights into the formation and evolution of our solar system. Its sheer magnitude and complexity continue to fascinate and inspire astronomers offering a window into the mysteries of the cosmos.\n"
     ]
    },
    {
     "name": "stderr",
     "output_type": "stream",
     "text": [
      "127.0.0.1 - - [13/May/2024 01:36:09] \"POST /title HTTP/1.1\" 200 -\n"
     ]
    },
    {
     "name": "stdout",
     "output_type": "stream",
     "text": [
      "LOG: Input length: 235\n",
      "LOG: Give some keywords from this text: Jupiter the largest planet in our solar system commands attention with its immense size and swirling clouds of gas. Named after the king of the Roman gods Jupiters colossal presence dominates the space around it. Its massive magnetic field creates a protective shield deflecting harmful solar winds and radiation making it a formidable guardian of the inner solar system.  One of Jupiters most iconic features is its Great Red Spot a massive storm that has been raging for centuries. This colossal tempest is larger than Earth itself a testament to the planets tumultuous atmosphere. Beneath its thick layer of clouds lies a world of mystery with a core composed of metallic hydrogen and rocky material.  Jupiter boasts a diverse family of moons each with its own unique characteristics. Europa with its icy surface and subsurface ocean tantalizes scientists with the possibility of extraterrestrial life. Ganymede the largest moon in the solar system harbors its own magnetic field and may have a subsurface ocean as well.  Studying Jupiter provides valuable insights into the formation and evolution of our solar system. Its sheer magnitude and complexity continue to fascinate and inspire astronomers offering a window into the mysteries of the cosmos.\n"
     ]
    },
    {
     "name": "stderr",
     "output_type": "stream",
     "text": [
      "127.0.0.1 - - [13/May/2024 01:38:18] \"POST /key HTTP/1.1\" 200 -\n"
     ]
    },
    {
     "name": "stdout",
     "output_type": "stream",
     "text": [
      "{'text': \"Jupiter, the largest planet in our solar system, commands attention with its immense size and swirling clouds of gas. Named after the king of the Roman gods, Jupiter's colossal presence dominates the space around it. Its massive magnetic field creates a protective shield, deflecting harmful solar winds and radiation, making it a formidable guardian of the inner solar system.  One of Jupiter's most iconic features is its Great Red Spot, a massive storm that has been raging for centuries. This colossal tempest is larger than Earth itself, a testament to the planet's tumultuous atmosphere. Beneath its thick layer of clouds lies a world of mystery, with a core composed of metallic hydrogen and rocky material.  Jupiter boasts a diverse family of moons, each with its own unique characteristics. Europa, with its icy surface and subsurface ocean, tantalizes scientists with the possibility of extraterrestrial life. Ganymede, the largest moon in the solar system, harbors its own magnetic field and may have a subsurface ocean as well.  Studying Jupiter provides valuable insights into the formation and evolution of our solar system. Its sheer magnitude and complexity continue to fascinate and inspire astronomers, offering a window into the mysteries of the cosmos.\"}\n",
      "LOG: Input length: 235\n",
      "LOG: Summarize in one sentence: Jupiter the largest planet in our solar system commands attention with its immense size and swirling clouds of gas. Named after the king of the Roman gods Jupiters colossal presence dominates the space around it. Its massive magnetic field creates a protective shield deflecting harmful solar winds and radiation making it a formidable guardian of the inner solar system.  One of Jupiters most iconic features is its Great Red Spot a massive storm that has been raging for centuries. This colossal tempest is larger than Earth itself a testament to the planets tumultuous atmosphere. Beneath its thick layer of clouds lies a world of mystery with a core composed of metallic hydrogen and rocky material.  Jupiter boasts a diverse family of moons each with its own unique characteristics. Europa with its icy surface and subsurface ocean tantalizes scientists with the possibility of extraterrestrial life. Ganymede the largest moon in the solar system harbors its own magnetic field and may have a subsurface ocean as well.  Studying Jupiter provides valuable insights into the formation and evolution of our solar system. Its sheer magnitude and complexity continue to fascinate and inspire astronomers offering a window into the mysteries of the cosmos.\n"
     ]
    },
    {
     "name": "stderr",
     "output_type": "stream",
     "text": [
      "127.0.0.1 - - [13/May/2024 01:42:24] \"POST /sum HTTP/1.1\" 200 -\n",
      "127.0.0.1 - - [13/May/2024 01:43:35] \"POST /length HTTP/1.1\" 200 -\n"
     ]
    },
    {
     "name": "stdout",
     "output_type": "stream",
     "text": [
      "LOG: Input length: 132\n",
      "LOG: Input length: 132\n",
      "LOG: Give the most important word in the text: Jupiter the largest planet in our solar system commands attention with its immense size and swirling clouds of gas. Named after the king of the Roman gods Jupiters colossal presence dominates the space around it. Its massive magnetic field creates a protective shield deflecting harmful solar winds and radiation making it a formidable guardian of the inner solar system.  One of Jupiters most iconic features is its Great Red Spot a massive storm that has been raging for centuries. This colossal tempest is larger than Earth itself a testament to the planets tumultuous atmosphere. Beneath its thick layer of clouds lies a world of mystery with a core composed of metallic hydrogen and rocky material.\n"
     ]
    },
    {
     "name": "stderr",
     "output_type": "stream",
     "text": [
      "127.0.0.1 - - [13/May/2024 01:43:53] \"POST /title HTTP/1.1\" 200 -\n"
     ]
    },
    {
     "name": "stdout",
     "output_type": "stream",
     "text": [
      "LOG: Input length: 132\n",
      "LOG: Give some keywords from this text: Jupiter the largest planet in our solar system commands attention with its immense size and swirling clouds of gas. Named after the king of the Roman gods Jupiters colossal presence dominates the space around it. Its massive magnetic field creates a protective shield deflecting harmful solar winds and radiation making it a formidable guardian of the inner solar system.  One of Jupiters most iconic features is its Great Red Spot a massive storm that has been raging for centuries. This colossal tempest is larger than Earth itself a testament to the planets tumultuous atmosphere. Beneath its thick layer of clouds lies a world of mystery with a core composed of metallic hydrogen and rocky material.\n"
     ]
    },
    {
     "name": "stderr",
     "output_type": "stream",
     "text": [
      "127.0.0.1 - - [13/May/2024 01:45:05] \"POST /key HTTP/1.1\" 200 -\n"
     ]
    },
    {
     "name": "stdout",
     "output_type": "stream",
     "text": [
      "{'text': \"Jupiter, the largest planet in our solar system, commands attention with its immense size and swirling clouds of gas. Named after the king of the Roman gods, Jupiter's colossal presence dominates the space around it. Its massive magnetic field creates a protective shield, deflecting harmful solar winds and radiation, making it a formidable guardian of the inner solar system.  One of Jupiter's most iconic features is its Great Red Spot, a massive storm that has been raging for centuries. This colossal tempest is larger than Earth itself, a testament to the planet's tumultuous atmosphere. Beneath its thick layer of clouds lies a world of mystery, with a core composed of metallic hydrogen and rocky material.\"}\n",
      "LOG: Input length: 132\n",
      "LOG: Summarize in one sentence: Jupiter the largest planet in our solar system commands attention with its immense size and swirling clouds of gas. Named after the king of the Roman gods Jupiters colossal presence dominates the space around it. Its massive magnetic field creates a protective shield deflecting harmful solar winds and radiation making it a formidable guardian of the inner solar system.  One of Jupiters most iconic features is its Great Red Spot a massive storm that has been raging for centuries. This colossal tempest is larger than Earth itself a testament to the planets tumultuous atmosphere. Beneath its thick layer of clouds lies a world of mystery with a core composed of metallic hydrogen and rocky material.\n"
     ]
    },
    {
     "name": "stderr",
     "output_type": "stream",
     "text": [
      "127.0.0.1 - - [13/May/2024 01:46:38] \"POST /sum HTTP/1.1\" 200 -\n",
      "127.0.0.1 - - [13/May/2024 01:46:40] \"POST /length HTTP/1.1\" 200 -\n"
     ]
    },
    {
     "name": "stdout",
     "output_type": "stream",
     "text": [
      "LOG: Input length: 77\n",
      "LOG: Input length: 77\n",
      "LOG: Give the most important word in the text: The MiG21 a legendary Sovietdesigned supersonic fighter aircraft holds a revered place in aviation history. Introduced in the 1950s it became one of the most widely produced jet fighters in the world serving with over 60 countries across several decades. Its sleek deltawing design and powerful engines gave it impressive speed and agility earning it the nickname Fishbed in NATO nomenclature.\n"
     ]
    },
    {
     "name": "stderr",
     "output_type": "stream",
     "text": [
      "127.0.0.1 - - [13/May/2024 01:46:45] \"POST /title HTTP/1.1\" 200 -\n"
     ]
    },
    {
     "name": "stdout",
     "output_type": "stream",
     "text": [
      "LOG: Input length: 77\n",
      "LOG: Give some keywords from this text: The MiG21 a legendary Sovietdesigned supersonic fighter aircraft holds a revered place in aviation history. Introduced in the 1950s it became one of the most widely produced jet fighters in the world serving with over 60 countries across several decades. Its sleek deltawing design and powerful engines gave it impressive speed and agility earning it the nickname Fishbed in NATO nomenclature.\n"
     ]
    },
    {
     "name": "stderr",
     "output_type": "stream",
     "text": [
      "D:\\elte-ik-adatbanyaszat\\venv\\lib\\site-packages\\transformers\\pipelines\\base.py:1157: UserWarning: You seem to be using the pipelines sequentially on GPU. In order to maximize efficiency please use a dataset\n",
      "  warnings.warn(\n",
      "127.0.0.1 - - [13/May/2024 01:47:12] \"POST /key HTTP/1.1\" 200 -\n"
     ]
    },
    {
     "name": "stdout",
     "output_type": "stream",
     "text": [
      "{'text': 'The MiG-21, a legendary Soviet-designed supersonic fighter aircraft, holds a revered place in aviation history. Introduced in the 1950s, it became one of the most widely produced jet fighters in the world, serving with over 60 countries across several decades. Its sleek delta-wing design and powerful engines gave it impressive speed and agility, earning it the nickname \"Fishbed\" in NATO nomenclature.'}\n",
      "LOG: Input length: 77\n",
      "LOG: Summarize in one sentence: The MiG21 a legendary Sovietdesigned supersonic fighter aircraft holds a revered place in aviation history. Introduced in the 1950s it became one of the most widely produced jet fighters in the world serving with over 60 countries across several decades. Its sleek deltawing design and powerful engines gave it impressive speed and agility earning it the nickname Fishbed in NATO nomenclature.\n"
     ]
    },
    {
     "name": "stderr",
     "output_type": "stream",
     "text": [
      "127.0.0.1 - - [13/May/2024 01:48:02] \"POST /sum HTTP/1.1\" 200 -\n",
      "127.0.0.1 - - [13/May/2024 01:48:30] \"POST /length HTTP/1.1\" 200 -\n"
     ]
    },
    {
     "name": "stdout",
     "output_type": "stream",
     "text": [
      "LOG: Input length: 155\n",
      "LOG: Input length: 155\n",
      "LOG: Give the most important word in the text: Hello Sure heres a 200word text about the MiG21 fighter jet  The MiG21 a legendary Sovietdesigned supersonic fighter aircraft holds a revered place in aviation history. Introduced in the 1950s it became one of the most widely produced jet fighters in the world serving with over 60 countries across several decades. Its sleek deltawing design and powerful engines gave it impressive speed and agility earning it the nickname Fishbed in NATO nomenclature.  Renowned for its simplicity and reliability the MiG21 was designed to be easy to maintain and operate making it a favorite among air forces with limited resources. Its delta wing configuration allowed for quick takeoffs and landings even from short runways making it wellsuited for operations in a variety of environments.\n"
     ]
    },
    {
     "name": "stderr",
     "output_type": "stream",
     "text": [
      "127.0.0.1 - - [13/May/2024 01:48:34] \"POST /title HTTP/1.1\" 200 -\n",
      "127.0.0.1 - - [13/May/2024 01:48:47] \"POST /length HTTP/1.1\" 200 -\n"
     ]
    },
    {
     "name": "stdout",
     "output_type": "stream",
     "text": [
      "LOG: Input length: 139\n"
     ]
    },
    {
     "name": "stderr",
     "output_type": "stream",
     "text": [
      "127.0.0.1 - - [13/May/2024 01:48:59] \"POST /length HTTP/1.1\" 200 -\n"
     ]
    },
    {
     "name": "stdout",
     "output_type": "stream",
     "text": [
      "LOG: Input length: 139\n",
      "LOG: Input length: 139\n",
      "LOG: Give the most important word in the text: The MiG21 a legendary Sovietdesigned supersonic fighter aircraft holds a revered place in aviation history. Introduced in the 1950s it became one of the most widely produced jet fighters in the world serving with over 60 countries across several decades. Its sleek deltawing design and powerful engines gave it impressive speed and agility earning it the nickname Fishbed in NATO nomenclature.  Renowned for its simplicity and reliability the MiG21 was designed to be easy to maintain and operate making it a favorite among air forces with limited resources. Its delta wing configuration allowed for quick takeoffs and landings even from short runways making it wellsuited for operations in a variety of environments.\n"
     ]
    },
    {
     "name": "stderr",
     "output_type": "stream",
     "text": [
      "127.0.0.1 - - [13/May/2024 01:50:00] \"POST /title HTTP/1.1\" 200 -\n"
     ]
    },
    {
     "name": "stdout",
     "output_type": "stream",
     "text": [
      "LOG: Input length: 139\n",
      "LOG: Give some keywords from this text: The MiG21 a legendary Sovietdesigned supersonic fighter aircraft holds a revered place in aviation history. Introduced in the 1950s it became one of the most widely produced jet fighters in the world serving with over 60 countries across several decades. Its sleek deltawing design and powerful engines gave it impressive speed and agility earning it the nickname Fishbed in NATO nomenclature.  Renowned for its simplicity and reliability the MiG21 was designed to be easy to maintain and operate making it a favorite among air forces with limited resources. Its delta wing configuration allowed for quick takeoffs and landings even from short runways making it wellsuited for operations in a variety of environments.\n"
     ]
    },
    {
     "name": "stderr",
     "output_type": "stream",
     "text": [
      "127.0.0.1 - - [13/May/2024 01:50:46] \"POST /key HTTP/1.1\" 200 -\n"
     ]
    },
    {
     "name": "stdout",
     "output_type": "stream",
     "text": [
      "{'text': 'The MiG-21, a legendary Soviet-designed supersonic fighter aircraft, holds a revered place in aviation history. Introduced in the 1950s, it became one of the most widely produced jet fighters in the world, serving with over 60 countries across several decades. Its sleek delta-wing design and powerful engines gave it impressive speed and agility, earning it the nickname \"Fishbed\" in NATO nomenclature.  Renowned for its simplicity and reliability, the MiG-21 was designed to be easy to maintain and operate, making it a favorite among air forces with limited resources. Its delta wing configuration allowed for quick take-offs and landings, even from short runways, making it well-suited for operations in a variety of environments.'}\n",
      "LOG: Input length: 139\n",
      "LOG: Summarize in one sentence: The MiG21 a legendary Sovietdesigned supersonic fighter aircraft holds a revered place in aviation history. Introduced in the 1950s it became one of the most widely produced jet fighters in the world serving with over 60 countries across several decades. Its sleek deltawing design and powerful engines gave it impressive speed and agility earning it the nickname Fishbed in NATO nomenclature.  Renowned for its simplicity and reliability the MiG21 was designed to be easy to maintain and operate making it a favorite among air forces with limited resources. Its delta wing configuration allowed for quick takeoffs and landings even from short runways making it wellsuited for operations in a variety of environments.\n"
     ]
    },
    {
     "name": "stderr",
     "output_type": "stream",
     "text": [
      "127.0.0.1 - - [13/May/2024 01:51:32] \"POST /sum HTTP/1.1\" 200 -\n"
     ]
    },
    {
     "name": "stdout",
     "output_type": "stream",
     "text": [
      "LOG: Input length: 139\n",
      "LOG: Give the most important word in the text: The MiG21 a legendary Sovietdesigned supersonic fighter aircraft holds a revered place in aviation history. Introduced in the 1950s it became one of the most widely produced jet fighters in the world serving with over 60 countries across several decades. Its sleek deltawing design and powerful engines gave it impressive speed and agility earning it the nickname Fishbed in NATO nomenclature.  Renowned for its simplicity and reliability the MiG21 was designed to be easy to maintain and operate making it a favorite among air forces with limited resources. Its delta wing configuration allowed for quick takeoffs and landings even from short runways making it wellsuited for operations in a variety of environments.\n"
     ]
    },
    {
     "name": "stderr",
     "output_type": "stream",
     "text": [
      "127.0.0.1 - - [13/May/2024 01:51:53] \"POST /title HTTP/1.1\" 200 -\n",
      "127.0.0.1 - - [13/May/2024 01:52:13] \"POST /length HTTP/1.1\" 200 -\n"
     ]
    },
    {
     "name": "stdout",
     "output_type": "stream",
     "text": [
      "LOG: Input length: 249\n",
      "LOG: Input length: 249\n",
      "LOG: Give the most important word in the text: The MiG21 a legendary Sovietdesigned supersonic fighter aircraft holds a revered place in aviation history. Introduced in the 1950s it became one of the most widely produced jet fighters in the world serving with over 60 countries across several decades. Its sleek deltawing design and powerful engines gave it impressive speed and agility earning it the nickname Fishbed in NATO nomenclature.  Renowned for its simplicity and reliability the MiG21 was designed to be easy to maintain and operate making it a favorite among air forces with limited resources. Its delta wing configuration allowed for quick takeoffs and landings even from short runways making it wellsuited for operations in a variety of environments.  The MiG21 saw extensive combat action during the Cold War and in numerous conflicts around the world. Its combat record includes engagements in Vietnam the Middle East and Africa where its speed and maneuverability often gave it an edge over its adversaries.  Despite being conceived over half a century ago the MiG21 remains in service with several air forces today a testament to its enduring design and adaptability. While newer aircraft have surpassed it in many respects the MiG21s legacy as a versatile and iconic fighter endures in the annals of aviation history.\n"
     ]
    },
    {
     "name": "stderr",
     "output_type": "stream",
     "text": [
      "127.0.0.1 - - [13/May/2024 01:52:57] \"POST /title HTTP/1.1\" 200 -\n"
     ]
    },
    {
     "name": "stdout",
     "output_type": "stream",
     "text": [
      "LOG: Input length: 249\n",
      "LOG: Give some keywords from this text: The MiG21 a legendary Sovietdesigned supersonic fighter aircraft holds a revered place in aviation history. Introduced in the 1950s it became one of the most widely produced jet fighters in the world serving with over 60 countries across several decades. Its sleek deltawing design and powerful engines gave it impressive speed and agility earning it the nickname Fishbed in NATO nomenclature.  Renowned for its simplicity and reliability the MiG21 was designed to be easy to maintain and operate making it a favorite among air forces with limited resources. Its delta wing configuration allowed for quick takeoffs and landings even from short runways making it wellsuited for operations in a variety of environments.  The MiG21 saw extensive combat action during the Cold War and in numerous conflicts around the world. Its combat record includes engagements in Vietnam the Middle East and Africa where its speed and maneuverability often gave it an edge over its adversaries.  Despite being conceived over half a century ago the MiG21 remains in service with several air forces today a testament to its enduring design and adaptability. While newer aircraft have surpassed it in many respects the MiG21s legacy as a versatile and iconic fighter endures in the annals of aviation history.\n"
     ]
    },
    {
     "name": "stderr",
     "output_type": "stream",
     "text": [
      "127.0.0.1 - - [13/May/2024 01:53:54] \"POST /key HTTP/1.1\" 200 -\n"
     ]
    },
    {
     "name": "stdout",
     "output_type": "stream",
     "text": [
      "{'text': 'The MiG-21, a legendary Soviet-designed supersonic fighter aircraft, holds a revered place in aviation history. Introduced in the 1950s, it became one of the most widely produced jet fighters in the world, serving with over 60 countries across several decades. Its sleek delta-wing design and powerful engines gave it impressive speed and agility, earning it the nickname \"Fishbed\" in NATO nomenclature.  Renowned for its simplicity and reliability, the MiG-21 was designed to be easy to maintain and operate, making it a favorite among air forces with limited resources. Its delta wing configuration allowed for quick take-offs and landings, even from short runways, making it well-suited for operations in a variety of environments.  The MiG-21 saw extensive combat action during the Cold War and in numerous conflicts around the world. Its combat record includes engagements in Vietnam, the Middle East, and Africa, where its speed and maneuverability often gave it an edge over its adversaries.  Despite being conceived over half a century ago, the MiG-21 remains in service with several air forces today, a testament to its enduring design and adaptability. While newer aircraft have surpassed it in many respects, the MiG-21\\'s legacy as a versatile and iconic fighter endures in the annals of aviation history.'}\n",
      "LOG: Input length: 249\n",
      "LOG: Summarize in one sentence: The MiG21 a legendary Sovietdesigned supersonic fighter aircraft holds a revered place in aviation history. Introduced in the 1950s it became one of the most widely produced jet fighters in the world serving with over 60 countries across several decades. Its sleek deltawing design and powerful engines gave it impressive speed and agility earning it the nickname Fishbed in NATO nomenclature.  Renowned for its simplicity and reliability the MiG21 was designed to be easy to maintain and operate making it a favorite among air forces with limited resources. Its delta wing configuration allowed for quick takeoffs and landings even from short runways making it wellsuited for operations in a variety of environments.  The MiG21 saw extensive combat action during the Cold War and in numerous conflicts around the world. Its combat record includes engagements in Vietnam the Middle East and Africa where its speed and maneuverability often gave it an edge over its adversaries.  Despite being conceived over half a century ago the MiG21 remains in service with several air forces today a testament to its enduring design and adaptability. While newer aircraft have surpassed it in many respects the MiG21s legacy as a versatile and iconic fighter endures in the annals of aviation history.\n"
     ]
    },
    {
     "name": "stderr",
     "output_type": "stream",
     "text": [
      "127.0.0.1 - - [13/May/2024 01:55:55] \"POST /sum HTTP/1.1\" 200 -\n",
      "127.0.0.1 - - [13/May/2024 01:56:14] \"POST /length HTTP/1.1\" 200 -\n"
     ]
    },
    {
     "name": "stdout",
     "output_type": "stream",
     "text": [
      "LOG: Input length: 54\n",
      "LOG: Input length: 54\n",
      "LOG: Give the most important word in the text: Cats beloved companions to millions around the world captivate us with their grace independence and mysterious allure. Domesticated for thousands of years these enigmatic creatures have woven themselves into the fabric of human society earning their place as cherished pets and valued members of the family.\n"
     ]
    },
    {
     "name": "stderr",
     "output_type": "stream",
     "text": [
      "127.0.0.1 - - [13/May/2024 01:56:21] \"POST /title HTTP/1.1\" 200 -\n"
     ]
    },
    {
     "name": "stdout",
     "output_type": "stream",
     "text": [
      "LOG: Input length: 54\n",
      "LOG: Give the most important word in the text: Cats beloved companions to millions around the world captivate us with their grace independence and mysterious allure. Domesticated for thousands of years these enigmatic creatures have woven themselves into the fabric of human society earning their place as cherished pets and valued members of the family.\n"
     ]
    },
    {
     "name": "stderr",
     "output_type": "stream",
     "text": [
      "127.0.0.1 - - [13/May/2024 01:56:35] \"POST /title HTTP/1.1\" 200 -\n"
     ]
    },
    {
     "name": "stdout",
     "output_type": "stream",
     "text": [
      "LOG: Input length: 54\n",
      "LOG: Give some keywords from this text: Cats beloved companions to millions around the world captivate us with their grace independence and mysterious allure. Domesticated for thousands of years these enigmatic creatures have woven themselves into the fabric of human society earning their place as cherished pets and valued members of the family.\n"
     ]
    },
    {
     "name": "stderr",
     "output_type": "stream",
     "text": [
      "127.0.0.1 - - [13/May/2024 01:56:59] \"POST /key HTTP/1.1\" 200 -\n"
     ]
    },
    {
     "name": "stdout",
     "output_type": "stream",
     "text": [
      "{'text': 'Cats, beloved companions to millions around the world, captivate us with their grace, independence, and mysterious allure. Domesticated for thousands of years, these enigmatic creatures have woven themselves into the fabric of human society, earning their place as cherished pets and valued members of the family.'}\n",
      "LOG: Input length: 54\n",
      "LOG: Summarize in one sentence: Cats beloved companions to millions around the world captivate us with their grace independence and mysterious allure. Domesticated for thousands of years these enigmatic creatures have woven themselves into the fabric of human society earning their place as cherished pets and valued members of the family.\n"
     ]
    },
    {
     "name": "stderr",
     "output_type": "stream",
     "text": [
      "127.0.0.1 - - [13/May/2024 01:57:34] \"POST /sum HTTP/1.1\" 200 -\n",
      "127.0.0.1 - - [13/May/2024 01:57:53] \"POST /length HTTP/1.1\" 200 -\n"
     ]
    },
    {
     "name": "stdout",
     "output_type": "stream",
     "text": [
      "LOG: Input length: 100\n",
      "LOG: Input length: 100\n",
      "LOG: Give the most important word in the text: Cats beloved companions to millions around the world captivate us with their grace independence and mysterious allure. Domesticated for thousands of years these enigmatic creatures have woven themselves into the fabric of human society earning their place as cherished pets and valued members of the family.  Known for their agility and keen hunting instincts cats are skilled predators capable of navigating even the most precarious of environments with ease. Their lithe bodies sharp claws and acute senses make them formidable hunters capable of stalking prey with silent precision.\n"
     ]
    },
    {
     "name": "stderr",
     "output_type": "stream",
     "text": [
      "127.0.0.1 - - [13/May/2024 01:58:06] \"POST /title HTTP/1.1\" 200 -\n"
     ]
    },
    {
     "name": "stdout",
     "output_type": "stream",
     "text": [
      "LOG: Input length: 100\n",
      "LOG: Give some keywords from this text: Cats beloved companions to millions around the world captivate us with their grace independence and mysterious allure. Domesticated for thousands of years these enigmatic creatures have woven themselves into the fabric of human society earning their place as cherished pets and valued members of the family.  Known for their agility and keen hunting instincts cats are skilled predators capable of navigating even the most precarious of environments with ease. Their lithe bodies sharp claws and acute senses make them formidable hunters capable of stalking prey with silent precision.\n"
     ]
    },
    {
     "name": "stderr",
     "output_type": "stream",
     "text": [
      "127.0.0.1 - - [13/May/2024 01:58:17] \"POST /key HTTP/1.1\" 200 -\n"
     ]
    },
    {
     "name": "stdout",
     "output_type": "stream",
     "text": [
      "{'text': 'Cats, beloved companions to millions around the world, captivate us with their grace, independence, and mysterious allure. Domesticated for thousands of years, these enigmatic creatures have woven themselves into the fabric of human society, earning their place as cherished pets and valued members of the family.  Known for their agility and keen hunting instincts, cats are skilled predators capable of navigating even the most precarious of environments with ease. Their lithe bodies, sharp claws, and acute senses make them formidable hunters, capable of stalking prey with silent precision.'}\n",
      "LOG: Input length: 100\n",
      "LOG: Summarize in one sentence: Cats beloved companions to millions around the world captivate us with their grace independence and mysterious allure. Domesticated for thousands of years these enigmatic creatures have woven themselves into the fabric of human society earning their place as cherished pets and valued members of the family.  Known for their agility and keen hunting instincts cats are skilled predators capable of navigating even the most precarious of environments with ease. Their lithe bodies sharp claws and acute senses make them formidable hunters capable of stalking prey with silent precision.\n"
     ]
    },
    {
     "name": "stderr",
     "output_type": "stream",
     "text": [
      "127.0.0.1 - - [13/May/2024 01:58:33] \"POST /sum HTTP/1.1\" 200 -\n",
      "127.0.0.1 - - [13/May/2024 01:58:55] \"POST /length HTTP/1.1\" 200 -\n"
     ]
    },
    {
     "name": "stdout",
     "output_type": "stream",
     "text": [
      "LOG: Input length: 242\n",
      "LOG: Input length: 242\n",
      "LOG: Give the most important word in the text: Cats beloved companions to millions around the world captivate us with their grace independence and mysterious allure. Domesticated for thousands of years these enigmatic creatures have woven themselves into the fabric of human society earning their place as cherished pets and valued members of the family.  Known for their agility and keen hunting instincts cats are skilled predators capable of navigating even the most precarious of environments with ease. Their lithe bodies sharp claws and acute senses make them formidable hunters capable of stalking prey with silent precision.  Yet despite their predatory nature cats also possess a softer side. They are affectionate animals forming strong bonds with their human companions and often seeking out cuddles and attention. Their soothing purrs and gentle nuzzles bring comfort and joy to those fortunate enough to share their homes.  Cats come in a variety of breeds colors and personalities each with its own unique quirks and characteristics. From the playful antics of a kitten to the dignified demeanor of a senior cat each feline friend brings something special to our lives.  Whether curled up in a sunbeam exploring the great outdoors or simply lounging lazily on the couch cats remind us to appreciate lifes simple pleasures and embrace the beauty of the moment.\n"
     ]
    },
    {
     "name": "stderr",
     "output_type": "stream",
     "text": [
      "127.0.0.1 - - [13/May/2024 01:58:59] \"POST /title HTTP/1.1\" 200 -\n"
     ]
    },
    {
     "name": "stdout",
     "output_type": "stream",
     "text": [
      "LOG: Input length: 242\n",
      "LOG: Give some keywords from this text: Cats beloved companions to millions around the world captivate us with their grace independence and mysterious allure. Domesticated for thousands of years these enigmatic creatures have woven themselves into the fabric of human society earning their place as cherished pets and valued members of the family.  Known for their agility and keen hunting instincts cats are skilled predators capable of navigating even the most precarious of environments with ease. Their lithe bodies sharp claws and acute senses make them formidable hunters capable of stalking prey with silent precision.  Yet despite their predatory nature cats also possess a softer side. They are affectionate animals forming strong bonds with their human companions and often seeking out cuddles and attention. Their soothing purrs and gentle nuzzles bring comfort and joy to those fortunate enough to share their homes.  Cats come in a variety of breeds colors and personalities each with its own unique quirks and characteristics. From the playful antics of a kitten to the dignified demeanor of a senior cat each feline friend brings something special to our lives.  Whether curled up in a sunbeam exploring the great outdoors or simply lounging lazily on the couch cats remind us to appreciate lifes simple pleasures and embrace the beauty of the moment.\n"
     ]
    },
    {
     "name": "stderr",
     "output_type": "stream",
     "text": [
      "127.0.0.1 - - [13/May/2024 01:59:21] \"POST /key HTTP/1.1\" 200 -\n"
     ]
    },
    {
     "name": "stdout",
     "output_type": "stream",
     "text": [
      "{'text': \"Cats, beloved companions to millions around the world, captivate us with their grace, independence, and mysterious allure. Domesticated for thousands of years, these enigmatic creatures have woven themselves into the fabric of human society, earning their place as cherished pets and valued members of the family.  Known for their agility and keen hunting instincts, cats are skilled predators capable of navigating even the most precarious of environments with ease. Their lithe bodies, sharp claws, and acute senses make them formidable hunters, capable of stalking prey with silent precision.  Yet, despite their predatory nature, cats also possess a softer side. They are affectionate animals, forming strong bonds with their human companions and often seeking out cuddles and attention. Their soothing purrs and gentle nuzzles bring comfort and joy to those fortunate enough to share their homes.  Cats come in a variety of breeds, colors, and personalities, each with its own unique quirks and characteristics. From the playful antics of a kitten to the dignified demeanor of a senior cat, each feline friend brings something special to our lives.  Whether curled up in a sunbeam, exploring the great outdoors, or simply lounging lazily on the couch, cats remind us to appreciate life's simple pleasures and embrace the beauty of the moment.\"}\n",
      "LOG: Input length: 242\n",
      "LOG: Summarize in one sentence: Cats beloved companions to millions around the world captivate us with their grace independence and mysterious allure. Domesticated for thousands of years these enigmatic creatures have woven themselves into the fabric of human society earning their place as cherished pets and valued members of the family.  Known for their agility and keen hunting instincts cats are skilled predators capable of navigating even the most precarious of environments with ease. Their lithe bodies sharp claws and acute senses make them formidable hunters capable of stalking prey with silent precision.  Yet despite their predatory nature cats also possess a softer side. They are affectionate animals forming strong bonds with their human companions and often seeking out cuddles and attention. Their soothing purrs and gentle nuzzles bring comfort and joy to those fortunate enough to share their homes.  Cats come in a variety of breeds colors and personalities each with its own unique quirks and characteristics. From the playful antics of a kitten to the dignified demeanor of a senior cat each feline friend brings something special to our lives.  Whether curled up in a sunbeam exploring the great outdoors or simply lounging lazily on the couch cats remind us to appreciate lifes simple pleasures and embrace the beauty of the moment.\n"
     ]
    },
    {
     "name": "stderr",
     "output_type": "stream",
     "text": [
      "127.0.0.1 - - [13/May/2024 02:00:55] \"POST /sum HTTP/1.1\" 200 -\n",
      "127.0.0.1 - - [13/May/2024 02:06:34] \"POST /length HTTP/1.1\" 200 -\n"
     ]
    },
    {
     "name": "stdout",
     "output_type": "stream",
     "text": [
      "LOG: Input length: 67\n",
      "LOG: Input length: 67\n",
      "LOG: Give the most important word in the text: Jupiter the largest planet in our solar system commands attention with its immense size and swirling clouds of gas. Named after the king of the Roman gods Jupiters colossal presence dominates the space around it. Its massive magnetic field creates a protective shield deflecting harmful solar winds and radiation making it a formidable guardian of the inner solar system.\n"
     ]
    },
    {
     "name": "stderr",
     "output_type": "stream",
     "text": [
      "127.0.0.1 - - [13/May/2024 02:06:43] \"POST /title HTTP/1.1\" 200 -\n"
     ]
    },
    {
     "name": "stdout",
     "output_type": "stream",
     "text": [
      "LOG: Input length: 67\n",
      "LOG: Give some keywords from this text: Jupiter the largest planet in our solar system commands attention with its immense size and swirling clouds of gas. Named after the king of the Roman gods Jupiters colossal presence dominates the space around it. Its massive magnetic field creates a protective shield deflecting harmful solar winds and radiation making it a formidable guardian of the inner solar system.\n"
     ]
    },
    {
     "name": "stderr",
     "output_type": "stream",
     "text": [
      "127.0.0.1 - - [13/May/2024 02:06:51] \"POST /key HTTP/1.1\" 200 -\n"
     ]
    },
    {
     "name": "stdout",
     "output_type": "stream",
     "text": [
      "{'text': \"Jupiter, the largest planet in our solar system, commands attention with its immense size and swirling clouds of gas. Named after the king of the Roman gods, Jupiter's colossal presence dominates the space around it. Its massive magnetic field creates a protective shield, deflecting harmful solar winds and radiation, making it a formidable guardian of the inner solar system.\"}\n",
      "LOG: Input length: 67\n",
      "LOG: Summarize in one sentence: Jupiter the largest planet in our solar system commands attention with its immense size and swirling clouds of gas. Named after the king of the Roman gods Jupiters colossal presence dominates the space around it. Its massive magnetic field creates a protective shield deflecting harmful solar winds and radiation making it a formidable guardian of the inner solar system.\n"
     ]
    },
    {
     "name": "stderr",
     "output_type": "stream",
     "text": [
      "127.0.0.1 - - [13/May/2024 02:07:03] \"POST /sum HTTP/1.1\" 200 -\n",
      "127.0.0.1 - - [13/May/2024 02:07:05] \"POST /length HTTP/1.1\" 200 -\n"
     ]
    },
    {
     "name": "stdout",
     "output_type": "stream",
     "text": [
      "LOG: Input length: 132\n",
      "LOG: Input length: 132\n",
      "LOG: Give the most important word in the text: Jupiter the largest planet in our solar system commands attention with its immense size and swirling clouds of gas. Named after the king of the Roman gods Jupiters colossal presence dominates the space around it. Its massive magnetic field creates a protective shield deflecting harmful solar winds and radiation making it a formidable guardian of the inner solar system.  One of Jupiters most iconic features is its Great Red Spot a massive storm that has been raging for centuries. This colossal tempest is larger than Earth itself a testament to the planets tumultuous atmosphere. Beneath its thick layer of clouds lies a world of mystery with a core composed of metallic hydrogen and rocky material.\n"
     ]
    },
    {
     "name": "stderr",
     "output_type": "stream",
     "text": [
      "127.0.0.1 - - [13/May/2024 02:07:14] \"POST /title HTTP/1.1\" 200 -\n"
     ]
    },
    {
     "name": "stdout",
     "output_type": "stream",
     "text": [
      "LOG: Input length: 132\n",
      "LOG: Give some keywords from this text: Jupiter the largest planet in our solar system commands attention with its immense size and swirling clouds of gas. Named after the king of the Roman gods Jupiters colossal presence dominates the space around it. Its massive magnetic field creates a protective shield deflecting harmful solar winds and radiation making it a formidable guardian of the inner solar system.  One of Jupiters most iconic features is its Great Red Spot a massive storm that has been raging for centuries. This colossal tempest is larger than Earth itself a testament to the planets tumultuous atmosphere. Beneath its thick layer of clouds lies a world of mystery with a core composed of metallic hydrogen and rocky material.\n"
     ]
    },
    {
     "name": "stderr",
     "output_type": "stream",
     "text": [
      "127.0.0.1 - - [13/May/2024 02:07:55] \"POST /key HTTP/1.1\" 200 -\n"
     ]
    },
    {
     "name": "stdout",
     "output_type": "stream",
     "text": [
      "{'text': \"Jupiter, the largest planet in our solar system, commands attention with its immense size and swirling clouds of gas. Named after the king of the Roman gods, Jupiter's colossal presence dominates the space around it. Its massive magnetic field creates a protective shield, deflecting harmful solar winds and radiation, making it a formidable guardian of the inner solar system.  One of Jupiter's most iconic features is its Great Red Spot, a massive storm that has been raging for centuries. This colossal tempest is larger than Earth itself, a testament to the planet's tumultuous atmosphere. Beneath its thick layer of clouds lies a world of mystery, with a core composed of metallic hydrogen and rocky material.\"}\n",
      "LOG: Input length: 132\n",
      "LOG: Summarize in one sentence: Jupiter the largest planet in our solar system commands attention with its immense size and swirling clouds of gas. Named after the king of the Roman gods Jupiters colossal presence dominates the space around it. Its massive magnetic field creates a protective shield deflecting harmful solar winds and radiation making it a formidable guardian of the inner solar system.  One of Jupiters most iconic features is its Great Red Spot a massive storm that has been raging for centuries. This colossal tempest is larger than Earth itself a testament to the planets tumultuous atmosphere. Beneath its thick layer of clouds lies a world of mystery with a core composed of metallic hydrogen and rocky material.\n",
      "{'text': \"Jupiter, the largest planet in our solar system, commands attention with its immense size and swirling clouds of gas. Named after the king of the Roman gods, Jupiter's colossal presence dominates the space around it. Its massive magnetic field creates a protective shield, deflecting harmful solar winds and radiation, making it a formidable guardian of the inner solar system.  One of Jupiter's most iconic features is its Great Red Spot, a massive storm that has been raging for centuries. This colossal tempest is larger than Earth itself, a testament to the planet's tumultuous atmosphere. Beneath its thick layer of clouds lies a world of mystery, with a core composed of metallic hydrogen and rocky material.\"}\n",
      "LOG: Input length: 132\n",
      "LOG: Summarize in one sentence: Jupiter the largest planet in our solar system commands attention with its immense size and swirling clouds of gas. Named after the king of the Roman gods Jupiters colossal presence dominates the space around it. Its massive magnetic field creates a protective shield deflecting harmful solar winds and radiation making it a formidable guardian of the inner solar system.  One of Jupiters most iconic features is its Great Red Spot a massive storm that has been raging for centuries. This colossal tempest is larger than Earth itself a testament to the planets tumultuous atmosphere. Beneath its thick layer of clouds lies a world of mystery with a core composed of metallic hydrogen and rocky material.\n"
     ]
    },
    {
     "name": "stderr",
     "output_type": "stream",
     "text": [
      "127.0.0.1 - - [13/May/2024 02:09:04] \"POST /sum HTTP/1.1\" 200 -\n",
      "127.0.0.1 - - [13/May/2024 02:09:10] \"POST /sum HTTP/1.1\" 200 -\n",
      "127.0.0.1 - - [13/May/2024 02:09:15] \"POST /length HTTP/1.1\" 200 -\n"
     ]
    },
    {
     "name": "stdout",
     "output_type": "stream",
     "text": [
      "LOG: Input length: 235\n",
      "LOG: Input length: 235\n",
      "LOG: Give the most important word in the text: Jupiter the largest planet in our solar system commands attention with its immense size and swirling clouds of gas. Named after the king of the Roman gods Jupiters colossal presence dominates the space around it. Its massive magnetic field creates a protective shield deflecting harmful solar winds and radiation making it a formidable guardian of the inner solar system.  One of Jupiters most iconic features is its Great Red Spot a massive storm that has been raging for centuries. This colossal tempest is larger than Earth itself a testament to the planets tumultuous atmosphere. Beneath its thick layer of clouds lies a world of mystery with a core composed of metallic hydrogen and rocky material.  Jupiter boasts a diverse family of moons each with its own unique characteristics. Europa with its icy surface and subsurface ocean tantalizes scientists with the possibility of extraterrestrial life. Ganymede the largest moon in the solar system harbors its own magnetic field and may have a subsurface ocean as well.  Studying Jupiter provides valuable insights into the formation and evolution of our solar system. Its sheer magnitude and complexity continue to fascinate and inspire astronomers offering a window into the mysteries of the cosmos.\n"
     ]
    },
    {
     "name": "stderr",
     "output_type": "stream",
     "text": [
      "127.0.0.1 - - [13/May/2024 02:09:27] \"POST /title HTTP/1.1\" 200 -\n"
     ]
    },
    {
     "name": "stdout",
     "output_type": "stream",
     "text": [
      "LOG: Input length: 235\n",
      "LOG: Give some keywords from this text: Jupiter the largest planet in our solar system commands attention with its immense size and swirling clouds of gas. Named after the king of the Roman gods Jupiters colossal presence dominates the space around it. Its massive magnetic field creates a protective shield deflecting harmful solar winds and radiation making it a formidable guardian of the inner solar system.  One of Jupiters most iconic features is its Great Red Spot a massive storm that has been raging for centuries. This colossal tempest is larger than Earth itself a testament to the planets tumultuous atmosphere. Beneath its thick layer of clouds lies a world of mystery with a core composed of metallic hydrogen and rocky material.  Jupiter boasts a diverse family of moons each with its own unique characteristics. Europa with its icy surface and subsurface ocean tantalizes scientists with the possibility of extraterrestrial life. Ganymede the largest moon in the solar system harbors its own magnetic field and may have a subsurface ocean as well.  Studying Jupiter provides valuable insights into the formation and evolution of our solar system. Its sheer magnitude and complexity continue to fascinate and inspire astronomers offering a window into the mysteries of the cosmos.\n"
     ]
    },
    {
     "name": "stderr",
     "output_type": "stream",
     "text": [
      "127.0.0.1 - - [13/May/2024 02:12:52] \"POST /key HTTP/1.1\" 200 -\n"
     ]
    },
    {
     "name": "stdout",
     "output_type": "stream",
     "text": [
      "{'text': \"Jupiter, the largest planet in our solar system, commands attention with its immense size and swirling clouds of gas. Named after the king of the Roman gods, Jupiter's colossal presence dominates the space around it. Its massive magnetic field creates a protective shield, deflecting harmful solar winds and radiation, making it a formidable guardian of the inner solar system.  One of Jupiter's most iconic features is its Great Red Spot, a massive storm that has been raging for centuries. This colossal tempest is larger than Earth itself, a testament to the planet's tumultuous atmosphere. Beneath its thick layer of clouds lies a world of mystery, with a core composed of metallic hydrogen and rocky material.  Jupiter boasts a diverse family of moons, each with its own unique characteristics. Europa, with its icy surface and subsurface ocean, tantalizes scientists with the possibility of extraterrestrial life. Ganymede, the largest moon in the solar system, harbors its own magnetic field and may have a subsurface ocean as well.  Studying Jupiter provides valuable insights into the formation and evolution of our solar system. Its sheer magnitude and complexity continue to fascinate and inspire astronomers, offering a window into the mysteries of the cosmos.\"}\n",
      "LOG: Input length: 235\n",
      "LOG: Summarize in one sentence: Jupiter the largest planet in our solar system commands attention with its immense size and swirling clouds of gas. Named after the king of the Roman gods Jupiters colossal presence dominates the space around it. Its massive magnetic field creates a protective shield deflecting harmful solar winds and radiation making it a formidable guardian of the inner solar system.  One of Jupiters most iconic features is its Great Red Spot a massive storm that has been raging for centuries. This colossal tempest is larger than Earth itself a testament to the planets tumultuous atmosphere. Beneath its thick layer of clouds lies a world of mystery with a core composed of metallic hydrogen and rocky material.  Jupiter boasts a diverse family of moons each with its own unique characteristics. Europa with its icy surface and subsurface ocean tantalizes scientists with the possibility of extraterrestrial life. Ganymede the largest moon in the solar system harbors its own magnetic field and may have a subsurface ocean as well.  Studying Jupiter provides valuable insights into the formation and evolution of our solar system. Its sheer magnitude and complexity continue to fascinate and inspire astronomers offering a window into the mysteries of the cosmos.\n"
     ]
    },
    {
     "name": "stderr",
     "output_type": "stream",
     "text": [
      "127.0.0.1 - - [13/May/2024 02:13:33] \"POST /sum HTTP/1.1\" 200 -\n",
      "127.0.0.1 - - [13/May/2024 02:14:22] \"POST /length HTTP/1.1\" 200 -\n"
     ]
    },
    {
     "name": "stdout",
     "output_type": "stream",
     "text": [
      "LOG: Input length: 77\n",
      "LOG: Input length: 77\n",
      "LOG: Give the most important word in the text: The MiG21 a legendary Sovietdesigned supersonic fighter aircraft holds a revered place in aviation history. Introduced in the 1950s it became one of the most widely produced jet fighters in the world serving with over 60 countries across several decades. Its sleek deltawing design and powerful engines gave it impressive speed and agility earning it the nickname Fishbed in NATO nomenclature.\n"
     ]
    },
    {
     "name": "stderr",
     "output_type": "stream",
     "text": [
      "127.0.0.1 - - [13/May/2024 02:14:47] \"POST /title HTTP/1.1\" 200 -\n"
     ]
    },
    {
     "name": "stdout",
     "output_type": "stream",
     "text": [
      "LOG: Input length: 77\n",
      "LOG: Give some keywords from this text: The MiG21 a legendary Sovietdesigned supersonic fighter aircraft holds a revered place in aviation history. Introduced in the 1950s it became one of the most widely produced jet fighters in the world serving with over 60 countries across several decades. Its sleek deltawing design and powerful engines gave it impressive speed and agility earning it the nickname Fishbed in NATO nomenclature.\n"
     ]
    },
    {
     "name": "stderr",
     "output_type": "stream",
     "text": [
      "127.0.0.1 - - [13/May/2024 02:14:52] \"POST /key HTTP/1.1\" 200 -\n"
     ]
    },
    {
     "name": "stdout",
     "output_type": "stream",
     "text": [
      "{'text': 'The MiG-21, a legendary Soviet-designed supersonic fighter aircraft, holds a revered place in aviation history. Introduced in the 1950s, it became one of the most widely produced jet fighters in the world, serving with over 60 countries across several decades. Its sleek delta-wing design and powerful engines gave it impressive speed and agility, earning it the nickname \"Fishbed\" in NATO nomenclature.'}\n",
      "LOG: Input length: 77\n",
      "LOG: Summarize in one sentence: The MiG21 a legendary Sovietdesigned supersonic fighter aircraft holds a revered place in aviation history. Introduced in the 1950s it became one of the most widely produced jet fighters in the world serving with over 60 countries across several decades. Its sleek deltawing design and powerful engines gave it impressive speed and agility earning it the nickname Fishbed in NATO nomenclature.\n"
     ]
    },
    {
     "name": "stderr",
     "output_type": "stream",
     "text": [
      "127.0.0.1 - - [13/May/2024 02:15:12] \"POST /sum HTTP/1.1\" 200 -\n",
      "127.0.0.1 - - [13/May/2024 02:15:31] \"POST /length HTTP/1.1\" 200 -\n"
     ]
    },
    {
     "name": "stdout",
     "output_type": "stream",
     "text": [
      "LOG: Input length: 139\n",
      "LOG: Input length: 139\n",
      "LOG: Give the most important word in the text: The MiG21 a legendary Sovietdesigned supersonic fighter aircraft holds a revered place in aviation history. Introduced in the 1950s it became one of the most widely produced jet fighters in the world serving with over 60 countries across several decades. Its sleek deltawing design and powerful engines gave it impressive speed and agility earning it the nickname Fishbed in NATO nomenclature.  Renowned for its simplicity and reliability the MiG21 was designed to be easy to maintain and operate making it a favorite among air forces with limited resources. Its delta wing configuration allowed for quick takeoffs and landings even from short runways making it wellsuited for operations in a variety of environments.\n"
     ]
    },
    {
     "name": "stderr",
     "output_type": "stream",
     "text": [
      "127.0.0.1 - - [13/May/2024 02:15:55] \"POST /title HTTP/1.1\" 200 -\n"
     ]
    },
    {
     "name": "stdout",
     "output_type": "stream",
     "text": [
      "LOG: Input length: 139\n",
      "LOG: Give some keywords from this text: The MiG21 a legendary Sovietdesigned supersonic fighter aircraft holds a revered place in aviation history. Introduced in the 1950s it became one of the most widely produced jet fighters in the world serving with over 60 countries across several decades. Its sleek deltawing design and powerful engines gave it impressive speed and agility earning it the nickname Fishbed in NATO nomenclature.  Renowned for its simplicity and reliability the MiG21 was designed to be easy to maintain and operate making it a favorite among air forces with limited resources. Its delta wing configuration allowed for quick takeoffs and landings even from short runways making it wellsuited for operations in a variety of environments.\n"
     ]
    },
    {
     "name": "stderr",
     "output_type": "stream",
     "text": [
      "127.0.0.1 - - [13/May/2024 02:16:20] \"POST /key HTTP/1.1\" 200 -\n"
     ]
    },
    {
     "name": "stdout",
     "output_type": "stream",
     "text": [
      "{'text': 'The MiG-21, a legendary Soviet-designed supersonic fighter aircraft, holds a revered place in aviation history. Introduced in the 1950s, it became one of the most widely produced jet fighters in the world, serving with over 60 countries across several decades. Its sleek delta-wing design and powerful engines gave it impressive speed and agility, earning it the nickname \"Fishbed\" in NATO nomenclature.  Renowned for its simplicity and reliability, the MiG-21 was designed to be easy to maintain and operate, making it a favorite among air forces with limited resources. Its delta wing configuration allowed for quick take-offs and landings, even from short runways, making it well-suited for operations in a variety of environments.'}\n",
      "LOG: Input length: 139\n",
      "LOG: Summarize in one sentence: The MiG21 a legendary Sovietdesigned supersonic fighter aircraft holds a revered place in aviation history. Introduced in the 1950s it became one of the most widely produced jet fighters in the world serving with over 60 countries across several decades. Its sleek deltawing design and powerful engines gave it impressive speed and agility earning it the nickname Fishbed in NATO nomenclature.  Renowned for its simplicity and reliability the MiG21 was designed to be easy to maintain and operate making it a favorite among air forces with limited resources. Its delta wing configuration allowed for quick takeoffs and landings even from short runways making it wellsuited for operations in a variety of environments.\n"
     ]
    },
    {
     "name": "stderr",
     "output_type": "stream",
     "text": [
      "127.0.0.1 - - [13/May/2024 02:16:48] \"POST /sum HTTP/1.1\" 200 -\n",
      "127.0.0.1 - - [13/May/2024 02:16:52] \"POST /length HTTP/1.1\" 200 -\n"
     ]
    },
    {
     "name": "stdout",
     "output_type": "stream",
     "text": [
      "LOG: Input length: 249\n",
      "LOG: Input length: 249\n",
      "LOG: Give the most important word in the text: The MiG21 a legendary Sovietdesigned supersonic fighter aircraft holds a revered place in aviation history. Introduced in the 1950s it became one of the most widely produced jet fighters in the world serving with over 60 countries across several decades. Its sleek deltawing design and powerful engines gave it impressive speed and agility earning it the nickname Fishbed in NATO nomenclature.  Renowned for its simplicity and reliability the MiG21 was designed to be easy to maintain and operate making it a favorite among air forces with limited resources. Its delta wing configuration allowed for quick takeoffs and landings even from short runways making it wellsuited for operations in a variety of environments.  The MiG21 saw extensive combat action during the Cold War and in numerous conflicts around the world. Its combat record includes engagements in Vietnam the Middle East and Africa where its speed and maneuverability often gave it an edge over its adversaries.  Despite being conceived over half a century ago the MiG21 remains in service with several air forces today a testament to its enduring design and adaptability. While newer aircraft have surpassed it in many respects the MiG21s legacy as a versatile and iconic fighter endures in the annals of aviation history.\n"
     ]
    },
    {
     "name": "stderr",
     "output_type": "stream",
     "text": [
      "127.0.0.1 - - [13/May/2024 02:17:09] \"POST /title HTTP/1.1\" 200 -\n"
     ]
    },
    {
     "name": "stdout",
     "output_type": "stream",
     "text": [
      "LOG: Input length: 249\n",
      "LOG: Give some keywords from this text: The MiG21 a legendary Sovietdesigned supersonic fighter aircraft holds a revered place in aviation history. Introduced in the 1950s it became one of the most widely produced jet fighters in the world serving with over 60 countries across several decades. Its sleek deltawing design and powerful engines gave it impressive speed and agility earning it the nickname Fishbed in NATO nomenclature.  Renowned for its simplicity and reliability the MiG21 was designed to be easy to maintain and operate making it a favorite among air forces with limited resources. Its delta wing configuration allowed for quick takeoffs and landings even from short runways making it wellsuited for operations in a variety of environments.  The MiG21 saw extensive combat action during the Cold War and in numerous conflicts around the world. Its combat record includes engagements in Vietnam the Middle East and Africa where its speed and maneuverability often gave it an edge over its adversaries.  Despite being conceived over half a century ago the MiG21 remains in service with several air forces today a testament to its enduring design and adaptability. While newer aircraft have surpassed it in many respects the MiG21s legacy as a versatile and iconic fighter endures in the annals of aviation history.\n"
     ]
    },
    {
     "name": "stderr",
     "output_type": "stream",
     "text": [
      "127.0.0.1 - - [13/May/2024 02:19:21] \"POST /key HTTP/1.1\" 200 -\n"
     ]
    },
    {
     "name": "stdout",
     "output_type": "stream",
     "text": [
      "{'text': 'The MiG-21, a legendary Soviet-designed supersonic fighter aircraft, holds a revered place in aviation history. Introduced in the 1950s, it became one of the most widely produced jet fighters in the world, serving with over 60 countries across several decades. Its sleek delta-wing design and powerful engines gave it impressive speed and agility, earning it the nickname \"Fishbed\" in NATO nomenclature.  Renowned for its simplicity and reliability, the MiG-21 was designed to be easy to maintain and operate, making it a favorite among air forces with limited resources. Its delta wing configuration allowed for quick take-offs and landings, even from short runways, making it well-suited for operations in a variety of environments.  The MiG-21 saw extensive combat action during the Cold War and in numerous conflicts around the world. Its combat record includes engagements in Vietnam, the Middle East, and Africa, where its speed and maneuverability often gave it an edge over its adversaries.  Despite being conceived over half a century ago, the MiG-21 remains in service with several air forces today, a testament to its enduring design and adaptability. While newer aircraft have surpassed it in many respects, the MiG-21\\'s legacy as a versatile and iconic fighter endures in the annals of aviation history.'}\n",
      "LOG: Input length: 249\n",
      "LOG: Summarize in one sentence: The MiG21 a legendary Sovietdesigned supersonic fighter aircraft holds a revered place in aviation history. Introduced in the 1950s it became one of the most widely produced jet fighters in the world serving with over 60 countries across several decades. Its sleek deltawing design and powerful engines gave it impressive speed and agility earning it the nickname Fishbed in NATO nomenclature.  Renowned for its simplicity and reliability the MiG21 was designed to be easy to maintain and operate making it a favorite among air forces with limited resources. Its delta wing configuration allowed for quick takeoffs and landings even from short runways making it wellsuited for operations in a variety of environments.  The MiG21 saw extensive combat action during the Cold War and in numerous conflicts around the world. Its combat record includes engagements in Vietnam the Middle East and Africa where its speed and maneuverability often gave it an edge over its adversaries.  Despite being conceived over half a century ago the MiG21 remains in service with several air forces today a testament to its enduring design and adaptability. While newer aircraft have surpassed it in many respects the MiG21s legacy as a versatile and iconic fighter endures in the annals of aviation history.\n"
     ]
    },
    {
     "name": "stderr",
     "output_type": "stream",
     "text": [
      "127.0.0.1 - - [13/May/2024 02:20:15] \"POST /sum HTTP/1.1\" 200 -\n",
      "127.0.0.1 - - [13/May/2024 02:20:18] \"POST /length HTTP/1.1\" 200 -\n"
     ]
    },
    {
     "name": "stdout",
     "output_type": "stream",
     "text": [
      "LOG: Input length: 54\n",
      "LOG: Input length: 54\n",
      "LOG: Give the most important word in the text: Cats beloved companions to millions around the world captivate us with their grace independence and mysterious allure. Domesticated for thousands of years these enigmatic creatures have woven themselves into the fabric of human society earning their place as cherished pets and valued members of the family.\n"
     ]
    },
    {
     "name": "stderr",
     "output_type": "stream",
     "text": [
      "127.0.0.1 - - [13/May/2024 02:20:28] \"POST /title HTTP/1.1\" 200 -\n"
     ]
    },
    {
     "name": "stdout",
     "output_type": "stream",
     "text": [
      "LOG: Input length: 54\n",
      "LOG: Give some keywords from this text: Cats beloved companions to millions around the world captivate us with their grace independence and mysterious allure. Domesticated for thousands of years these enigmatic creatures have woven themselves into the fabric of human society earning their place as cherished pets and valued members of the family.\n"
     ]
    },
    {
     "name": "stderr",
     "output_type": "stream",
     "text": [
      "127.0.0.1 - - [13/May/2024 02:20:41] \"POST /key HTTP/1.1\" 200 -\n"
     ]
    },
    {
     "name": "stdout",
     "output_type": "stream",
     "text": [
      "{'text': 'Cats, beloved companions to millions around the world, captivate us with their grace, independence, and mysterious allure. Domesticated for thousands of years, these enigmatic creatures have woven themselves into the fabric of human society, earning their place as cherished pets and valued members of the family.'}\n",
      "LOG: Input length: 54\n",
      "LOG: Summarize in one sentence: Cats beloved companions to millions around the world captivate us with their grace independence and mysterious allure. Domesticated for thousands of years these enigmatic creatures have woven themselves into the fabric of human society earning their place as cherished pets and valued members of the family.\n"
     ]
    },
    {
     "name": "stderr",
     "output_type": "stream",
     "text": [
      "127.0.0.1 - - [13/May/2024 02:20:57] \"POST /length HTTP/1.1\" 200 -\n"
     ]
    },
    {
     "name": "stdout",
     "output_type": "stream",
     "text": [
      "LOG: Input length: 109\n",
      "LOG: Input length: 109\n",
      "LOG: Give the most important word in the text: Hello Heres a 200word text about cats  Cats beloved companions to millions around the world captivate us with their grace independence and mysterious allure. Domesticated for thousands of years these enigmatic creatures have woven themselves into the fabric of human society earning their place as cherished pets and valued members of the family.  Known for their agility and keen hunting instincts cats are skilled predators capable of navigating even the most precarious of environments with ease. Their lithe bodies sharp claws and acute senses make them formidable hunters capable of stalking prey with silent precision.\n"
     ]
    },
    {
     "name": "stderr",
     "output_type": "stream",
     "text": [
      "127.0.0.1 - - [13/May/2024 02:21:08] \"POST /sum HTTP/1.1\" 200 -\n",
      "127.0.0.1 - - [13/May/2024 02:21:53] \"POST /title HTTP/1.1\" 200 -\n"
     ]
    },
    {
     "name": "stdout",
     "output_type": "stream",
     "text": [
      "{'text': 'Cats, beloved companions to millions around the world, captivate us with their grace, independence, and mysterious allure. Domesticated for thousands of years, these enigmatic creatures have woven themselves into the fabric of human society, earning their place as cherished pets and valued members of the family.'}\n",
      "LOG: Input length: 54\n",
      "LOG: Summarize in one sentence: Cats beloved companions to millions around the world captivate us with their grace independence and mysterious allure. Domesticated for thousands of years these enigmatic creatures have woven themselves into the fabric of human society earning their place as cherished pets and valued members of the family.\n"
     ]
    },
    {
     "name": "stderr",
     "output_type": "stream",
     "text": [
      "127.0.0.1 - - [13/May/2024 02:23:25] \"POST /sum HTTP/1.1\" 200 -\n",
      "127.0.0.1 - - [13/May/2024 02:24:44] \"POST /length HTTP/1.1\" 200 -\n"
     ]
    },
    {
     "name": "stdout",
     "output_type": "stream",
     "text": [
      "LOG: Input length: 100\n",
      "LOG: Input length: 100\n",
      "LOG: Give the most important word in the text: Cats beloved companions to millions around the world captivate us with their grace independence and mysterious allure. Domesticated for thousands of years these enigmatic creatures have woven themselves into the fabric of human society earning their place as cherished pets and valued members of the family.  Known for their agility and keen hunting instincts cats are skilled predators capable of navigating even the most precarious of environments with ease. Their lithe bodies sharp claws and acute senses make them formidable hunters capable of stalking prey with silent precision.\n"
     ]
    },
    {
     "name": "stderr",
     "output_type": "stream",
     "text": [
      "127.0.0.1 - - [13/May/2024 02:24:58] \"POST /title HTTP/1.1\" 200 -\n"
     ]
    },
    {
     "name": "stdout",
     "output_type": "stream",
     "text": [
      "LOG: Input length: 100\n",
      "LOG: Give some keywords from this text: Cats beloved companions to millions around the world captivate us with their grace independence and mysterious allure. Domesticated for thousands of years these enigmatic creatures have woven themselves into the fabric of human society earning their place as cherished pets and valued members of the family.  Known for their agility and keen hunting instincts cats are skilled predators capable of navigating even the most precarious of environments with ease. Their lithe bodies sharp claws and acute senses make them formidable hunters capable of stalking prey with silent precision.\n"
     ]
    },
    {
     "name": "stderr",
     "output_type": "stream",
     "text": [
      "127.0.0.1 - - [13/May/2024 02:25:18] \"POST /key HTTP/1.1\" 200 -\n"
     ]
    },
    {
     "name": "stdout",
     "output_type": "stream",
     "text": [
      "{'text': 'Cats, beloved companions to millions around the world, captivate us with their grace, independence, and mysterious allure. Domesticated for thousands of years, these enigmatic creatures have woven themselves into the fabric of human society, earning their place as cherished pets and valued members of the family.  Known for their agility and keen hunting instincts, cats are skilled predators capable of navigating even the most precarious of environments with ease. Their lithe bodies, sharp claws, and acute senses make them formidable hunters, capable of stalking prey with silent precision.'}\n",
      "LOG: Input length: 100\n",
      "LOG: Summarize in one sentence: Cats beloved companions to millions around the world captivate us with their grace independence and mysterious allure. Domesticated for thousands of years these enigmatic creatures have woven themselves into the fabric of human society earning their place as cherished pets and valued members of the family.  Known for their agility and keen hunting instincts cats are skilled predators capable of navigating even the most precarious of environments with ease. Their lithe bodies sharp claws and acute senses make them formidable hunters capable of stalking prey with silent precision.\n"
     ]
    },
    {
     "name": "stderr",
     "output_type": "stream",
     "text": [
      "127.0.0.1 - - [13/May/2024 02:25:33] \"POST /sum HTTP/1.1\" 200 -\n",
      "127.0.0.1 - - [13/May/2024 02:25:47] \"POST /length HTTP/1.1\" 200 -\n"
     ]
    },
    {
     "name": "stdout",
     "output_type": "stream",
     "text": [
      "LOG: Input length: 242\n",
      "LOG: Input length: 242\n",
      "LOG: Give the most important word in the text: Cats beloved companions to millions around the world captivate us with their grace independence and mysterious allure. Domesticated for thousands of years these enigmatic creatures have woven themselves into the fabric of human society earning their place as cherished pets and valued members of the family.  Known for their agility and keen hunting instincts cats are skilled predators capable of navigating even the most precarious of environments with ease. Their lithe bodies sharp claws and acute senses make them formidable hunters capable of stalking prey with silent precision.  Yet despite their predatory nature cats also possess a softer side. They are affectionate animals forming strong bonds with their human companions and often seeking out cuddles and attention. Their soothing purrs and gentle nuzzles bring comfort and joy to those fortunate enough to share their homes.  Cats come in a variety of breeds colors and personalities each with its own unique quirks and characteristics. From the playful antics of a kitten to the dignified demeanor of a senior cat each feline friend brings something special to our lives.  Whether curled up in a sunbeam exploring the great outdoors or simply lounging lazily on the couch cats remind us to appreciate lifes simple pleasures and embrace the beauty of the moment.\n"
     ]
    },
    {
     "name": "stderr",
     "output_type": "stream",
     "text": [
      "127.0.0.1 - - [13/May/2024 02:25:50] \"POST /title HTTP/1.1\" 200 -\n"
     ]
    },
    {
     "name": "stdout",
     "output_type": "stream",
     "text": [
      "LOG: Input length: 242\n",
      "LOG: Give some keywords from this text: Cats beloved companions to millions around the world captivate us with their grace independence and mysterious allure. Domesticated for thousands of years these enigmatic creatures have woven themselves into the fabric of human society earning their place as cherished pets and valued members of the family.  Known for their agility and keen hunting instincts cats are skilled predators capable of navigating even the most precarious of environments with ease. Their lithe bodies sharp claws and acute senses make them formidable hunters capable of stalking prey with silent precision.  Yet despite their predatory nature cats also possess a softer side. They are affectionate animals forming strong bonds with their human companions and often seeking out cuddles and attention. Their soothing purrs and gentle nuzzles bring comfort and joy to those fortunate enough to share their homes.  Cats come in a variety of breeds colors and personalities each with its own unique quirks and characteristics. From the playful antics of a kitten to the dignified demeanor of a senior cat each feline friend brings something special to our lives.  Whether curled up in a sunbeam exploring the great outdoors or simply lounging lazily on the couch cats remind us to appreciate lifes simple pleasures and embrace the beauty of the moment.\n"
     ]
    },
    {
     "name": "stderr",
     "output_type": "stream",
     "text": [
      "127.0.0.1 - - [13/May/2024 02:26:15] \"POST /key HTTP/1.1\" 200 -\n"
     ]
    },
    {
     "name": "stdout",
     "output_type": "stream",
     "text": [
      "{'text': \"Cats, beloved companions to millions around the world, captivate us with their grace, independence, and mysterious allure. Domesticated for thousands of years, these enigmatic creatures have woven themselves into the fabric of human society, earning their place as cherished pets and valued members of the family.  Known for their agility and keen hunting instincts, cats are skilled predators capable of navigating even the most precarious of environments with ease. Their lithe bodies, sharp claws, and acute senses make them formidable hunters, capable of stalking prey with silent precision.  Yet, despite their predatory nature, cats also possess a softer side. They are affectionate animals, forming strong bonds with their human companions and often seeking out cuddles and attention. Their soothing purrs and gentle nuzzles bring comfort and joy to those fortunate enough to share their homes.  Cats come in a variety of breeds, colors, and personalities, each with its own unique quirks and characteristics. From the playful antics of a kitten to the dignified demeanor of a senior cat, each feline friend brings something special to our lives.  Whether curled up in a sunbeam, exploring the great outdoors, or simply lounging lazily on the couch, cats remind us to appreciate life's simple pleasures and embrace the beauty of the moment.\"}\n",
      "LOG: Input length: 242\n",
      "LOG: Summarize in one sentence: Cats beloved companions to millions around the world captivate us with their grace independence and mysterious allure. Domesticated for thousands of years these enigmatic creatures have woven themselves into the fabric of human society earning their place as cherished pets and valued members of the family.  Known for their agility and keen hunting instincts cats are skilled predators capable of navigating even the most precarious of environments with ease. Their lithe bodies sharp claws and acute senses make them formidable hunters capable of stalking prey with silent precision.  Yet despite their predatory nature cats also possess a softer side. They are affectionate animals forming strong bonds with their human companions and often seeking out cuddles and attention. Their soothing purrs and gentle nuzzles bring comfort and joy to those fortunate enough to share their homes.  Cats come in a variety of breeds colors and personalities each with its own unique quirks and characteristics. From the playful antics of a kitten to the dignified demeanor of a senior cat each feline friend brings something special to our lives.  Whether curled up in a sunbeam exploring the great outdoors or simply lounging lazily on the couch cats remind us to appreciate lifes simple pleasures and embrace the beauty of the moment.\n"
     ]
    },
    {
     "name": "stderr",
     "output_type": "stream",
     "text": [
      "127.0.0.1 - - [13/May/2024 02:26:43] \"POST /sum HTTP/1.1\" 200 -\n"
     ]
    }
   ],
   "source": [
    "from flask import Flask, request, jsonify\n",
    "from flask_cors import CORS\n",
    "import subprocess\n",
    "import re\n",
    "\n",
    "app = Flask(__name__)\n",
    "CORS(app)\n",
    "\n",
    "def req_length(text):\n",
    "    tokens = tokenizer(text)\n",
    "    tokens_length = len(tokens.attention_mask)\n",
    "    print('LOG: Input length: ' + str(tokens_length))\n",
    "    return tokens_length\n",
    "\n",
    "def req_to_json(title, text):\n",
    "    return jsonify({title : text})\n",
    "\n",
    "def req_process(command, text):\n",
    "    req = command + ' ' + text\n",
    "    print('LOG: ' + req)\n",
    "    return generate_text(req)\n",
    "\n",
    "def req_clean(text):\n",
    "    cleaned_text = text.replace('\\n', ' ').replace('\\r', ' ')\n",
    "    cleaned_text = re.sub(r'[^\\w\\s.]', '', cleaned_text)\n",
    "    return cleaned_text\n",
    "\n",
    "@app.route('/sum', methods=['POST'])\n",
    "def sum_req():\n",
    "    data = request.get_json()\n",
    "    print(data)\n",
    "    text = req_clean(data.get('text', ''))\n",
    "    if(req_length(text) <= 1024):\n",
    "        return req_to_json('response', req_process('Summarize in one sentence:', text))\n",
    "        #return req_to_json('response', \"TEST TEXT\")\n",
    "    else:\n",
    "        return req_to_json('error', 'Too long text. Limit is 1024 token.')\n",
    "\n",
    "@app.route('/key', methods=['POST'])\n",
    "def key_req():\n",
    "    data = request.get_json()\n",
    "    text = req_clean(data.get('text', ''))\n",
    "    if(req_length(text) <= 1024):\n",
    "        return req_to_json('response', req_process('Give some keywords from this text:', text))\n",
    "    else:\n",
    "        return req_to_json('error', 'Too long text. Limit is 1024 token.')\n",
    "\n",
    "@app.route('/title', methods=['POST'])\n",
    "def title_req():\n",
    "    data = request.get_json()\n",
    "    text = req_clean(data.get('text', ''))\n",
    "    if(req_length(text) <= 1024):\n",
    "        return req_to_json('response', req_process('Give the most important word in the text:', text))\n",
    "    else:\n",
    "        return req_to_json('error', 'Too long text. Limit is 1024 token.')\n",
    "\n",
    "@app.route('/length', methods=['POST'])\n",
    "def length_req():\n",
    "    data = request.get_json()\n",
    "    text = req_clean(data.get('text', ''))\n",
    "    ret = {'response': req_length(text)}\n",
    "    return jsonify(ret)\n",
    "\n",
    "if __name__ == '__main__':\n",
    "    app.run()"
   ]
  },
  {
   "cell_type": "code",
   "execution_count": null,
   "id": "827aed16-1f9f-4be7-94c1-85f2ce0ff482",
   "metadata": {},
   "outputs": [],
   "source": []
  }
 ],
 "metadata": {
  "kernelspec": {
   "display_name": "Python 3 (ipykernel)",
   "language": "python",
   "name": "python3"
  },
  "language_info": {
   "codemirror_mode": {
    "name": "ipython",
    "version": 3
   },
   "file_extension": ".py",
   "mimetype": "text/x-python",
   "name": "python",
   "nbconvert_exporter": "python",
   "pygments_lexer": "ipython3",
   "version": "3.10.11"
  }
 },
 "nbformat": 4,
 "nbformat_minor": 5
}
