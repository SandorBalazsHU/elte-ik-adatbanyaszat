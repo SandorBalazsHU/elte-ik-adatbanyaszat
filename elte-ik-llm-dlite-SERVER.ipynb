{
 "cells": [
  {
   "cell_type": "markdown",
   "id": "bf75da42-966f-4b7d-975f-6d23646b94af",
   "metadata": {},
   "source": [
    "## Compact and full LLM szerver for the Chrome Extension"
   ]
  },
  {
   "cell_type": "markdown",
   "id": "100f34d5-d0d7-4322-a629-e37a8106c49b",
   "metadata": {},
   "source": [
    "#### The elte-ik-llm-dlite notebook contains the installation and the experiments for the project.\n",
    "#### This notebook is the practical runnable server."
   ]
  },
  {
   "cell_type": "markdown",
   "id": "66aa89bd-780e-4269-bac7-4a3286747032",
   "metadata": {},
   "source": [
    "### (0) Server starting"
   ]
  },
  {
   "cell_type": "markdown",
   "id": "cc388533-34fc-43fc-8df0-9f66e4dc40c6",
   "metadata": {},
   "source": [
    "d:\n",
    "\n",
    "cd D:\\elte-ik-adatbanyaszat\n",
    "\n",
    "venv\\Scripts\\activate\n",
    "\n",
    "jupyter notebook"
   ]
  },
  {
   "cell_type": "markdown",
   "id": "bf59ebf3-a87d-4fd2-9482-b2ff435b82e7",
   "metadata": {},
   "source": [
    "### (1) Load the pretrained model"
   ]
  },
  {
   "cell_type": "markdown",
   "id": "73cff53a-7b6e-4239-b9ee-c56c061e968b",
   "metadata": {},
   "source": [
    "Load and prepare the dlite-v2-1_5b LLM to the GPU"
   ]
  },
  {
   "cell_type": "code",
   "execution_count": 1,
   "id": "adec004f-226d-4cd5-aba9-1bf56ec0a721",
   "metadata": {},
   "outputs": [],
   "source": [
    "import sys\n",
    "sys.path.insert(1, './dlite-v2-1_5b/')\n",
    "from instruct_pipeline import InstructionTextGenerationPipeline\n",
    "from transformers import AutoModelForCausalLM, AutoTokenizer\n",
    "import torch\n",
    "\n",
    "tokenizer = AutoTokenizer.from_pretrained(\"dlite-v2-1_5b\", padding_side=\"left\")\n",
    "model = AutoModelForCausalLM.from_pretrained(\"dlite-v2-1_5b\", device_map=\"cuda\", torch_dtype=torch.bfloat16)\n",
    "\n",
    "generate_text = InstructionTextGenerationPipeline(model=model, tokenizer=tokenizer)"
   ]
  },
  {
   "cell_type": "markdown",
   "id": "d8dec63a-2dbe-4c0d-aa0c-7fbc3178e0d0",
   "metadata": {},
   "source": [
    "### (2) The REST server"
   ]
  },
  {
   "cell_type": "markdown",
   "id": "b019cc38-373c-46a5-bf03-b68b51b81efa",
   "metadata": {},
   "source": [
    "Initialise Flask REST CORS server for recive the process requests"
   ]
  },
  {
   "cell_type": "code",
   "execution_count": null,
   "id": "998ca9ba-457c-42b6-9af4-0b0357633fb4",
   "metadata": {},
   "outputs": [
    {
     "name": "stdout",
     "output_type": "stream",
     "text": [
      " * Serving Flask app '__main__'\n",
      " * Debug mode: off\n"
     ]
    },
    {
     "name": "stderr",
     "output_type": "stream",
     "text": [
      "WARNING: This is a development server. Do not use it in a production deployment. Use a production WSGI server instead.\n",
      " * Running on http://127.0.0.1:5000\n",
      "Press CTRL+C to quit\n",
      "127.0.0.1 - - [17/May/2024 13:35:42] \"POST /length HTTP/1.1\" 200 -\n"
     ]
    },
    {
     "name": "stdout",
     "output_type": "stream",
     "text": [
      "LOG: Input length: 217\n",
      "LOG: Input length: 217\n",
      "LOG: Give the most important word in the text: The cat Felis catus commonly referred to as the domestic cat or house cat is a small domesticated carnivorous mammal. It is the only domesticated species of the family Felidae. Recent advances in archaeology and genetics have shown that the domestication of the cat occurred in the Near East around 7500 BC. It is commonly kept as a house pet and farm cat but also ranges freely as a feral cat avoiding human contact. It is valued by humans for companionship and its ability to kill vermin. Its retractable claws are adapted to killing small prey like mice and rats. It has a strong flexible body quick reflexes sharp teeth and its night vision and sense of smell are well developed. It is a social species but a solitary hunter and a crepuscular predator. Cat communication includes vocalizations like meowing purring trilling hissing growling and grunting as well as cat body language. It can hear sounds too faint or too high in frequency for human ears such as those made by small mammals. It secretes and perceives pheromones.\n"
     ]
    },
    {
     "name": "stderr",
     "output_type": "stream",
     "text": [
      "127.0.0.1 - - [17/May/2024 13:36:00] \"POST /title HTTP/1.1\" 200 -\n"
     ]
    },
    {
     "name": "stdout",
     "output_type": "stream",
     "text": [
      "LOG: Input length: 217\n",
      "LOG: Give some keywords from this text: The cat Felis catus commonly referred to as the domestic cat or house cat is a small domesticated carnivorous mammal. It is the only domesticated species of the family Felidae. Recent advances in archaeology and genetics have shown that the domestication of the cat occurred in the Near East around 7500 BC. It is commonly kept as a house pet and farm cat but also ranges freely as a feral cat avoiding human contact. It is valued by humans for companionship and its ability to kill vermin. Its retractable claws are adapted to killing small prey like mice and rats. It has a strong flexible body quick reflexes sharp teeth and its night vision and sense of smell are well developed. It is a social species but a solitary hunter and a crepuscular predator. Cat communication includes vocalizations like meowing purring trilling hissing growling and grunting as well as cat body language. It can hear sounds too faint or too high in frequency for human ears such as those made by small mammals. It secretes and perceives pheromones.\n"
     ]
    },
    {
     "name": "stderr",
     "output_type": "stream",
     "text": [
      "127.0.0.1 - - [17/May/2024 13:36:32] \"POST /key HTTP/1.1\" 200 -\n"
     ]
    },
    {
     "name": "stdout",
     "output_type": "stream",
     "text": [
      "{'text': 'The cat (Felis catus), commonly referred to as the domestic cat or house cat, is a small domesticated carnivorous mammal. It is the only domesticated species of the family Felidae. Recent advances in archaeology and genetics have shown that the domestication of the cat occurred in the Near East around 7500 BC. It is commonly kept as a house pet and farm cat, but also ranges freely as a feral cat avoiding human contact. It is valued by humans for companionship and its ability to kill vermin. Its retractable claws are adapted to killing small prey like mice and rats. It has a strong, flexible body, quick reflexes, sharp teeth, and its night vision and sense of smell are well developed. It is a social species, but a solitary hunter and a crepuscular predator. Cat communication includes vocalizations like meowing, purring, trilling, hissing, growling, and grunting as well as cat body language. It can hear sounds too faint or too high in frequency for human ears, such as those made by small mammals. It secretes and perceives pheromones.'}\n",
      "LOG: Input length: 217\n",
      "LOG: Summarize in one sentence: The cat Felis catus commonly referred to as the domestic cat or house cat is a small domesticated carnivorous mammal. It is the only domesticated species of the family Felidae. Recent advances in archaeology and genetics have shown that the domestication of the cat occurred in the Near East around 7500 BC. It is commonly kept as a house pet and farm cat but also ranges freely as a feral cat avoiding human contact. It is valued by humans for companionship and its ability to kill vermin. Its retractable claws are adapted to killing small prey like mice and rats. It has a strong flexible body quick reflexes sharp teeth and its night vision and sense of smell are well developed. It is a social species but a solitary hunter and a crepuscular predator. Cat communication includes vocalizations like meowing purring trilling hissing growling and grunting as well as cat body language. It can hear sounds too faint or too high in frequency for human ears such as those made by small mammals. It secretes and perceives pheromones.\n"
     ]
    },
    {
     "name": "stderr",
     "output_type": "stream",
     "text": [
      "127.0.0.1 - - [17/May/2024 13:39:18] \"POST /sum HTTP/1.1\" 200 -\n",
      "127.0.0.1 - - [17/May/2024 14:02:16] \"POST /length HTTP/1.1\" 200 -\n"
     ]
    },
    {
     "name": "stdout",
     "output_type": "stream",
     "text": [
      "LOG: Input length: 217\n",
      "LOG: Input length: 217\n",
      "LOG: Give the most important word in the text: The cat Felis catus commonly referred to as the domestic cat or house cat is a small domesticated carnivorous mammal. It is the only domesticated species of the family Felidae. Recent advances in archaeology and genetics have shown that the domestication of the cat occurred in the Near East around 7500 BC. It is commonly kept as a house pet and farm cat but also ranges freely as a feral cat avoiding human contact. It is valued by humans for companionship and its ability to kill vermin. Its retractable claws are adapted to killing small prey like mice and rats. It has a strong flexible body quick reflexes sharp teeth and its night vision and sense of smell are well developed. It is a social species but a solitary hunter and a crepuscular predator. Cat communication includes vocalizations like meowing purring trilling hissing growling and grunting as well as cat body language. It can hear sounds too faint or too high in frequency for human ears such as those made by small mammals. It secretes and perceives pheromones.\n"
     ]
    },
    {
     "name": "stderr",
     "output_type": "stream",
     "text": [
      "127.0.0.1 - - [17/May/2024 14:02:43] \"POST /title HTTP/1.1\" 200 -\n"
     ]
    },
    {
     "name": "stdout",
     "output_type": "stream",
     "text": [
      "LOG: Input length: 217\n",
      "LOG: Give the most important word in the text: The cat Felis catus commonly referred to as the domestic cat or house cat is a small domesticated carnivorous mammal. It is the only domesticated species of the family Felidae. Recent advances in archaeology and genetics have shown that the domestication of the cat occurred in the Near East around 7500 BC. It is commonly kept as a house pet and farm cat but also ranges freely as a feral cat avoiding human contact. It is valued by humans for companionship and its ability to kill vermin. Its retractable claws are adapted to killing small prey like mice and rats. It has a strong flexible body quick reflexes sharp teeth and its night vision and sense of smell are well developed. It is a social species but a solitary hunter and a crepuscular predator. Cat communication includes vocalizations like meowing purring trilling hissing growling and grunting as well as cat body language. It can hear sounds too faint or too high in frequency for human ears such as those made by small mammals. It secretes and perceives pheromones.\n"
     ]
    },
    {
     "name": "stderr",
     "output_type": "stream",
     "text": [
      "127.0.0.1 - - [17/May/2024 14:38:31] \"POST /title HTTP/1.1\" 200 -\n"
     ]
    }
   ],
   "source": [
    "from flask import Flask, request, jsonify\n",
    "from flask_cors import CORS\n",
    "import subprocess\n",
    "import re\n",
    "\n",
    "app = Flask(__name__)\n",
    "CORS(app)\n",
    "\n",
    "def req_length(text):\n",
    "    tokens = tokenizer(text)\n",
    "    tokens_length = len(tokens.attention_mask)\n",
    "    print('LOG: Input length: ' + str(tokens_length))\n",
    "    return tokens_length\n",
    "\n",
    "def req_to_json(title, text):\n",
    "    return jsonify({title : text})\n",
    "\n",
    "def req_process(command, text):\n",
    "    req = command + ' ' + text\n",
    "    print('LOG: ' + req)\n",
    "    return generate_text(req)\n",
    "\n",
    "def req_clean(text):\n",
    "    cleaned_text = text.replace('\\n', ' ').replace('\\r', ' ')\n",
    "    cleaned_text = re.sub(r'[^\\w\\s.]', '', cleaned_text)\n",
    "    return cleaned_text\n",
    "\n",
    "@app.route('/sum', methods=['POST'])\n",
    "def sum_req():\n",
    "    data = request.get_json()\n",
    "    print(data)\n",
    "    text = req_clean(data.get('text', ''))\n",
    "    if(req_length(text) <= 1024):\n",
    "        return req_to_json('response', req_process('Summarize in one sentence:', text))\n",
    "        #return req_to_json('response', \"TEST TEXT\")\n",
    "    else:\n",
    "        return req_to_json('error', 'Too long text. Limit is 1024 token.')\n",
    "\n",
    "@app.route('/key', methods=['POST'])\n",
    "def key_req():\n",
    "    data = request.get_json()\n",
    "    text = req_clean(data.get('text', ''))\n",
    "    if(req_length(text) <= 1024):\n",
    "        return req_to_json('response', req_process('Give some keywords from this text:', text))\n",
    "    else:\n",
    "        return req_to_json('error', 'Too long text. Limit is 1024 token.')\n",
    "\n",
    "@app.route('/title', methods=['POST'])\n",
    "def title_req():\n",
    "    data = request.get_json()\n",
    "    text = req_clean(data.get('text', ''))\n",
    "    if(req_length(text) <= 1024):\n",
    "        return req_to_json('response', req_process('Give the most important word in the text:', text))\n",
    "    else:\n",
    "        return req_to_json('error', 'Too long text. Limit is 1024 token.')\n",
    "\n",
    "@app.route('/length', methods=['POST'])\n",
    "def length_req():\n",
    "    data = request.get_json()\n",
    "    text = req_clean(data.get('text', ''))\n",
    "    ret = {'response': req_length(text)}\n",
    "    return jsonify(ret)\n",
    "\n",
    "if __name__ == '__main__':\n",
    "    app.run()"
   ]
  },
  {
   "cell_type": "code",
   "execution_count": null,
   "id": "827aed16-1f9f-4be7-94c1-85f2ce0ff482",
   "metadata": {},
   "outputs": [],
   "source": []
  }
 ],
 "metadata": {
  "kernelspec": {
   "display_name": "Python 3 (ipykernel)",
   "language": "python",
   "name": "python3"
  },
  "language_info": {
   "codemirror_mode": {
    "name": "ipython",
    "version": 3
   },
   "file_extension": ".py",
   "mimetype": "text/x-python",
   "name": "python",
   "nbconvert_exporter": "python",
   "pygments_lexer": "ipython3",
   "version": "3.10.11"
  }
 },
 "nbformat": 4,
 "nbformat_minor": 5
}
